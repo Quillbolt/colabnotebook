{
  "nbformat": 4,
  "nbformat_minor": 0,
  "metadata": {
    "colab": {
      "name": "ArcFace.ipynb",
      "provenance": [],
      "collapsed_sections": [],
      "mount_file_id": "1Z9AD0z286LQel_RtvQlQKWmoRaboorqA",
      "authorship_tag": "ABX9TyN+2hkYl+ZFJ8tCOLtVQWAA",
      "include_colab_link": true
    },
    "kernelspec": {
      "name": "python3",
      "display_name": "Python 3"
    }
  },
  "cells": [
    {
      "cell_type": "markdown",
      "metadata": {
        "id": "view-in-github",
        "colab_type": "text"
      },
      "source": [
        "<a href=\"https://colab.research.google.com/github/Quillbolt/colabnotebook/blob/main/ArcFace.ipynb\" target=\"_parent\"><img src=\"https://colab.research.google.com/assets/colab-badge.svg\" alt=\"Open In Colab\"/></a>"
      ]
    },
    {
      "cell_type": "code",
      "metadata": {
        "id": "El9ZWegIfM09",
        "colab": {
          "base_uri": "https://localhost:8080/"
        },
        "outputId": "ab2deca0-7762-453b-f5ad-518627e8f28f"
      },
      "source": [
        "!pip install mxnet"
      ],
      "execution_count": null,
      "outputs": [
        {
          "output_type": "stream",
          "text": [
            "Collecting mxnet\n",
            "\u001b[?25l  Downloading https://files.pythonhosted.org/packages/29/bb/54cbabe428351c06d10903c658878d29ee7026efbe45133fd133598d6eb6/mxnet-1.7.0.post1-py2.py3-none-manylinux2014_x86_64.whl (55.0MB)\n",
            "\u001b[K     |████████████████████████████████| 55.0MB 70kB/s \n",
            "\u001b[?25hCollecting graphviz<0.9.0,>=0.8.1\n",
            "  Downloading https://files.pythonhosted.org/packages/53/39/4ab213673844e0c004bed8a0781a0721a3f6bb23eb8854ee75c236428892/graphviz-0.8.4-py2.py3-none-any.whl\n",
            "Requirement already satisfied: numpy<2.0.0,>1.16.0 in /usr/local/lib/python3.6/dist-packages (from mxnet) (1.18.5)\n",
            "Requirement already satisfied: requests<3,>=2.20.0 in /usr/local/lib/python3.6/dist-packages (from mxnet) (2.23.0)\n",
            "Requirement already satisfied: idna<3,>=2.5 in /usr/local/lib/python3.6/dist-packages (from requests<3,>=2.20.0->mxnet) (2.10)\n",
            "Requirement already satisfied: urllib3!=1.25.0,!=1.25.1,<1.26,>=1.21.1 in /usr/local/lib/python3.6/dist-packages (from requests<3,>=2.20.0->mxnet) (1.24.3)\n",
            "Requirement already satisfied: certifi>=2017.4.17 in /usr/local/lib/python3.6/dist-packages (from requests<3,>=2.20.0->mxnet) (2020.6.20)\n",
            "Requirement already satisfied: chardet<4,>=3.0.2 in /usr/local/lib/python3.6/dist-packages (from requests<3,>=2.20.0->mxnet) (3.0.4)\n",
            "Installing collected packages: graphviz, mxnet\n",
            "  Found existing installation: graphviz 0.10.1\n",
            "    Uninstalling graphviz-0.10.1:\n",
            "      Successfully uninstalled graphviz-0.10.1\n",
            "Successfully installed graphviz-0.8.4 mxnet-1.7.0.post1\n"
          ],
          "name": "stdout"
        }
      ]
    },
    {
      "cell_type": "code",
      "metadata": {
        "id": "OAoEdl9Ie6XC"
      },
      "source": [
        "\n",
        "import cv2\n",
        "import sys\n",
        "import numpy as np\n",
        "import mxnet as mx\n",
        "import os\n",
        "from __future__ import absolute_import\n",
        "from __future__ import division\n",
        "from __future__ import print_function\n",
        "\n",
        "from scipy import misc\n",
        "import random\n",
        "import sklearn\n",
        "from sklearn.decomposition import PCA\n",
        "from time import sleep\n",
        "from easydict import EasyDict as edict\n",
        "# from mtcnn_detector import MtcnnDetector\n",
        "from skimage import transform as trans\n",
        "import matplotlib.pyplot as plt\n",
        "from mxnet.contrib.onnx.onnx2mx.import_model import import_model"
      ],
      "execution_count": null,
      "outputs": []
    },
    {
      "cell_type": "code",
      "metadata": {
        "id": "0XYjRYZzftCp"
      },
      "source": [
        "\n",
        "def get_model(ctx, model):\n",
        "    image_size = (112,112)\n",
        "    # Import ONNX model\n",
        "    sym, arg_params, aux_params = import_model(model)\n",
        "    # Define and binds parameters to the network\n",
        "    model = mx.mod.Module(symbol=sym, context=ctx, label_names = None)\n",
        "    model.bind(data_shapes=[('data', (1, 3, image_size[0], image_size[1]))])\n",
        "    model.set_params(arg_params, aux_params)\n",
        "    return model"
      ],
      "execution_count": null,
      "outputs": []
    },
    {
      "cell_type": "code",
      "metadata": {
        "id": "F1L49wlbftFR"
      },
      "source": [
        "for i in range(4):\n",
        "    mx.test_utils.download(dirname='mtcnn-model', url='https://s3.amazonaws.com/onnx-model-zoo/arcface/mtcnn-model/det{}-0001.params'.format(i+1))\n",
        "    mx.test_utils.download(dirname='mtcnn-model', url='https://s3.amazonaws.com/onnx-model-zoo/arcface/mtcnn-model/det{}-symbol.json'.format(i+1))\n",
        "    mx.test_utils.download(dirname='mtcnn-model', url='https://s3.amazonaws.com/onnx-model-zoo/arcface/mtcnn-model/det{}.caffemodel'.format(i+1))\n",
        "    mx.test_utils.download(dirname='mtcnn-model', url='https://s3.amazonaws.com/onnx-model-zoo/arcface/mtcnn-model/det{}.prototxt'.format(i+1))"
      ],
      "execution_count": null,
      "outputs": []
    },
    {
      "cell_type": "code",
      "metadata": {
        "id": "V4M1vQocg7_w"
      },
      "source": [
        "def nms(boxes, overlap_threshold, mode='Union'):\n",
        "    \"\"\"\n",
        "        non max suppression\n",
        "    Parameters:\n",
        "    ----------\n",
        "        box: numpy array n x 5\n",
        "            input bbox array\n",
        "        overlap_threshold: float number\n",
        "            threshold of overlap\n",
        "        mode: float number\n",
        "            how to compute overlap ratio, 'Union' or 'Min'\n",
        "    Returns:\n",
        "    -------\n",
        "        index array of the selected bbox\n",
        "    \"\"\"\n",
        "    # if there are no boxes, return an empty list\n",
        "    if len(boxes) == 0:\n",
        "        return []\n",
        "\n",
        "    # if the bounding boxes integers, convert them to floats\n",
        "    if boxes.dtype.kind == \"i\":\n",
        "        boxes = boxes.astype(\"float\")\n",
        "\n",
        "    # initialize the list of picked indexes\n",
        "    pick = []\n",
        "\n",
        "    # grab the coordinates of the bounding boxes\n",
        "    x1, y1, x2, y2, score = [boxes[:, i] for i in range(5)]\n",
        "\n",
        "    area = (x2 - x1 + 1) * (y2 - y1 + 1)\n",
        "    idxs = np.argsort(score)\n",
        "\n",
        "    # keep looping while some indexes still remain in the indexes list\n",
        "    while len(idxs) > 0:\n",
        "        # grab the last index in the indexes list and add the index value to the list of picked indexes\n",
        "        last = len(idxs) - 1\n",
        "        i = idxs[last]\n",
        "        pick.append(i)\n",
        "\n",
        "        xx1 = np.maximum(x1[i], x1[idxs[:last]])\n",
        "        yy1 = np.maximum(y1[i], y1[idxs[:last]])\n",
        "        xx2 = np.minimum(x2[i], x2[idxs[:last]])\n",
        "        yy2 = np.minimum(y2[i], y2[idxs[:last]])\n",
        "\n",
        "        # compute the width and height of the bounding box\n",
        "        w = np.maximum(0, xx2 - xx1 + 1)\n",
        "        h = np.maximum(0, yy2 - yy1 + 1)\n",
        "\n",
        "        inter = w * h\n",
        "        if mode == 'Min':\n",
        "            overlap = inter / np.minimum(area[i], area[idxs[:last]])\n",
        "        else:\n",
        "            overlap = inter / (area[i] + area[idxs[:last]] - inter)\n",
        "\n",
        "        # delete all indexes from the index list that have\n",
        "        idxs = np.delete(idxs, np.concatenate(([last],\n",
        "                                               np.where(overlap > overlap_threshold)[0])))\n",
        "\n",
        "    return pick\n",
        "\n",
        "def adjust_input(in_data):\n",
        "    \"\"\"\n",
        "        adjust the input from (h, w, c) to ( 1, c, h, w) for network input\n",
        "    Parameters:\n",
        "    ----------\n",
        "        in_data: numpy array of shape (h, w, c)\n",
        "            input data\n",
        "    Returns:\n",
        "    -------\n",
        "        out_data: numpy array of shape (1, c, h, w)\n",
        "            reshaped array\n",
        "    \"\"\"\n",
        "    if in_data.dtype is not np.dtype('float32'):\n",
        "        out_data = in_data.astype(np.float32)\n",
        "    else:\n",
        "        out_data = in_data\n",
        "\n",
        "    out_data = out_data.transpose((2,0,1))\n",
        "    out_data = np.expand_dims(out_data, 0)\n",
        "    out_data = (out_data - 127.5)*0.0078125\n",
        "    return out_data\n",
        "\n",
        "def generate_bbox(map, reg, scale, threshold):\n",
        "     \"\"\"\n",
        "         generate bbox from feature map\n",
        "     Parameters:\n",
        "     ----------\n",
        "         map: numpy array , n x m x 1\n",
        "             detect score for each position\n",
        "         reg: numpy array , n x m x 4\n",
        "             bbox\n",
        "         scale: float number\n",
        "             scale of this detection\n",
        "         threshold: float number\n",
        "             detect threshold\n",
        "     Returns:\n",
        "     -------\n",
        "         bbox array\n",
        "     \"\"\"\n",
        "     stride = 2\n",
        "     cellsize = 12\n",
        "\n",
        "     t_index = np.where(map>threshold)\n",
        "\n",
        "     # find nothing\n",
        "     if t_index[0].size == 0:\n",
        "         return np.array([])\n",
        "\n",
        "     dx1, dy1, dx2, dy2 = [reg[0, i, t_index[0], t_index[1]] for i in range(4)]\n",
        "\n",
        "     reg = np.array([dx1, dy1, dx2, dy2])\n",
        "     score = map[t_index[0], t_index[1]]\n",
        "     boundingbox = np.vstack([np.round((stride*t_index[1]+1)/scale),\n",
        "                              np.round((stride*t_index[0]+1)/scale),\n",
        "                              np.round((stride*t_index[1]+1+cellsize)/scale),\n",
        "                              np.round((stride*t_index[0]+1+cellsize)/scale),\n",
        "                              score,\n",
        "                              reg])\n",
        "\n",
        "     return boundingbox.T\n",
        "\n",
        "\n",
        "def detect_first_stage(img, net, scale, threshold):\n",
        "    \"\"\"\n",
        "        run PNet for first stage\n",
        "    \n",
        "    Parameters:\n",
        "    ----------\n",
        "        img: numpy array, bgr order\n",
        "            input image\n",
        "        scale: float number\n",
        "            how much should the input image scale\n",
        "        net: PNet\n",
        "            worker\n",
        "    Returns:\n",
        "    -------\n",
        "        total_boxes : bboxes\n",
        "    \"\"\"\n",
        "    height, width, _ = img.shape\n",
        "    hs = int(math.ceil(height * scale))\n",
        "    ws = int(math.ceil(width * scale))\n",
        "    \n",
        "    im_data = cv2.resize(img, (ws,hs))\n",
        "    \n",
        "    # adjust for the network input\n",
        "    input_buf = adjust_input(im_data)\n",
        "    output = net.predict(input_buf)\n",
        "    boxes = generate_bbox(output[1][0,1,:,:], output[0], scale, threshold)\n",
        "\n",
        "    if boxes.size == 0:\n",
        "        return None\n",
        "\n",
        "    # nms\n",
        "    pick = nms(boxes[:,0:5], 0.5, mode='Union')\n",
        "    boxes = boxes[pick]\n",
        "    return boxes\n",
        "\n",
        "def detect_first_stage_warpper( args ):\n",
        "    return detect_first_stage(*args)"
      ],
      "execution_count": null,
      "outputs": []
    },
    {
      "cell_type": "code",
      "metadata": {
        "id": "X-OD4Ox2gXA5"
      },
      "source": [
        "import os\n",
        "import mxnet as mx\n",
        "import numpy as np\n",
        "import math\n",
        "import cv2\n",
        "from multiprocessing import Pool\n",
        "from itertools import repeat\n",
        "# from itertools import zip\n",
        "# from helper import nms, adjust_input, generate_bbox, detect_first_stage_warpper\n",
        "\n",
        "class MtcnnDetector(object):\n",
        "    \"\"\"\n",
        "        Joint Face Detection and Alignment using Multi-task Cascaded Convolutional Neural Networks\n",
        "        see https://github.com/kpzhang93/MTCNN_face_detection_alignment\n",
        "        this is a mxnet version\n",
        "    \"\"\"\n",
        "    def __init__(self,\n",
        "                 model_folder='.',\n",
        "                 minsize = 20,\n",
        "                 threshold = [0.6, 0.7, 0.8],\n",
        "                 factor = 0.709,\n",
        "                 num_worker = 1,\n",
        "                 accurate_landmark = False,\n",
        "                 ctx=mx.cpu()):\n",
        "        \"\"\"\n",
        "            Initialize the detector\n",
        "            Parameters:\n",
        "            ----------\n",
        "                model_folder : string\n",
        "                    path for the models\n",
        "                minsize : float number\n",
        "                    minimal face to detect\n",
        "                threshold : float number\n",
        "                    detect threshold for 3 stages\n",
        "                factor: float number\n",
        "                    scale factor for image pyramid\n",
        "                num_worker: int number\n",
        "                    number of processes we use for first stage\n",
        "                accurate_landmark: bool\n",
        "                    use accurate landmark localization or not\n",
        "        \"\"\"\n",
        "        self.num_worker = num_worker\n",
        "        self.accurate_landmark = accurate_landmark\n",
        "\n",
        "        # load 4 models from folder\n",
        "        models = ['det1', 'det2', 'det3','det4']\n",
        "        models = [ os.path.join(model_folder, f) for f in models]\n",
        "        \n",
        "        self.PNets = []\n",
        "        for i in range(num_worker):\n",
        "            workner_net = mx.model.FeedForward.load(models[0], 1, ctx=ctx)\n",
        "            self.PNets.append(workner_net)\n",
        "\n",
        "        self.Pool = Pool(num_worker)\n",
        "\n",
        "        self.RNet = mx.model.FeedForward.load(models[1], 1, ctx=ctx)\n",
        "        self.ONet = mx.model.FeedForward.load(models[2], 1, ctx=ctx)\n",
        "        self.LNet = mx.model.FeedForward.load(models[3], 1, ctx=ctx)\n",
        "\n",
        "        self.minsize   = float(minsize)\n",
        "        self.factor    = float(factor)\n",
        "        self.threshold = threshold\n",
        "\n",
        "\n",
        "    def convert_to_square(self, bbox):\n",
        "        \"\"\"\n",
        "            convert bbox to square\n",
        "        Parameters:\n",
        "        ----------\n",
        "            bbox: numpy array , shape n x 5\n",
        "                input bbox\n",
        "        Returns:\n",
        "        -------\n",
        "            square bbox\n",
        "        \"\"\"\n",
        "        square_bbox = bbox.copy()\n",
        "\n",
        "        h = bbox[:, 3] - bbox[:, 1] + 1\n",
        "        w = bbox[:, 2] - bbox[:, 0] + 1\n",
        "        max_side = np.maximum(h,w)\n",
        "        square_bbox[:, 0] = bbox[:, 0] + w*0.5 - max_side*0.5\n",
        "        square_bbox[:, 1] = bbox[:, 1] + h*0.5 - max_side*0.5\n",
        "        square_bbox[:, 2] = square_bbox[:, 0] + max_side - 1\n",
        "        square_bbox[:, 3] = square_bbox[:, 1] + max_side - 1\n",
        "        return square_bbox\n",
        "\n",
        "    def calibrate_box(self, bbox, reg):\n",
        "        \"\"\"\n",
        "            calibrate bboxes\n",
        "        Parameters:\n",
        "        ----------\n",
        "            bbox: numpy array, shape n x 5\n",
        "                input bboxes\n",
        "            reg:  numpy array, shape n x 4\n",
        "                bboxex adjustment\n",
        "        Returns:\n",
        "        -------\n",
        "            bboxes after refinement\n",
        "        \"\"\"\n",
        "        w = bbox[:, 2] - bbox[:, 0] + 1\n",
        "        w = np.expand_dims(w, 1)\n",
        "        h = bbox[:, 3] - bbox[:, 1] + 1\n",
        "        h = np.expand_dims(h, 1)\n",
        "        reg_m = np.hstack([w, h, w, h])\n",
        "        aug = reg_m * reg\n",
        "        bbox[:, 0:4] = bbox[:, 0:4] + aug\n",
        "        return bbox\n",
        "\n",
        " \n",
        "    def pad(self, bboxes, w, h):\n",
        "        \"\"\"\n",
        "            pad the the bboxes, alse restrict the size of it\n",
        "        Parameters:\n",
        "        ----------\n",
        "            bboxes: numpy array, n x 5\n",
        "                input bboxes\n",
        "            w: float number\n",
        "                width of the input image\n",
        "            h: float number\n",
        "                height of the input image\n",
        "        Returns :\n",
        "        ------s\n",
        "            dy, dx : numpy array, n x 1\n",
        "                start point of the bbox in target image\n",
        "            edy, edx : numpy array, n x 1\n",
        "                end point of the bbox in target image\n",
        "            y, x : numpy array, n x 1\n",
        "                start point of the bbox in original image\n",
        "            ex, ex : numpy array, n x 1\n",
        "                end point of the bbox in original image\n",
        "            tmph, tmpw: numpy array, n x 1\n",
        "                height and width of the bbox\n",
        "        \"\"\"\n",
        "        tmpw, tmph = bboxes[:, 2] - bboxes[:, 0] + 1,  bboxes[:, 3] - bboxes[:, 1] + 1\n",
        "        num_box = bboxes.shape[0]\n",
        "\n",
        "        dx , dy= np.zeros((num_box, )), np.zeros((num_box, ))\n",
        "        edx, edy  = tmpw.copy()-1, tmph.copy()-1\n",
        "\n",
        "        x, y, ex, ey = bboxes[:, 0], bboxes[:, 1], bboxes[:, 2], bboxes[:, 3]\n",
        "\n",
        "        tmp_index = np.where(ex > w-1)\n",
        "        edx[tmp_index] = tmpw[tmp_index] + w - 2 - ex[tmp_index]\n",
        "        ex[tmp_index] = w - 1\n",
        "\n",
        "        tmp_index = np.where(ey > h-1)\n",
        "        edy[tmp_index] = tmph[tmp_index] + h - 2 - ey[tmp_index]\n",
        "        ey[tmp_index] = h - 1\n",
        "\n",
        "        tmp_index = np.where(x < 0)\n",
        "        dx[tmp_index] = 0 - x[tmp_index]\n",
        "        x[tmp_index] = 0\n",
        "\n",
        "        tmp_index = np.where(y < 0)\n",
        "        dy[tmp_index] = 0 - y[tmp_index]\n",
        "        y[tmp_index] = 0\n",
        "\n",
        "        return_list = [dy, edy, dx, edx, y, ey, x, ex, tmpw, tmph]\n",
        "        return_list = [item.astype(np.int32) for item in return_list]\n",
        "\n",
        "        return  return_list\n",
        "\n",
        "    def slice_index(self, number):\n",
        "        \"\"\"\n",
        "            slice the index into (n,n,m), m < n\n",
        "        Parameters:\n",
        "        ----------\n",
        "            number: int number\n",
        "                number\n",
        "        \"\"\"\n",
        "        def chunks(l, n):\n",
        "            \"\"\"Yield successive n-sized chunks from l.\"\"\"\n",
        "            for i in range(0, len(l), n):\n",
        "                yield l[i:i + n]\n",
        "        num_list = range(number)\n",
        "        return list(chunks(num_list, self.num_worker))\n",
        "        \n",
        "\n",
        "    def detect_face(self, img):\n",
        "        \"\"\"\n",
        "            detect face over img\n",
        "        Parameters:\n",
        "        ----------\n",
        "            img: numpy array, bgr order of shape (1, 3, n, m)\n",
        "                input image\n",
        "        Retures:\n",
        "        -------\n",
        "            bboxes: numpy array, n x 5 (x1,y2,x2,y2,score)\n",
        "                bboxes\n",
        "            points: numpy array, n x 10 (x1, x2 ... x5, y1, y2 ..y5)\n",
        "                landmarks\n",
        "        \"\"\"\n",
        "\n",
        "        # check input\n",
        "        MIN_DET_SIZE = 12\n",
        "\n",
        "        if img is None:\n",
        "            return None\n",
        "\n",
        "        # only works for color image\n",
        "        if len(img.shape) != 3:\n",
        "            return None\n",
        "\n",
        "        # detected boxes\n",
        "        total_boxes = []\n",
        "\n",
        "        height, width, _ = img.shape\n",
        "        minl = min( height, width)\n",
        "\n",
        "        # get all the valid scales\n",
        "        scales = []\n",
        "        m = MIN_DET_SIZE/self.minsize\n",
        "        minl *= m\n",
        "        factor_count = 0\n",
        "        while minl > MIN_DET_SIZE:\n",
        "            scales.append(m*self.factor**factor_count)\n",
        "            minl *= self.factor\n",
        "            factor_count += 1\n",
        "\n",
        "        #############################################\n",
        "        # first stage\n",
        "        #############################################\n",
        "        #for scale in scales:\n",
        "        #    return_boxes = self.detect_first_stage(img, scale, 0)\n",
        "        #    if return_boxes is not None:\n",
        "        #        total_boxes.append(return_boxes)\n",
        "        \n",
        "        sliced_index = self.slice_index(len(scales))\n",
        "        total_boxes = []\n",
        "        for batch in sliced_index:\n",
        "            local_boxes = self.Pool.map( detect_first_stage_warpper, \\\n",
        "                    zip(repeat(img), self.PNets[:len(batch)], [scales[i] for i in batch], repeat(self.threshold[0])) )\n",
        "            total_boxes.extend(local_boxes)\n",
        "        \n",
        "        # remove the Nones \n",
        "        total_boxes = [ i for i in total_boxes if i is not None]\n",
        "\n",
        "        if len(total_boxes) == 0:\n",
        "            return None\n",
        "        \n",
        "        total_boxes = np.vstack(total_boxes)\n",
        "\n",
        "        if total_boxes.size == 0:\n",
        "            return None\n",
        "\n",
        "        # merge the detection from first stage\n",
        "        pick = nms(total_boxes[:, 0:5], 0.7, 'Union')\n",
        "        total_boxes = total_boxes[pick]\n",
        "\n",
        "        bbw = total_boxes[:, 2] - total_boxes[:, 0] + 1\n",
        "        bbh = total_boxes[:, 3] - total_boxes[:, 1] + 1\n",
        "\n",
        "        # refine the bboxes\n",
        "        total_boxes = np.vstack([total_boxes[:, 0]+total_boxes[:, 5] * bbw,\n",
        "                                 total_boxes[:, 1]+total_boxes[:, 6] * bbh,\n",
        "                                 total_boxes[:, 2]+total_boxes[:, 7] * bbw,\n",
        "                                 total_boxes[:, 3]+total_boxes[:, 8] * bbh,\n",
        "                                 total_boxes[:, 4]\n",
        "                                 ])\n",
        "\n",
        "        total_boxes = total_boxes.T\n",
        "        total_boxes = self.convert_to_square(total_boxes)\n",
        "        total_boxes[:, 0:4] = np.round(total_boxes[:, 0:4])\n",
        "\n",
        "        #############################################\n",
        "        # second stage\n",
        "        #############################################\n",
        "        num_box = total_boxes.shape[0]\n",
        "\n",
        "        # pad the bbox\n",
        "        [dy, edy, dx, edx, y, ey, x, ex, tmpw, tmph] = self.pad(total_boxes, width, height)\n",
        "        # (3, 24, 24) is the input shape for RNet\n",
        "        input_buf = np.zeros((num_box, 3, 24, 24), dtype=np.float32)\n",
        "\n",
        "        for i in range(num_box):\n",
        "            tmp = np.zeros((tmph[i], tmpw[i], 3), dtype=np.uint8)\n",
        "            tmp[dy[i]:edy[i]+1, dx[i]:edx[i]+1, :] = img[y[i]:ey[i]+1, x[i]:ex[i]+1, :]\n",
        "            input_buf[i, :, :, :] = adjust_input(cv2.resize(tmp, (24, 24)))\n",
        "\n",
        "        output = self.RNet.predict(input_buf)\n",
        "\n",
        "        # filter the total_boxes with threshold\n",
        "        passed = np.where(output[1][:, 1] > self.threshold[1])\n",
        "        total_boxes = total_boxes[passed]\n",
        "\n",
        "        if total_boxes.size == 0:\n",
        "            return None\n",
        "\n",
        "        total_boxes[:, 4] = output[1][passed, 1].reshape((-1,))\n",
        "        reg = output[0][passed]\n",
        "\n",
        "        # nms\n",
        "        pick = nms(total_boxes, 0.7, 'Union')\n",
        "        total_boxes = total_boxes[pick]\n",
        "        total_boxes = self.calibrate_box(total_boxes, reg[pick])\n",
        "        total_boxes = self.convert_to_square(total_boxes)\n",
        "        total_boxes[:, 0:4] = np.round(total_boxes[:, 0:4])\n",
        "\n",
        "        #############################################\n",
        "        # third stage\n",
        "        #############################################\n",
        "        num_box = total_boxes.shape[0]\n",
        "\n",
        "        # pad the bbox\n",
        "        [dy, edy, dx, edx, y, ey, x, ex, tmpw, tmph] = self.pad(total_boxes, width, height)\n",
        "        # (3, 48, 48) is the input shape for ONet\n",
        "        input_buf = np.zeros((num_box, 3, 48, 48), dtype=np.float32)\n",
        "\n",
        "        for i in range(num_box):\n",
        "            tmp = np.zeros((tmph[i], tmpw[i], 3), dtype=np.float32)\n",
        "            tmp[dy[i]:edy[i]+1, dx[i]:edx[i]+1, :] = img[y[i]:ey[i]+1, x[i]:ex[i]+1, :]\n",
        "            input_buf[i, :, :, :] = adjust_input(cv2.resize(tmp, (48, 48)))\n",
        "\n",
        "        output = self.ONet.predict(input_buf)\n",
        "\n",
        "        # filter the total_boxes with threshold\n",
        "        passed = np.where(output[2][:, 1] > self.threshold[2])\n",
        "        total_boxes = total_boxes[passed]\n",
        "\n",
        "        if total_boxes.size == 0:\n",
        "            return None\n",
        "\n",
        "        total_boxes[:, 4] = output[2][passed, 1].reshape((-1,))\n",
        "        reg = output[1][passed]\n",
        "        points = output[0][passed]\n",
        "\n",
        "        # compute landmark points\n",
        "        bbw = total_boxes[:, 2] - total_boxes[:, 0] + 1\n",
        "        bbh = total_boxes[:, 3] - total_boxes[:, 1] + 1\n",
        "        points[:, 0:5] = np.expand_dims(total_boxes[:, 0], 1) + np.expand_dims(bbw, 1) * points[:, 0:5]\n",
        "        points[:, 5:10] = np.expand_dims(total_boxes[:, 1], 1) + np.expand_dims(bbh, 1) * points[:, 5:10]\n",
        "\n",
        "        # nms\n",
        "        total_boxes = self.calibrate_box(total_boxes, reg)\n",
        "        pick = nms(total_boxes, 0.7, 'Min')\n",
        "        total_boxes = total_boxes[pick]\n",
        "        points = points[pick]\n",
        "        \n",
        "        if not self.accurate_landmark:\n",
        "            return total_boxes, points\n",
        "\n",
        "        #############################################\n",
        "        # extended stage\n",
        "        #############################################\n",
        "        num_box = total_boxes.shape[0]\n",
        "        patchw = np.maximum(total_boxes[:, 2]-total_boxes[:, 0]+1, total_boxes[:, 3]-total_boxes[:, 1]+1)\n",
        "        patchw = np.round(patchw*0.25)\n",
        "\n",
        "        # make it even\n",
        "        patchw[np.where(np.mod(patchw,2) == 1)] += 1\n",
        "\n",
        "        input_buf = np.zeros((num_box, 15, 24, 24), dtype=np.float32)\n",
        "        for i in range(5):\n",
        "            x, y = points[:, i], points[:, i+5]\n",
        "            x, y = np.round(x-0.5*patchw), np.round(y-0.5*patchw)\n",
        "            [dy, edy, dx, edx, y, ey, x, ex, tmpw, tmph] = self.pad(np.vstack([x, y, x+patchw-1, y+patchw-1]).T,\n",
        "                                                                    width,\n",
        "                                                                    height)\n",
        "            for j in range(num_box):\n",
        "                tmpim = np.zeros((tmpw[j], tmpw[j], 3), dtype=np.float32)\n",
        "                tmpim[dy[j]:edy[j]+1, dx[j]:edx[j]+1, :] = img[y[j]:ey[j]+1, x[j]:ex[j]+1, :]\n",
        "                input_buf[j, i*3:i*3+3, :, :] = adjust_input(cv2.resize(tmpim, (24, 24)))\n",
        "\n",
        "        output = self.LNet.predict(input_buf)\n",
        "\n",
        "        pointx = np.zeros((num_box, 5))\n",
        "        pointy = np.zeros((num_box, 5))\n",
        "\n",
        "        for k in range(5):\n",
        "            # do not make a large movement\n",
        "            tmp_index = np.where(np.abs(output[k]-0.5) > 0.35)\n",
        "            output[k][tmp_index[0]] = 0.5\n",
        "\n",
        "            pointx[:, k] = np.round(points[:, k] - 0.5*patchw) + output[k][:, 0]*patchw\n",
        "            pointy[:, k] = np.round(points[:, k+5] - 0.5*patchw) + output[k][:, 1]*patchw\n",
        "\n",
        "        points = np.hstack([pointx, pointy])\n",
        "        points = points.astype(np.int32)\n",
        "\n",
        "        return total_boxes, points\n",
        "\n",
        "    def list2colmatrix(self, pts_list):\n",
        "        \"\"\"\n",
        "            convert list to column matrix\n",
        "        Parameters:\n",
        "        ----------\n",
        "            pts_list:\n",
        "                input list\n",
        "        Retures:\n",
        "        -------\n",
        "            colMat: \n",
        "        \"\"\"\n",
        "        assert len(pts_list) > 0\n",
        "        colMat = []\n",
        "        for i in range(len(pts_list)):\n",
        "            colMat.append(pts_list[i][0])\n",
        "            colMat.append(pts_list[i][1])\n",
        "        colMat = np.matrix(colMat).transpose()\n",
        "        return colMat\n",
        "\n",
        "    def find_tfrom_between_shapes(self, from_shape, to_shape):\n",
        "        \"\"\"\n",
        "            find transform between shapes\n",
        "        Parameters:\n",
        "        ----------\n",
        "            from_shape: \n",
        "            to_shape: \n",
        "        Retures:\n",
        "        -------\n",
        "            tran_m:\n",
        "            tran_b:\n",
        "        \"\"\"\n",
        "        assert from_shape.shape[0] == to_shape.shape[0] and from_shape.shape[0] % 2 == 0\n",
        "\n",
        "        sigma_from = 0.0\n",
        "        sigma_to = 0.0\n",
        "        cov = np.matrix([[0.0, 0.0], [0.0, 0.0]])\n",
        "\n",
        "        # compute the mean and cov\n",
        "        from_shape_points = from_shape.reshape(from_shape.shape[0]/2, 2)\n",
        "        to_shape_points = to_shape.reshape(to_shape.shape[0]/2, 2)\n",
        "        mean_from = from_shape_points.mean(axis=0)\n",
        "        mean_to = to_shape_points.mean(axis=0)\n",
        "\n",
        "        for i in range(from_shape_points.shape[0]):\n",
        "            temp_dis = np.linalg.norm(from_shape_points[i] - mean_from)\n",
        "            sigma_from += temp_dis * temp_dis\n",
        "            temp_dis = np.linalg.norm(to_shape_points[i] - mean_to)\n",
        "            sigma_to += temp_dis * temp_dis\n",
        "            cov += (to_shape_points[i].transpose() - mean_to.transpose()) * (from_shape_points[i] - mean_from)\n",
        "\n",
        "        sigma_from = sigma_from / to_shape_points.shape[0]\n",
        "        sigma_to = sigma_to / to_shape_points.shape[0]\n",
        "        cov = cov / to_shape_points.shape[0]\n",
        "\n",
        "        # compute the affine matrix\n",
        "        s = np.matrix([[1.0, 0.0], [0.0, 1.0]])\n",
        "        u, d, vt = np.linalg.svd(cov)\n",
        "\n",
        "        if np.linalg.det(cov) < 0:\n",
        "            if d[1] < d[0]:\n",
        "                s[1, 1] = -1\n",
        "            else:\n",
        "                s[0, 0] = -1\n",
        "        r = u * s * vt\n",
        "        c = 1.0\n",
        "        if sigma_from != 0:\n",
        "            c = 1.0 / sigma_from * np.trace(np.diag(d) * s)\n",
        "\n",
        "        tran_b = mean_to.transpose() - c * r * mean_from.transpose()\n",
        "        tran_m = c * r\n",
        "\n",
        "        return tran_m, tran_b\n",
        "\n",
        "    def extract_image_chips(self, img, points, desired_size=256, padding=0):\n",
        "        \"\"\"\n",
        "            crop and align face\n",
        "        Parameters:\n",
        "        ----------\n",
        "            img: numpy array, bgr order of shape (1, 3, n, m)\n",
        "                input image\n",
        "            points: numpy array, n x 10 (x1, x2 ... x5, y1, y2 ..y5)\n",
        "            desired_size: default 256\n",
        "            padding: default 0\n",
        "        Retures:\n",
        "        -------\n",
        "            crop_imgs: list, n\n",
        "                cropped and aligned faces \n",
        "        \"\"\"\n",
        "        crop_imgs = []\n",
        "        for p in points:\n",
        "            shape  =[]\n",
        "            for k in range(len(p)/2):\n",
        "                shape.append(p[k])\n",
        "                shape.append(p[k+5])\n",
        "\n",
        "            if padding > 0:\n",
        "                padding = padding\n",
        "            else:\n",
        "                padding = 0\n",
        "            # average positions of face points\n",
        "            mean_face_shape_x = [0.224152, 0.75610125, 0.490127, 0.254149, 0.726104]\n",
        "            mean_face_shape_y = [0.2119465, 0.2119465, 0.628106, 0.780233, 0.780233]\n",
        "\n",
        "            from_points = []\n",
        "            to_points = []\n",
        "\n",
        "            for i in range(len(shape)/2):\n",
        "                x = (padding + mean_face_shape_x[i]) / (2 * padding + 1) * desired_size\n",
        "                y = (padding + mean_face_shape_y[i]) / (2 * padding + 1) * desired_size\n",
        "                to_points.append([x, y])\n",
        "                from_points.append([shape[2*i], shape[2*i+1]])\n",
        "\n",
        "            # convert the points to Mat\n",
        "            from_mat = self.list2colmatrix(from_points)\n",
        "            to_mat = self.list2colmatrix(to_points)\n",
        "\n",
        "            # compute the similar transfrom\n",
        "            tran_m, tran_b = self.find_tfrom_between_shapes(from_mat, to_mat)\n",
        "\n",
        "            probe_vec = np.matrix([1.0, 0.0]).transpose()\n",
        "            probe_vec = tran_m * probe_vec\n",
        "\n",
        "            scale = np.linalg.norm(probe_vec)\n",
        "            angle = 180.0 / math.pi * math.atan2(probe_vec[1, 0], probe_vec[0, 0])\n",
        "\n",
        "            from_center = [(shape[0]+shape[2])/2.0, (shape[1]+shape[3])/2.0]\n",
        "            to_center = [0, 0]\n",
        "            to_center[1] = desired_size * 0.4\n",
        "            to_center[0] = desired_size * 0.5\n",
        "\n",
        "            ex = to_center[0] - from_center[0]\n",
        "            ey = to_center[1] - from_center[1]\n",
        "\n",
        "            rot_mat = cv2.getRotationMatrix2D((from_center[0], from_center[1]), -1*angle, scale)\n",
        "            rot_mat[0][2] += ex\n",
        "            rot_mat[1][2] += ey\n",
        "\n",
        "            chips = cv2.warpAffine(img, rot_mat, (desired_size, desired_size))\n",
        "            crop_imgs.append(chips)\n",
        "\n",
        "        return crop_imgs\n"
      ],
      "execution_count": null,
      "outputs": []
    },
    {
      "cell_type": "code",
      "metadata": {
        "id": "pkulW4w8ftHt"
      },
      "source": [
        "\n",
        "# Determine and set context\n",
        "if len(mx.test_utils.list_gpus())==0:\n",
        "    ctx = mx.cpu()\n",
        "else:\n",
        "    ctx = mx.gpu(0)\n",
        "# Configure face detector\n",
        "det_threshold = [0.6,0.7,0.8]\n",
        "mtcnn_path = os.path.join(os.path.dirname('__file__'), 'mtcnn-model')\n",
        "detector = MtcnnDetector(model_folder=mtcnn_path, ctx=ctx, num_worker=1, accurate_landmark = True, threshold=det_threshold)"
      ],
      "execution_count": null,
      "outputs": []
    },
    {
      "cell_type": "code",
      "metadata": {
        "id": "ImF4uMnfftKE"
      },
      "source": [
        "def preprocess(img, bbox=None, landmark=None, **kwargs):\n",
        "    M = None\n",
        "    image_size = []\n",
        "    str_image_size = kwargs.get('image_size', '')\n",
        "    # Assert input shape\n",
        "    if len(str_image_size)>0:\n",
        "        image_size = [int(x) for x in str_image_size.split(',')]\n",
        "        if len(image_size)==1:\n",
        "            image_size = [image_size[0], image_size[0]]\n",
        "        assert len(image_size)==2\n",
        "        assert image_size[0]==112\n",
        "        assert image_size[0]==112 or image_size[1]==96\n",
        "    \n",
        "    # Do alignment using landmark points\n",
        "    if landmark is not None:\n",
        "        assert len(image_size)==2\n",
        "        src = np.array([\n",
        "          [30.2946, 51.6963],\n",
        "          [65.5318, 51.5014],\n",
        "          [48.0252, 71.7366],\n",
        "          [33.5493, 92.3655],\n",
        "          [62.7299, 92.2041] ], dtype=np.float32 )\n",
        "        if image_size[1]==112:\n",
        "            src[:,0] += 8.0\n",
        "        dst = landmark.astype(np.float32)\n",
        "        tform = trans.SimilarityTransform()\n",
        "        tform.estimate(dst, src)\n",
        "        M = tform.params[0:2,:]\n",
        "        assert len(image_size)==2\n",
        "        warped = cv2.warpAffine(img,M,(image_size[1],image_size[0]), borderValue = 0.0)\n",
        "        return warped\n",
        "    \n",
        "    # If no landmark points available, do alignment using bounding box. If no bounding box available use center crop\n",
        "    if M is None:\n",
        "        if bbox is None:\n",
        "            det = np.zeros(4, dtype=np.int32)\n",
        "            det[0] = int(img.shape[1]*0.0625)\n",
        "            det[1] = int(img.shape[0]*0.0625)\n",
        "            det[2] = img.shape[1] - det[0]\n",
        "            det[3] = img.shape[0] - det[1]\n",
        "        else:\n",
        "            det = bbox\n",
        "        margin = kwargs.get('margin', 44)\n",
        "        bb = np.zeros(4, dtype=np.int32)\n",
        "        bb[0] = np.maximum(det[0]-margin/2, 0)\n",
        "        bb[1] = np.maximum(det[1]-margin/2, 0)\n",
        "        bb[2] = np.minimum(det[2]+margin/2, img.shape[1])\n",
        "        bb[3] = np.minimum(det[3]+margin/2, img.shape[0])\n",
        "        ret = img[bb[1]:bb[3],bb[0]:bb[2],:]\n",
        "        if len(image_size)>0:\n",
        "            ret = cv2.resize(ret, (image_size[1], image_size[0]))\n",
        "        return ret\n",
        "    \n",
        "def get_input(detector,face_img):\n",
        "    # Pass input images through face detector\n",
        "    ret = detector.detect_face(face_img)\n",
        "    if ret is None:\n",
        "        return None\n",
        "    bbox, points = ret\n",
        "    if bbox.shape[0]==0:\n",
        "        return None\n",
        "    bbox = bbox[0,0:4]\n",
        "    points = points[0,:].reshape((2,5)).T\n",
        "    # Call preprocess() to generate aligned images\n",
        "    nimg = preprocess(face_img, bbox, points, image_size='112,112')\n",
        "    nimg = cv2.cvtColor(nimg, cv2.COLOR_BGR2RGB)\n",
        "    aligned = np.transpose(nimg, (2,0,1))\n",
        "    return aligned"
      ],
      "execution_count": null,
      "outputs": []
    },
    {
      "cell_type": "code",
      "metadata": {
        "id": "HcD_-z11ftMS"
      },
      "source": [
        "def get_feature(model,aligned):\n",
        "    input_blob = np.expand_dims(aligned, axis=0)\n",
        "    data = mx.nd.array(input_blob)\n",
        "    db = mx.io.DataBatch(data=(data,))\n",
        "    model.forward(db, is_train=False)\n",
        "    embedding = model.get_outputs()[0].asnumpy()\n",
        "    embedding = sklearn.preprocessing.normalize(embedding).flatten()\n",
        "    return embedding"
      ],
      "execution_count": null,
      "outputs": []
    },
    {
      "cell_type": "code",
      "metadata": {
        "id": "S9K0QLm7iEoD",
        "colab": {
          "base_uri": "https://localhost:8080/",
          "height": 35
        },
        "outputId": "1b7cbc1e-c308-4b9d-80f4-65929656ae24"
      },
      "source": [
        "# Download first image\n",
        "mx.test_utils.download('https://s3.amazonaws.com/onnx-model-zoo/arcface/player1.jpg')\n",
        "# Download second image\n",
        "mx.test_utils.download('https://s3.amazonaws.com/onnx-model-zoo/arcface/player2.jpg')\n",
        "# Download onnx model\n",
        "mx.test_utils.download('https://s3.amazonaws.com/onnx-model-zoo/arcface/resnet100.onnx')"
      ],
      "execution_count": null,
      "outputs": [
        {
          "output_type": "execute_result",
          "data": {
            "application/vnd.google.colaboratory.intrinsic+json": {
              "type": "string"
            },
            "text/plain": [
              "'resnet100.onnx'"
            ]
          },
          "metadata": {
            "tags": []
          },
          "execution_count": 10
        }
      ]
    },
    {
      "cell_type": "code",
      "metadata": {
        "id": "XETzPq5jiP3N"
      },
      "source": [
        "model_name = '/content/resnet100.onnx'"
      ],
      "execution_count": null,
      "outputs": []
    },
    {
      "cell_type": "code",
      "metadata": {
        "id": "jKMSkyQwijK9",
        "colab": {
          "base_uri": "https://localhost:8080/"
        },
        "outputId": "29e3d994-0def-42df-a8e0-92461260aab0"
      },
      "source": [
        "!pip install onnx"
      ],
      "execution_count": null,
      "outputs": [
        {
          "output_type": "stream",
          "text": [
            "Collecting onnx\n",
            "\u001b[?25l  Downloading https://files.pythonhosted.org/packages/2a/82/e8d0fb64df623a3b716145192ed50604f444889778b37e0e9262753d5046/onnx-1.8.0-cp36-cp36m-manylinux2010_x86_64.whl (7.7MB)\n",
            "\u001b[K     |████████████████████████████████| 7.7MB 3.2MB/s \n",
            "\u001b[?25hRequirement already satisfied: protobuf in /usr/local/lib/python3.6/dist-packages (from onnx) (3.12.4)\n",
            "Requirement already satisfied: six in /usr/local/lib/python3.6/dist-packages (from onnx) (1.15.0)\n",
            "Requirement already satisfied: typing-extensions>=3.6.2.1 in /usr/local/lib/python3.6/dist-packages (from onnx) (3.7.4.3)\n",
            "Requirement already satisfied: numpy in /usr/local/lib/python3.6/dist-packages (from onnx) (1.18.5)\n",
            "Requirement already satisfied: setuptools in /usr/local/lib/python3.6/dist-packages (from protobuf->onnx) (50.3.2)\n",
            "Installing collected packages: onnx\n",
            "Successfully installed onnx-1.8.0\n"
          ],
          "name": "stdout"
        }
      ]
    },
    {
      "cell_type": "code",
      "metadata": {
        "id": "hxZYJrlZiE_4"
      },
      "source": [
        "model = get_model(ctx , model_name)"
      ],
      "execution_count": null,
      "outputs": []
    },
    {
      "cell_type": "code",
      "metadata": {
        "id": "hlmPJKvnSOmd"
      },
      "source": [
        "import numpy as np\n",
        "from sklearn.model_selection import KFold\n",
        "from sklearn.decomposition import PCA\n",
        "import sklearn\n",
        "from scipy import interpolate\n",
        "from scipy.spatial.distance import pdist\n",
        "\n",
        "\n",
        "# Support: ['calculate_roc', 'calculate_accuracy', 'calculate_val', 'calculate_val_far', 'evaluate']\n",
        "\n",
        "\n",
        "def calculate_roc(thresholds, embeddings1, embeddings2, actual_issame, nrof_folds = 10, pca = 0):\n",
        "    assert (embeddings1.shape[0] == embeddings2.shape[0])\n",
        "    assert (embeddings1.shape[1] == embeddings2.shape[1])\n",
        "    nrof_pairs = min(len(actual_issame), embeddings1.shape[0])\n",
        "    nrof_thresholds = len(thresholds)\n",
        "    k_fold = KFold(n_splits = nrof_folds, shuffle = False)\n",
        "\n",
        "    tprs = np.zeros((nrof_folds, nrof_thresholds))\n",
        "    fprs = np.zeros((nrof_folds, nrof_thresholds))\n",
        "    accuracy = np.zeros((nrof_folds))\n",
        "    best_thresholds = np.zeros((nrof_folds))\n",
        "    indices = np.arange(nrof_pairs)\n",
        "    # print('pca', pca)\n",
        "\n",
        "    if pca == 0:\n",
        "        diff = np.subtract(embeddings1, embeddings2)\n",
        "        dist = np.sum(np.square(diff), 1)\n",
        "        # dist = pdist(np.vstack([embeddings1, embeddings2]), 'cosine')\n",
        "\n",
        "    for fold_idx, (train_set, test_set) in enumerate(k_fold.split(indices)):\n",
        "        # print('train_set', train_set)\n",
        "        # print('test_set', test_set)\n",
        "        if pca > 0:\n",
        "            print(\"doing pca on\", fold_idx)\n",
        "            embed1_train = embeddings1[train_set]\n",
        "            embed2_train = embeddings2[train_set]\n",
        "            _embed_train = np.concatenate((embed1_train, embed2_train), axis = 0)\n",
        "            # print(_embed_train.shape)\n",
        "            pca_model = PCA(n_components = pca)\n",
        "            pca_model.fit(_embed_train)\n",
        "            embed1 = pca_model.transform(embeddings1)\n",
        "            embed2 = pca_model.transform(embeddings2)\n",
        "            embed1 = sklearn.preprocessing.normalize(embed1)\n",
        "            embed2 = sklearn.preprocessing.normalize(embed2)\n",
        "            # print(embed1.shape, embed2.shape)\n",
        "            diff = np.subtract(embed1, embed2)\n",
        "            dist = np.sum(np.square(diff), 1)\n",
        "\n",
        "        # Find the best threshold for the fold\n",
        "        acc_train = np.zeros((nrof_thresholds))\n",
        "        for threshold_idx, threshold in enumerate(thresholds):\n",
        "            _, _, acc_train[threshold_idx] = calculate_accuracy(threshold, dist[train_set], actual_issame[train_set])\n",
        "        best_threshold_index = np.argmax(acc_train)\n",
        "#         print('best_threshold_index', best_threshold_index, acc_train[best_threshold_index])\n",
        "        best_thresholds[fold_idx] = thresholds[best_threshold_index]\n",
        "        for threshold_idx, threshold in enumerate(thresholds):\n",
        "            tprs[fold_idx, threshold_idx], fprs[fold_idx, threshold_idx], _ = calculate_accuracy(threshold,\n",
        "                                                                                                 dist[test_set],\n",
        "                                                                                                 actual_issame[\n",
        "                                                                                                     test_set])\n",
        "        _, _, accuracy[fold_idx] = calculate_accuracy(thresholds[best_threshold_index], dist[test_set], actual_issame[test_set])\n",
        "\n",
        "    tpr = np.mean(tprs, 0)\n",
        "    fpr = np.mean(fprs, 0)\n",
        "    return tpr, fpr, accuracy, best_thresholds\n",
        "\n",
        "\n",
        "def calculate_accuracy(threshold, dist, actual_issame):\n",
        "    predict_issame = np.less(dist, threshold)\n",
        "    tp = np.sum(np.logical_and(predict_issame, actual_issame))\n",
        "    fp = np.sum(np.logical_and(predict_issame, np.logical_not(actual_issame)))\n",
        "    tn = np.sum(np.logical_and(np.logical_not(predict_issame), np.logical_not(actual_issame)))\n",
        "    fn = np.sum(np.logical_and(np.logical_not(predict_issame), actual_issame))\n",
        "\n",
        "    tpr = 0 if (tp + fn == 0) else float(tp) / float(tp + fn)\n",
        "    fpr = 0 if (fp + tn == 0) else float(fp) / float(fp + tn)\n",
        "    acc = float(tp + tn) / dist.size\n",
        "    return tpr, fpr, acc\n",
        "\n",
        "\n",
        "def calculate_val(thresholds, embeddings1, embeddings2, actual_issame, far_target, nrof_folds = 10):\n",
        "    '''\n",
        "    Copy from [insightface](https://github.com/deepinsight/insightface)\n",
        "    :param thresholds:\n",
        "    :param embeddings1:\n",
        "    :param embeddings2:\n",
        "    :param actual_issame:\n",
        "    :param far_target:\n",
        "    :param nrof_folds:\n",
        "    :return:\n",
        "    '''\n",
        "    assert (embeddings1.shape[0] == embeddings2.shape[0])\n",
        "    assert (embeddings1.shape[1] == embeddings2.shape[1])\n",
        "    nrof_pairs = min(len(actual_issame), embeddings1.shape[0])\n",
        "    nrof_thresholds = len(thresholds)\n",
        "    k_fold = KFold(n_splits = nrof_folds, shuffle = False)\n",
        "\n",
        "    val = np.zeros(nrof_folds)\n",
        "    far = np.zeros(nrof_folds)\n",
        "\n",
        "    diff = np.subtract(embeddings1, embeddings2)\n",
        "    dist = np.sum(np.square(diff), 1)\n",
        "    indices = np.arange(nrof_pairs)\n",
        "\n",
        "    for fold_idx, (train_set, test_set) in enumerate(k_fold.split(indices)):\n",
        "\n",
        "        # Find the threshold that gives FAR = far_target\n",
        "        far_train = np.zeros(nrof_thresholds)\n",
        "        for threshold_idx, threshold in enumerate(thresholds):\n",
        "            _, far_train[threshold_idx] = calculate_val_far(threshold, dist[train_set], actual_issame[train_set])\n",
        "        if np.max(far_train) >= far_target:\n",
        "            f = interpolate.interp1d(far_train, thresholds, kind = 'slinear')\n",
        "            threshold = f(far_target)\n",
        "        else:\n",
        "            threshold = 0.0\n",
        "\n",
        "        val[fold_idx], far[fold_idx] = calculate_val_far(threshold, dist[test_set], actual_issame[test_set])\n",
        "\n",
        "    val_mean = np.mean(val)\n",
        "    far_mean = np.mean(far)\n",
        "    val_std = np.std(val)\n",
        "    return val_mean, val_std, far_mean\n",
        "\n",
        "\n",
        "def calculate_val_far(threshold, dist, actual_issame):\n",
        "    predict_issame = np.less(dist, threshold)\n",
        "    true_accept = np.sum(np.logical_and(predict_issame, actual_issame))\n",
        "    false_accept = np.sum(np.logical_and(predict_issame, np.logical_not(actual_issame)))\n",
        "    n_same = np.sum(actual_issame)\n",
        "    n_diff = np.sum(np.logical_not(actual_issame))\n",
        "    val = float(true_accept) / float(n_same)\n",
        "    far = float(false_accept) / float(n_diff)\n",
        "    return val, far\n",
        "\n",
        "\n",
        "def evaluate(embeddings, actual_issame, nrof_folds = 10, pca = 0):\n",
        "    # Calculate evaluation metrics\n",
        "    thresholds = np.arange(0, 4, 0.01)\n",
        "    embeddings1 = embeddings[0::2]\n",
        "    embeddings2 = embeddings[1::2]\n",
        "    tpr, fpr, accuracy, best_thresholds = calculate_roc(thresholds, embeddings1, embeddings2, np.asarray(actual_issame), nrof_folds = nrof_folds, pca = pca)\n",
        "#     thresholds = np.arange(0, 4, 0.001)\n",
        "#     val, val_std, far = calculate_val(thresholds, embeddings1, embeddings2,\n",
        "#                                       np.asarray(actual_issame), 1e-3, nrof_folds=nrof_folds)\n",
        "#     return tpr, fpr, accuracy, best_thresholds, val, val_std, far\n",
        "    return tpr, fpr, accuracy, best_thresholds\n"
      ],
      "execution_count": null,
      "outputs": []
    },
    {
      "cell_type": "code",
      "metadata": {
        "id": "L_2wP4e6STnU"
      },
      "source": [
        "img1 = cv2.imread('/content/drive/My Drive/data/traindata/id0/id0_01.jpg')\n",
        "img2 = cv2.imread('/content/drive/My Drive/data/traindata/id0/id0_08.jpg')"
      ],
      "execution_count": null,
      "outputs": []
    },
    {
      "cell_type": "code",
      "metadata": {
        "id": "Bt6oGotZSTki"
      },
      "source": [
        "pre1 = get_input(detector,img1)\n",
        "pre2 = get_input(detector,img2)"
      ],
      "execution_count": null,
      "outputs": []
    },
    {
      "cell_type": "code",
      "metadata": {
        "id": "TRcBqowfStI5"
      },
      "source": [
        "embed1 = get_feature(model,pre1)\n",
        "embed2 = get_feature(model,pre2)"
      ],
      "execution_count": null,
      "outputs": []
    },
    {
      "cell_type": "code",
      "metadata": {
        "id": "yj_ocfurStLb"
      },
      "source": [
        "def distance(embeddings1, embeddings2, distance_metric=0):\n",
        "    if distance_metric==0:\n",
        "        # Euclidian distance\n",
        "        diff = np.subtract(embeddings1, embeddings2)\n",
        "        dist = np.sum(np.square(diff),1)\n",
        "    elif distance_metric==1:\n",
        "        # Distance based on cosine similarity\n",
        "        dot = np.sum(np.multiply(embeddings1, embeddings2), axis=1)\n",
        "        norm = np.linalg.norm(embeddings1, axis=1) * np.linalg.norm(embeddings2, axis=1)\n",
        "        similarity = dot / norm\n",
        "        dist = np.arccos(similarity) / math.pi\n",
        "    else:\n",
        "        raise 'Undefined distance metric %d' % distance_metric \n",
        "        \n",
        "    return dist"
      ],
      "execution_count": null,
      "outputs": []
    },
    {
      "cell_type": "code",
      "metadata": {
        "id": "bXAHiVIjb6ZP",
        "colab": {
          "base_uri": "https://localhost:8080/"
        },
        "outputId": "e5207841-e934-4302-9924-f909cd2a2ca3"
      },
      "source": [
        "distance(embed1.reshape(1,-1),embed2.reshape(1,-1),distance_metric=0)"
      ],
      "execution_count": null,
      "outputs": [
        {
          "output_type": "execute_result",
          "data": {
            "text/plain": [
              "array([0.62789106], dtype=float32)"
            ]
          },
          "metadata": {
            "tags": []
          },
          "execution_count": 60
        }
      ]
    },
    {
      "cell_type": "code",
      "metadata": {
        "id": "Xceh5XiJc_Zt",
        "colab": {
          "base_uri": "https://localhost:8080/"
        },
        "outputId": "b52af92d-1546-4e1d-ab4d-4bc75be36c97"
      },
      "source": [
        "np.sum(np.square(embed1-embed2))"
      ],
      "execution_count": null,
      "outputs": [
        {
          "output_type": "execute_result",
          "data": {
            "text/plain": [
              "0.62789106"
            ]
          },
          "metadata": {
            "tags": []
          },
          "execution_count": 61
        }
      ]
    },
    {
      "cell_type": "code",
      "metadata": {
        "id": "FQmMXVh_dZF9",
        "colab": {
          "base_uri": "https://localhost:8080/"
        },
        "outputId": "70ead60d-0fa1-4ee3-fda0-1a978c4d471f"
      },
      "source": [
        "np.dot(embed1, embed2.T)"
      ],
      "execution_count": null,
      "outputs": [
        {
          "output_type": "execute_result",
          "data": {
            "text/plain": [
              "0.68605447"
            ]
          },
          "metadata": {
            "tags": []
          },
          "execution_count": 62
        }
      ]
    },
    {
      "cell_type": "code",
      "metadata": {
        "id": "Njm2J9A0hUUH"
      },
      "source": [
        "thresholds = np.arange(0, 4, 0.001)"
      ],
      "execution_count": null,
      "outputs": []
    },
    {
      "cell_type": "code",
      "metadata": {
        "id": "QJ6E0l3BhX8F"
      },
      "source": [
        "calculate_val(thresholds,embed1,embed2)"
      ],
      "execution_count": null,
      "outputs": []
    },
    {
      "cell_type": "code",
      "metadata": {
        "id": "Ls0HzMMldrI-",
        "colab": {
          "base_uri": "https://localhost:8080/",
          "height": 519
        },
        "outputId": "477cf087-ada1-46dd-cfb9-6d0057570a8b"
      },
      "source": [
        "  plt.imshow(np.transpose(pre1,(1,2,0)))\n",
        "  plt.show()\n",
        "  plt.imshow(np.transpose(pre2,(1,2,0)))\n",
        "  plt.show()"
      ],
      "execution_count": null,
      "outputs": [
        {
          "output_type": "display_data",
          "data": {
            "image/png": "[encoded data removed]",
            "text/plain": [
              "<Figure size 432x288 with 1 Axes>"
            ]
          },
          "metadata": {
            "tags": [],
            "needs_background": "light"
          }
        },
        {
          "output_type": "display_data",
          "data": {
            "image/png": "[encoded data removed]",
            "text/plain": [
              "<Figure size 432x288 with 1 Axes>"
            ]
          },
          "metadata": {
            "tags": [],
            "needs_background": "light"
          }
        }
      ]
    },
    {
      "cell_type": "code",
      "metadata": {
        "id": "JpPX-f8vwcpm"
      },
      "source": [
        "import PIL\n",
        "import numpy as np\n",
        "import torch\n",
        "import torchvision\n",
        "from PIL import ImageFile\n",
        "\n"
      ],
      "execution_count": null,
      "outputs": []
    },
    {
      "cell_type": "code",
      "metadata": {
        "id": "WmISFt4Zwc5s"
      },
      "source": [
        "transforms = torchvision.transforms.Compose([\n",
        "    torchvision.transforms.Resize((224,224)),\n",
        "    torchvision.transforms.ColorJitter(hue=.05, saturation=.05),\n",
        "    torchvision.transforms.RandomHorizontalFlip(),\n",
        "    torchvision.transforms.RandomRotation(20, resample=PIL.Image.BILINEAR)\n",
        "])"
      ],
      "execution_count": null,
      "outputs": []
    },
    {
      "cell_type": "code",
      "metadata": {
        "id": "AiN6gZrnwcvB"
      },
      "source": [
        "dataset = torchvision.datasets.ImageFolder('/content/drive/My Drive/godeyedata', transform=transforms)"
      ],
      "execution_count": null,
      "outputs": []
    },
    {
      "cell_type": "code",
      "metadata": {
        "id": "4taX4yZmCayr"
      },
      "source": [
        "import os\n",
        "os.chdir('/content/drive/My Drive/insightface/deploy')"
      ],
      "execution_count": null,
      "outputs": []
    },
    {
      "cell_type": "code",
      "metadata": {
        "id": "DYWRfAAlCanc"
      },
      "source": [
        "from face_embedding import FaceModel"
      ],
      "execution_count": null,
      "outputs": []
    },
    {
      "cell_type": "code",
      "metadata": {
        "id": "I61B7CjuBike"
      },
      "source": [
        "from dataclasses import dataclass\n",
        "\n",
        "# =================== Data Class For Left Panel ====================\n",
        "@dataclass\n",
        "class ImageName():\n",
        "    \"Stores the paths to images for a given class\"\n",
        "    name: str\n",
        "    image_paths: str\n",
        "\n",
        "    def __str__(self):\n",
        "        return self.name + ', ' + str(len(self.image_paths)) + ' images'\n",
        "\n",
        "    def __len__(self):\n",
        "        return len(self.image_paths)"
      ],
      "execution_count": null,
      "outputs": []
    },
    {
      "cell_type": "code",
      "metadata": {
        "id": "E3lzE1q9NSBF"
      },
      "source": [
        "def do_flip(data):\n",
        "    for idx in range(data.shape[0]):\n",
        "        data[idx, :, :] = np.fliplr(data[idx, :, :])\n"
      ],
      "execution_count": null,
      "outputs": []
    },
    {
      "cell_type": "code",
      "metadata": {
        "id": "HZeE87npDVYv"
      },
      "source": [
        "def get_image_paths(facedir):\n",
        "    image_paths = []\n",
        "    if os.path.isdir(facedir):\n",
        "        images = os.listdir(facedir)\n",
        "        image_paths = [os.path.join(facedir, img) for img in images]\n",
        "    return image_paths"
      ],
      "execution_count": null,
      "outputs": []
    },
    {
      "cell_type": "code",
      "metadata": {
        "id": "aAjG_JX0GUhm",
        "colab": {
          "base_uri": "https://localhost:8080/"
        },
        "outputId": "e10ecac4-207f-4f83-e491-a326c457e9de"
      },
      "source": [
        "get_image_paths('/content/drive/My Drive/face.evoLVe.PyTorch/train')"
      ],
      "execution_count": null,
      "outputs": [
        {
          "output_type": "execute_result",
          "data": {
            "text/plain": [
              "['/content/drive/My Drive/face.evoLVe.PyTorch/train/Nguyễn Duy Khánh-MT-013',\n",
              " '/content/drive/My Drive/face.evoLVe.PyTorch/train/Nguyễn Đức Điệp-MT-004',\n",
              " '/content/drive/My Drive/face.evoLVe.PyTorch/train/Huỳnh Tuấn Minh - MT-014',\n",
              " '/content/drive/My Drive/face.evoLVe.PyTorch/train/Trần Tiến Hòa-MT-002',\n",
              " '/content/drive/My Drive/face.evoLVe.PyTorch/train/MT - 009 Đỗ Văn Trường - done']"
            ]
          },
          "metadata": {
            "tags": []
          },
          "execution_count": 22
        }
      ]
    },
    {
      "cell_type": "code",
      "metadata": {
        "id": "8fSyZEx2BdOP"
      },
      "source": [
        "\n",
        "def get_dataset(path, has_class_directories=True):\n",
        "    dataset = []\n",
        "    path_exp = os.path.expanduser(path)\n",
        "    classes = [\n",
        "        path for path in os.listdir(path_exp)\n",
        "        if os.path.isdir(os.path.join(path_exp, path))\n",
        "    ]\n",
        "    classes.sort()\n",
        "    nrof_classes = len(classes)\n",
        "    for i in range(nrof_classes):\n",
        "        class_name = classes[i]\n",
        "        facedir = os.path.join(path_exp, class_name)\n",
        "        image_paths = get_image_paths(facedir)\n",
        "        dataset.append(ImageName(class_name, image_paths))\n",
        "\n",
        "    return dataset"
      ],
      "execution_count": null,
      "outputs": []
    },
    {
      "cell_type": "code",
      "metadata": {
        "id": "hi4HKP-0GmVQ"
      },
      "source": [
        "a=get_dataset('/content/drive/My Drive/face.evoLVe.PyTorch/train')"
      ],
      "execution_count": null,
      "outputs": []
    },
    {
      "cell_type": "code",
      "metadata": {
        "id": "lNLtGPfSDa6H"
      },
      "source": [
        "def get_image_paths_and_labels(dataset):\n",
        "    image_paths_flat = []\n",
        "    labels_flat = []\n",
        "    for item in dataset:\n",
        "        image_paths_flat += item.image_paths\n",
        "        labels_flat += [item.name] * len(item.image_paths)\n",
        "        # labels_flat.append(item.name)\n",
        "    return image_paths_flat, labels_flat"
      ],
      "execution_count": null,
      "outputs": []
    },
    {
      "cell_type": "code",
      "metadata": {
        "id": "BMAWj0EVG3Qt"
      },
      "source": [
        "get_image_paths_and_labels(a)"
      ],
      "execution_count": null,
      "outputs": []
    },
    {
      "cell_type": "code",
      "metadata": {
        "id": "EfiM1_1EJcW-"
      },
      "source": [
        "img_paths = '/content/drive/My Drive/face.evoLVe.PyTorch/train/Huỳnh Tuấn Minh - MT-014'"
      ],
      "execution_count": null,
      "outputs": []
    },
    {
      "cell_type": "code",
      "metadata": {
        "id": "bW0UDofQJa_N"
      },
      "source": [
        "for counter,path in enumerate(get_image_paths(img_paths)):\n",
        "            print(img_paths)\n",
        "            print(counter)\n",
        "            nimg = cv2.cvtColor(cv2.imread(path), cv2.COLOR_BGR2RGB)\n",
        "            aligned = np.transpose(nimg, (2, 0, 1))"
      ],
      "execution_count": null,
      "outputs": []
    },
    {
      "cell_type": "code",
      "metadata": {
        "id": "s1pRlzeUEStw"
      },
      "source": [
        "def get_features_from_path(img_paths,model=model):\n",
        "    result = []\n",
        "    for counter, path in enumerate(img_paths):\n",
        "        # print(type(len(img_paths)))\n",
        "        # print(type(counter))\n",
        "        nimg = cv2.cvtColor(cv2.imread(path), cv2.COLOR_BGR2RGB)\n",
        "        aligned = np.transpose(nimg, (2, 0, 1))\n",
        "        embedding = None\n",
        "        for flipid in [0, 1]:\n",
        "            if flipid == 1:\n",
        "                do_flip(aligned)\n",
        "\n",
        "            input_blob = np.expand_dims(aligned, axis=0)\n",
        "            data = mx.nd.array(input_blob)\n",
        "            db = mx.io.DataBatch(data=(data, ))\n",
        "            model.forward(db, is_train=False)\n",
        "            _embedding = model.get_outputs()[0].asnumpy()\n",
        "            # print(_embedding.shape)\n",
        "            if embedding is None:\n",
        "                embedding = _embedding\n",
        "            else:\n",
        "                embedding += _embedding\n",
        "        embedding = sklearn.preprocessing.normalize(embedding).flatten()\n",
        "        result.append(embedding)\n",
        "        # print()\n",
        "        print('percent%2f%%' % ((counter + 1) * 100 / len(img_paths)))\n",
        "    return result"
      ],
      "execution_count": null,
      "outputs": []
    },
    {
      "cell_type": "code",
      "metadata": {
        "id": "AfNEVfuPHCoT"
      },
      "source": [
        "get_features_from_path('/content/drive/My Drive/face.evoLVe.PyTorch/train/Huỳnh Tuấn Minh - MT-014')"
      ],
      "execution_count": null,
      "outputs": []
    },
    {
      "cell_type": "code",
      "metadata": {
        "id": "16exxXpLBw0u"
      },
      "source": [
        "detector = MtcnnDetector(model_folder=mtcnn_path, ctx=ctx, num_worker=1, accurate_landmark = True, threshold=det_threshold)\n",
        "arcface = FaceModel.get_feature"
      ],
      "execution_count": null,
      "outputs": []
    },
    {
      "cell_type": "code",
      "metadata": {
        "id": "6yFoLX9SChEF"
      },
      "source": [
        "import os\n",
        "os.chdir('/content/drive/My Drive')"
      ],
      "execution_count": null,
      "outputs": []
    },
    {
      "cell_type": "code",
      "metadata": {
        "id": "-z_rAzjRwcef"
      },
      "source": [
        "dir_train = './content/drive/My Drive/face.npy'\n",
        "data_train = '/content/drive/My Drive/face.evoLVe.PyTorch/train'\n",
        "dataset_train = get_dataset(data_train)\n",
        "paths_train, labels_train = get_image_paths_and_labels(dataset_train)"
      ],
      "execution_count": null,
      "outputs": []
    },
    {
      "cell_type": "code",
      "metadata": {
        "id": "z2pqBDUvC4w_"
      },
      "source": [
        "#detector.get_all_boxes_from_path(paths_train, save_img=True)\n",
        "dataset_train = get_dataset(data_train)\n",
        "paths_train, labels_train = get_image_paths_and_labels(dataset_train)\n",
        "train_emb_array = get_features_from_path(paths_train)\n",
        "#np.save(dir_train, train_emb_array)"
      ],
      "execution_count": null,
      "outputs": []
    },
    {
      "cell_type": "code",
      "metadata": {
        "id": "l3aEqZU1aTwU"
      },
      "source": [
        "def l2_normalize(x, axis=-1, epsilon=1e-10):\n",
        "    output = x / np.sqrt(np.maximum(np.sum(np.square(x), axis=axis, keepdims=True), epsilon))\n",
        "    return output"
      ],
      "execution_count": null,
      "outputs": []
    },
    {
      "cell_type": "code",
      "metadata": {
        "id": "oJRHWlPba9zc"
      },
      "source": [
        "pre1=get_input(detector,cv2.imread('/content/drive/My Drive/face.evoLVe.PyTorch/train/Trần Tiến Hòa-MT-002/MT-002-12.png'))"
      ],
      "execution_count": null,
      "outputs": []
    },
    {
      "cell_type": "code",
      "metadata": {
        "id": "gxWHq9SAbDw3"
      },
      "source": [
        "pre2=get_input(detector,cv2.imread('/content/player2.jpg'))"
      ],
      "execution_count": null,
      "outputs": []
    },
    {
      "cell_type": "code",
      "metadata": {
        "id": "A-ZSvtzlaU0S"
      },
      "source": [
        "\n",
        "def calc_dist(pre1, pre2):\n",
        "    out1 = get_feature(model, pre1)\n",
        "    out2 = get_feature(model, pre2)\n",
        "    return np.sum(np.square(out1-out2))"
      ],
      "execution_count": null,
      "outputs": []
    },
    {
      "cell_type": "code",
      "metadata": {
        "id": "Kwtrj-ETaU25"
      },
      "source": [
        "def calc_dist_plot(pre1, pre2):\n",
        "    print(calc_dist(pre1, pre2))\n",
        "    plt.imshow(np.transpose(pre1,(1,2,0)))\n",
        "    plt.show()\n",
        "    plt.imshow(np.transpose(pre2,(1,2,0)))\n",
        "    plt.show()"
      ],
      "execution_count": null,
      "outputs": []
    },
    {
      "cell_type": "code",
      "metadata": {
        "id": "lFipbYFaaU4u",
        "colab": {
          "base_uri": "https://localhost:8080/",
          "height": 537
        },
        "outputId": "39c1fbaf-d021-4c69-f786-3d7385e21183"
      },
      "source": [
        "calc_dist_plot(pre1,pre2)"
      ],
      "execution_count": null,
      "outputs": [
        {
          "output_type": "stream",
          "text": [
            "4035766\n"
          ],
          "name": "stdout"
        },
        {
          "output_type": "display_data",
          "data": {
            "image/png": "[encoded data removed]",
            "text/plain": [
              "<Figure size 432x288 with 1 Axes>"
            ]
          },
          "metadata": {
            "tags": [],
            "needs_background": "light"
          }
        },
        {
          "output_type": "display_data",
          "data": {
            "image/png": "[encoded data removed]",
            "text/plain": [
              "<Figure size 432x288 with 1 Axes>"
            ]
          },
          "metadata": {
            "tags": [],
            "needs_background": "light"
          }
        }
      ]
    },
    {
      "cell_type": "code",
      "metadata": {
        "id": "yPFa-NBOaU7S"
      },
      "source": [
        ""
      ],
      "execution_count": null,
      "outputs": []
    },
    {
      "cell_type": "code",
      "metadata": {
        "id": "lOzx9pXsxhka"
      },
      "source": [
        "from sklearn.model_selection import train_test_split"
      ],
      "execution_count": null,
      "outputs": []
    },
    {
      "cell_type": "code",
      "metadata": {
        "id": "eUtTa76LQqJU"
      },
      "source": [
        "from sklearn.neural_network import MLPClassifier\n",
        "from sklearn.preprocessing import label_binarize\n",
        "from sklearn import metrics"
      ],
      "execution_count": null,
      "outputs": []
    },
    {
      "cell_type": "code",
      "metadata": {
        "id": "XW83lO7XD5DP"
      },
      "source": [
        "print('Train dataset reloaded: ', len(train_emb_array))\n",
        "\n",
        "class_names = [cls.name.replace('_', ' ') for cls in dataset_train]\n",
        "print(class_names)\n",
        "\n",
        "mlp = MLPClassifier(hidden_layer_sizes=(550, ), verbose=True,\n",
        "                    activation='relu', solver='adam', tol=10e-7, n_iter_no_change=100,\n",
        "                    learning_rate_init=1e-3, max_iter=50000)\n",
        "\n",
        "mlp.fit(train_emb_array, labels_train)\n"
      ],
      "execution_count": null,
      "outputs": []
    },
    {
      "cell_type": "code",
      "metadata": {
        "id": "nFdubJ2Yf3b5"
      },
      "source": [
        "import joblib"
      ],
      "execution_count": null,
      "outputs": []
    },
    {
      "cell_type": "code",
      "metadata": {
        "id": "p27IdqzGN0S3"
      },
      "source": [
        "\n",
        "model_path =\"/content/drive/My Drive/WANDB/\"\n",
        "joblib.dump((mlp,class_names), model_path+\"mlp.pkl\")"
      ],
      "execution_count": null,
      "outputs": []
    },
    {
      "cell_type": "code",
      "metadata": {
        "id": "w6CiqLuOc2f5"
      },
      "source": [
        "def read_pkl_model(mpath):\n",
        "    with open(mpath, 'rb') as infile:\n",
        "        (mlp, class_names) = joblib.load(infile)\n",
        "        print('FR model loadded: ', class_names)\n",
        "        return mlp, class_names"
      ],
      "execution_count": null,
      "outputs": []
    },
    {
      "cell_type": "code",
      "metadata": {
        "id": "0-h4hk5Qc3Y3"
      },
      "source": [
        "mlp,class_names = read_pkl_model('/content/drive/My Drive/WANDB/mlp.pkl')"
      ],
      "execution_count": null,
      "outputs": []
    },
    {
      "cell_type": "code",
      "metadata": {
        "id": "Gi6X5kJghoJK"
      },
      "source": [
        "from sklearn.metrics import accuracy_score\n",
        "from sklearn.metrics import confusion_matrix"
      ],
      "execution_count": null,
      "outputs": []
    },
    {
      "cell_type": "code",
      "metadata": {
        "id": "oui-_o53mrql"
      },
      "source": [
        "file ='/content/Angel-Di-Maria-Real-Madrid-vs-Bayern-Munich_2797421.jpg'"
      ],
      "execution_count": null,
      "outputs": []
    },
    {
      "cell_type": "code",
      "metadata": {
        "id": "MiyZScAjy6dH"
      },
      "source": [
        "xtest = cv2.imread(file)"
      ],
      "execution_count": null,
      "outputs": []
    },
    {
      "cell_type": "code",
      "metadata": {
        "id": "7BLzNFxLzEC5"
      },
      "source": [
        "pre1=get_input(detector,xtest)"
      ],
      "execution_count": null,
      "outputs": []
    },
    {
      "cell_type": "code",
      "metadata": {
        "id": "059twDxpzgQI"
      },
      "source": [
        "print(pre1)"
      ],
      "execution_count": null,
      "outputs": []
    },
    {
      "cell_type": "code",
      "metadata": {
        "id": "2EliEcPPzVx3"
      },
      "source": [
        "out1=get_feature(model,pre1)"
      ],
      "execution_count": null,
      "outputs": []
    },
    {
      "cell_type": "code",
      "metadata": {
        "id": "kPBo-xmdzpYw"
      },
      "source": [
        "mlp.predict_proba(out1.reshape(1,-1))"
      ],
      "execution_count": null,
      "outputs": []
    },
    {
      "cell_type": "code",
      "metadata": {
        "id": "Hw8BLbwT2cGp"
      },
      "source": [
        "plt.imshow(np.transpose(pre1,(1,2,0)))\n",
        "plt.show()"
      ],
      "execution_count": null,
      "outputs": []
    },
    {
      "cell_type": "code",
      "metadata": {
        "id": "ue9UL6UO0BHt"
      },
      "source": [
        "mlp.predict(out1.reshape(1,-1))"
      ],
      "execution_count": null,
      "outputs": []
    },
    {
      "cell_type": "code",
      "metadata": {
        "id": "yuFlKxh-1A32"
      },
      "source": [
        "out=get_feature(model,get_input(detector,cv2.imread('/content/drive/My Drive/face.evoLVe.PyTorch/train/Trần Tiến Hòa-MT-002/MT-002-12.png')))"
      ],
      "execution_count": null,
      "outputs": []
    },
    {
      "cell_type": "code",
      "metadata": {
        "id": "zjKXHOaKAA9W"
      },
      "source": [
        "import torch.nn as nn\n",
        "import torch"
      ],
      "execution_count": null,
      "outputs": []
    },
    {
      "cell_type": "code",
      "metadata": {
        "id": "CZA_vOOu4_yx"
      },
      "source": [
        "triplet_loss = nn.TripletMarginLoss(margin=1.0, p=2)\n",
        "anchor = torch.randn(100, 128, requires_grad=True)\n",
        "positive = torch.randn(100, 128, requires_grad=True)\n",
        "negative = torch.randn(100, 128, requires_grad=True)\n",
        "output = triplet_loss(anchor, positive, negative)\n",
        "print(output.backward())"
      ],
      "execution_count": null,
      "outputs": []
    },
    {
      "cell_type": "code",
      "metadata": {
        "id": "rFU7naFGhXYK"
      },
      "source": [
        "#y_pred = mlp.predict()\n",
        "\n",
        "x = mlp.score(out1.reshape(1,-1), out.reshape(1,-1))\n"
      ],
      "execution_count": null,
      "outputs": []
    },
    {
      "cell_type": "code",
      "metadata": {
        "id": "kcz5P8KPgVHR"
      },
      "source": [
        "\n",
        "# Load first image\n",
        "img1 = cv2.imread('player1.jpg')\n",
        "# Display first image\n",
        "plt.imshow(cv2.cvtColor(img1,cv2.COLOR_BGR2RGB))\n",
        "plt.show()"
      ],
      "execution_count": null,
      "outputs": []
    },
    {
      "cell_type": "code",
      "metadata": {
        "id": "Jjd5QfNHfRb5"
      },
      "source": [
        "pre1 = get_input(detector,img1)\n",
        "# Display preprocessed image\n",
        "plt.imshow(np.transpose(pre1,(1,2,0)))\n",
        "plt.show()\n",
        "# Get embedding of first image\n",
        "out1 = get_feature(model,pre1)\n",
        "print(out1)"
      ],
      "execution_count": null,
      "outputs": []
    },
    {
      "cell_type": "code",
      "metadata": {
        "id": "hanhaVsGam3I"
      },
      "source": [
        "img = '/content/drive/My Drive/face.evoLVe.PyTorch/train/Huỳnh Tuấn Minh - MT-014/MT-014-1.png'\n",
        "image = cv2.imread(img)\n",
        "y = get_input(detector,image)\n",
        "\n",
        "x = get_feature(model,y)\n",
        "print(x)"
      ],
      "execution_count": null,
      "outputs": []
    },
    {
      "cell_type": "code",
      "metadata": {
        "id": "hDt2XoxfanGE"
      },
      "source": [
        ""
      ],
      "execution_count": null,
      "outputs": []
    },
    {
      "cell_type": "code",
      "metadata": {
        "id": "fNqMgIrhJQLM"
      },
      "source": [
        "# Compute squared distance between embeddings\n",
        "dist = np.sum(np.square(out1-out3))\n",
        "# Compute cosine similarity between embedddings\n",
        "sim = np.dot(out1, out3.T)\n",
        "# Print predictions\n",
        "print('Distance = %f' %(dist))\n",
        "print('Similarity = %f' %(sim))"
      ],
      "execution_count": null,
      "outputs": []
    },
    {
      "cell_type": "code",
      "metadata": {
        "id": "62rbAjSlSOrP"
      },
      "source": [
        "\n",
        "print(np.__version__)\n",
        "print(mx.__version__)\n",
        "print(sklearn.__version__)\n",
        "#print(easydict.__version__)\n",
        "print(skimage.__version__)\n",
        "print(onnx.__version__)\n",
        "print(matplotlib.__version__)\n",
        "print(cv2.__version__)"
      ],
      "execution_count": null,
      "outputs": []
    },
    {
      "cell_type": "code",
      "metadata": {
        "id": "siAYIka9zAst"
      },
      "source": [
        "import argparse\n",
        "from collections import defaultdict\n",
        "import json\n",
        "from onnx import ModelProto, GraphProto, NodeProto\n",
        "import pydot  # type: ignore\n",
        "from typing import Text, Any, Callable, Optional, Dict\n",
        "\n",
        "\n",
        "OP_STYLE = {\n",
        "    'shape': 'box',\n",
        "    'color': '#0F9D58',\n",
        "    'style': 'filled',\n",
        "    'fontcolor': '#FFFFFF'\n",
        "}\n",
        "\n",
        "BLOB_STYLE = {'shape': 'octagon'}\n",
        "\n",
        "_NodeProducer = Callable[[NodeProto, int], pydot.Node]\n",
        "\n",
        "\n",
        "def _escape_label(name):  # type: (Text) -> Text\n",
        "    # json.dumps is poor man's escaping\n",
        "    return json.dumps(name)\n",
        "\n",
        "\n",
        "def _form_and_sanitize_docstring(s):  # type: (Text) -> Text\n",
        "    url = 'javascript:alert('\n",
        "    url += _escape_label(s).replace('\"', '\\'').replace('<', '').replace('>', '')\n",
        "    url += ')'\n",
        "    return url\n",
        "\n",
        "\n",
        "def GetOpNodeProducer(embed_docstring=False, **kwargs):  # type: (bool, **Any) -> _NodeProducer\n",
        "    def ReallyGetOpNode(op, op_id):  # type: (NodeProto, int) -> pydot.Node\n",
        "        if op.name:\n",
        "            node_name = '%s/%s (op#%d)' % (op.name, op.op_type, op_id)\n",
        "        else:\n",
        "            node_name = '%s (op#%d)' % (op.op_type, op_id)\n",
        "        for i, input in enumerate(op.input):\n",
        "            node_name += '\\n input' + str(i) + ' ' + input\n",
        "        for i, output in enumerate(op.output):\n",
        "            node_name += '\\n output' + str(i) + ' ' + output\n",
        "        node = pydot.Node(node_name, **kwargs)\n",
        "        if embed_docstring:\n",
        "            url = _form_and_sanitize_docstring(op.doc_string)\n",
        "            node.set_URL(url)\n",
        "        return node\n",
        "    return ReallyGetOpNode\n",
        "\n",
        "\n",
        "def GetPydotGraph(\n",
        "    graph,  # type: GraphProto\n",
        "    name=None,  # type: Optional[Text]\n",
        "    rankdir='LR',  # type: Text\n",
        "    node_producer=None,  # type: Optional[_NodeProducer]\n",
        "    embed_docstring=False,  # type: bool\n",
        "):  # type: (...) -> pydot.Dot\n",
        "    if node_producer is None:\n",
        "        node_producer = GetOpNodeProducer(embed_docstring=embed_docstring, **OP_STYLE)\n",
        "    pydot_graph = pydot.Dot(name, rankdir=rankdir)\n",
        "    pydot_nodes = {}  # type: Dict[Text, pydot.Node]\n",
        "    pydot_node_counts = defaultdict(int)  # type: Dict[Text, int]\n",
        "    for op_id, op in enumerate(graph.node):\n",
        "        op_node = node_producer(op, op_id)\n",
        "        pydot_graph.add_node(op_node)\n",
        "        for input_name in op.input:\n",
        "            if input_name not in pydot_nodes:\n",
        "                input_node = pydot.Node(\n",
        "                    _escape_label(\n",
        "                        input_name + str(pydot_node_counts[input_name])),\n",
        "                    label=_escape_label(input_name),\n",
        "                    **BLOB_STYLE\n",
        "                )\n",
        "                pydot_nodes[input_name] = input_node\n",
        "            else:\n",
        "                input_node = pydot_nodes[input_name]\n",
        "            pydot_graph.add_node(input_node)\n",
        "            pydot_graph.add_edge(pydot.Edge(input_node, op_node))\n",
        "        for output_name in op.output:\n",
        "            if output_name in pydot_nodes:\n",
        "                pydot_node_counts[output_name] += 1\n",
        "            output_node = pydot.Node(\n",
        "                _escape_label(\n",
        "                    output_name + str(pydot_node_counts[output_name])),\n",
        "                label=_escape_label(output_name),\n",
        "                **BLOB_STYLE\n",
        "            )\n",
        "            pydot_nodes[output_name] = output_node\n",
        "            pydot_graph.add_node(output_node)\n",
        "            pydot_graph.add_edge(pydot.Edge(op_node, output_node))\n",
        "    return pydot_graph\n",
        "\n",
        "\n",
        "def main():  # type: () -> None\n",
        "    \"\"\"parser = argparse.ArgumentParser(description=\"ONNX net drawer\")\n",
        "    parser.add_argument(\n",
        "        \"--input\",\n",
        "        type=Text, required=True, default = '/content/resnet100.onnx',\n",
        "        help=\"The input protobuf file.\",\n",
        "    )\n",
        "    parser.add_argument(\n",
        "        \"--output\",\n",
        "        type=Text, required=True, default = '/content/',\n",
        "        help=\"The output protobuf file.\",\n",
        "    )\n",
        "    parser.add_argument(\n",
        "        \"--rankdir\", type=Text, default='LR',\n",
        "        help=\"The rank direction of the pydot graph.\",\n",
        "    )\n",
        "    parser.add_argument(\n",
        "        \"--embed_docstring\", action=\"store_true\",\n",
        "        help=\"Embed docstring as javascript alert. Useful for SVG format.\",\n",
        "    )\n",
        "    args = parser.parse_args()\"\"\"\n",
        "    model = ModelProto()\n",
        "    with open('/content/drive/My Drive/Face-Recognition/work_space/model/model_ir_se50.pth', 'rb') as fid:\n",
        "        content = fid.read()\n",
        "        model.ParseFromString(content)\n",
        "    pydot_graph = GetPydotGraph(\n",
        "        model.graph,\n",
        "        name=model.graph.name,\n",
        "        rankdir='LR',\n",
        "        node_producer=GetOpNodeProducer(\n",
        "            embed_docstring=True,\n",
        "            **OP_STYLE\n",
        "        ),\n",
        "    )\n",
        "    pydot_graph.write_dot('/content/ir_se_50.dot')\n",
        "\n",
        "\n",
        "if __name__ == '__main__':\n",
        "    main()"
      ],
      "execution_count": null,
      "outputs": []
    },
    {
      "cell_type": "code",
      "metadata": {
        "id": "x1Jbih_aJNtf"
      },
      "source": [
        ""
      ],
      "execution_count": null,
      "outputs": []
    },
    {
      "cell_type": "code",
      "metadata": {
        "id": "8WVpQ9kYJO9d"
      },
      "source": [
        ""
      ],
      "execution_count": null,
      "outputs": []
    }
  ]
}