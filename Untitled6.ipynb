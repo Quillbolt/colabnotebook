{
  "nbformat": 4,
  "nbformat_minor": 0,
  "metadata": {
    "colab": {
      "name": "Untitled6.ipynb",
      "provenance": [],
      "mount_file_id": "1Uy4NIPyFbNd8QNgudS3ikkBY7VoZ83BS",
      "authorship_tag": "ABX9TyP+1WqeIyfzEKN1N+Mmr0bx",
      "include_colab_link": true
    },
    "kernelspec": {
      "name": "python3",
      "display_name": "Python 3"
    }
  },
  "cells": [
    {
      "cell_type": "markdown",
      "metadata": {
        "id": "view-in-github",
        "colab_type": "text"
      },
      "source": [
        "<a href=\"https://colab.research.google.com/github/Quillbolt/colabnotebook/blob/main/Untitled6.ipynb\" target=\"_parent\"><img src=\"https://colab.research.google.com/assets/colab-badge.svg\" alt=\"Open In Colab\"/></a>"
      ]
    },
    {
      "cell_type": "code",
      "metadata": {
        "id": "BxCfkPzqquHB",
        "colab": {
          "base_uri": "https://localhost:8080/"
        },
        "outputId": "825c956c-22e7-41e2-a8c1-3ccef6f980e5"
      },
      "source": [
        "!pip install facenet-pytorch"
      ],
      "execution_count": null,
      "outputs": [
        {
          "output_type": "stream",
          "text": [
            "Collecting facenet-pytorch\n",
            "\u001b[?25l  Downloading https://files.pythonhosted.org/packages/00/64/73d76f6c944b6abfdacecc37f00cb9fbb7686d899981d587ba45d1c6904d/facenet_pytorch-2.5.0-py3-none-any.whl (1.9MB)\n",
            "\u001b[K     |████████████████████████████████| 1.9MB 2.7MB/s \n",
            "\u001b[?25hRequirement already satisfied: numpy in /usr/local/lib/python3.6/dist-packages (from facenet-pytorch) (1.18.5)\n",
            "Requirement already satisfied: pillow in /usr/local/lib/python3.6/dist-packages (from facenet-pytorch) (7.0.0)\n",
            "Requirement already satisfied: torchvision in /usr/local/lib/python3.6/dist-packages (from facenet-pytorch) (0.8.1+cu101)\n",
            "Requirement already satisfied: requests in /usr/local/lib/python3.6/dist-packages (from facenet-pytorch) (2.23.0)\n",
            "Requirement already satisfied: torch==1.7.0 in /usr/local/lib/python3.6/dist-packages (from torchvision->facenet-pytorch) (1.7.0+cu101)\n",
            "Requirement already satisfied: certifi>=2017.4.17 in /usr/local/lib/python3.6/dist-packages (from requests->facenet-pytorch) (2020.6.20)\n",
            "Requirement already satisfied: urllib3!=1.25.0,!=1.25.1,<1.26,>=1.21.1 in /usr/local/lib/python3.6/dist-packages (from requests->facenet-pytorch) (1.24.3)\n",
            "Requirement already satisfied: idna<3,>=2.5 in /usr/local/lib/python3.6/dist-packages (from requests->facenet-pytorch) (2.10)\n",
            "Requirement already satisfied: chardet<4,>=3.0.2 in /usr/local/lib/python3.6/dist-packages (from requests->facenet-pytorch) (3.0.4)\n",
            "Requirement already satisfied: dataclasses in /usr/local/lib/python3.6/dist-packages (from torch==1.7.0->torchvision->facenet-pytorch) (0.7)\n",
            "Requirement already satisfied: future in /usr/local/lib/python3.6/dist-packages (from torch==1.7.0->torchvision->facenet-pytorch) (0.16.0)\n",
            "Requirement already satisfied: typing-extensions in /usr/local/lib/python3.6/dist-packages (from torch==1.7.0->torchvision->facenet-pytorch) (3.7.4.3)\n",
            "Installing collected packages: facenet-pytorch\n",
            "Successfully installed facenet-pytorch-2.5.0\n"
          ],
          "name": "stdout"
        }
      ]
    },
    {
      "cell_type": "code",
      "metadata": {
        "id": "X8onE-7br-_p"
      },
      "source": [
        "from facenet_pytorch import MTCNN, InceptionResnetV1, fixed_image_standardization, training\n",
        "import torch\n",
        "from torch.utils.data import DataLoader, SubsetRandomSampler\n",
        "from torch import optim\n",
        "from torch.optim.lr_scheduler import MultiStepLR\n",
        "from torch.utils.tensorboard import SummaryWriter\n",
        "from torchvision import datasets, transforms\n",
        "import numpy as np\n",
        "import os"
      ],
      "execution_count": null,
      "outputs": []
    },
    {
      "cell_type": "code",
      "metadata": {
        "id": "igTs_hTksBjQ",
        "colab": {
          "base_uri": "https://localhost:8080/"
        },
        "outputId": "1e9f164d-178b-4257-ff73-c56f93ebe47b"
      },
      "source": [
        "\n",
        "\n",
        "data_dir = '/content/drive/My Drive/godeyedata'\n",
        "\n",
        "batch_size = 32\n",
        "epochs = 8\n",
        "workers = 0 if os.name == 'nt' else 8\n",
        "\n",
        "device = torch.device('cuda:0' if torch.cuda.is_available() else 'cpu')\n",
        "print('Running on device: {}'.format(device))\n"
      ],
      "execution_count": null,
      "outputs": [
        {
          "output_type": "stream",
          "text": [
            "Running on device: cpu\n"
          ],
          "name": "stdout"
        }
      ]
    },
    {
      "cell_type": "code",
      "metadata": {
        "id": "3ezhfoiRsFqP"
      },
      "source": [
        "mtcnn = MTCNN(\n",
        "    image_size=160, margin=0, min_face_size=20,\n",
        "    thresholds=[0.6, 0.7, 0.7], factor=0.709, post_process=True,\n",
        "    device=device\n",
        ")"
      ],
      "execution_count": null,
      "outputs": []
    },
    {
      "cell_type": "code",
      "metadata": {
        "id": "QmVpdX7jsHkH"
      },
      "source": [
        "\n",
        "dataset = datasets.ImageFolder(data_dir, transform=transforms.Resize((512, 512)))\n",
        "dataset.samples = [\n",
        "    (p, p.replace(data_dir, data_dir + '_cropped'))\n",
        "        for p, _ in dataset.samples\n",
        "]\n"
      ],
      "execution_count": null,
      "outputs": []
    },
    {
      "cell_type": "code",
      "metadata": {
        "id": "NjoEZSUNsKtv"
      },
      "source": [
        "\n",
        "loader = DataLoader(\n",
        "    dataset,\n",
        "    num_workers=workers,\n",
        "    batch_size=batch_size,\n",
        "    collate_fn=training.collate_pil\n",
        ")"
      ],
      "execution_count": null,
      "outputs": []
    },
    {
      "cell_type": "code",
      "metadata": {
        "id": "eVXAjJQ5sNEY",
        "colab": {
          "base_uri": "https://localhost:8080/"
        },
        "outputId": "422d611a-ca16-4c36-bef5-8196e88b8f64"
      },
      "source": [
        "\n",
        "for i, (x, y) in enumerate(loader):\n",
        "    mtcnn(x, y)\n",
        "    \n",
        "    print(y)\n",
        "    print('\\rBatch {} of {}'.format(i + 1, len(loader)), end='')"
      ],
      "execution_count": null,
      "outputs": [
        {
          "output_type": "stream",
          "text": [
            "['/content/drive/My Drive/godeyedata_cropped/Huỳnh Tuấn Minh - MT-014/MT-014-1.jpg', '/content/drive/My Drive/godeyedata_cropped/Huỳnh Tuấn Minh - MT-014/MT-014-10.jpg', '/content/drive/My Drive/godeyedata_cropped/Huỳnh Tuấn Minh - MT-014/MT-014-11.jpg', '/content/drive/My Drive/godeyedata_cropped/Huỳnh Tuấn Minh - MT-014/MT-014-12.jpg', '/content/drive/My Drive/godeyedata_cropped/Huỳnh Tuấn Minh - MT-014/MT-014-13.jpg', '/content/drive/My Drive/godeyedata_cropped/Huỳnh Tuấn Minh - MT-014/MT-014-14.jpg', '/content/drive/My Drive/godeyedata_cropped/Huỳnh Tuấn Minh - MT-014/MT-014-15.jpg', '/content/drive/My Drive/godeyedata_cropped/Huỳnh Tuấn Minh - MT-014/MT-014-16.jpg', '/content/drive/My Drive/godeyedata_cropped/Huỳnh Tuấn Minh - MT-014/MT-014-17.jpg', '/content/drive/My Drive/godeyedata_cropped/Huỳnh Tuấn Minh - MT-014/MT-014-18.jpg', '/content/drive/My Drive/godeyedata_cropped/Huỳnh Tuấn Minh - MT-014/MT-014-19.jpg', '/content/drive/My Drive/godeyedata_cropped/Huỳnh Tuấn Minh - MT-014/MT-014-2.jpg', '/content/drive/My Drive/godeyedata_cropped/Huỳnh Tuấn Minh - MT-014/MT-014-20.jpg', '/content/drive/My Drive/godeyedata_cropped/Huỳnh Tuấn Minh - MT-014/MT-014-21.jpg', '/content/drive/My Drive/godeyedata_cropped/Huỳnh Tuấn Minh - MT-014/MT-014-22.jpg', '/content/drive/My Drive/godeyedata_cropped/Huỳnh Tuấn Minh - MT-014/MT-014-23.jpg', '/content/drive/My Drive/godeyedata_cropped/Huỳnh Tuấn Minh - MT-014/MT-014-24.jpg', '/content/drive/My Drive/godeyedata_cropped/Huỳnh Tuấn Minh - MT-014/MT-014-25.jpg', '/content/drive/My Drive/godeyedata_cropped/Huỳnh Tuấn Minh - MT-014/MT-014-26.jpg', '/content/drive/My Drive/godeyedata_cropped/Huỳnh Tuấn Minh - MT-014/MT-014-27.jpg', '/content/drive/My Drive/godeyedata_cropped/Huỳnh Tuấn Minh - MT-014/MT-014-28.jpg', '/content/drive/My Drive/godeyedata_cropped/Huỳnh Tuấn Minh - MT-014/MT-014-29.jpg', '/content/drive/My Drive/godeyedata_cropped/Huỳnh Tuấn Minh - MT-014/MT-014-3.jpg', '/content/drive/My Drive/godeyedata_cropped/Huỳnh Tuấn Minh - MT-014/MT-014-30.jpg', '/content/drive/My Drive/godeyedata_cropped/Huỳnh Tuấn Minh - MT-014/MT-014-31.jpg', '/content/drive/My Drive/godeyedata_cropped/Huỳnh Tuấn Minh - MT-014/MT-014-32.jpg', '/content/drive/My Drive/godeyedata_cropped/Huỳnh Tuấn Minh - MT-014/MT-014-33.jpg', '/content/drive/My Drive/godeyedata_cropped/Huỳnh Tuấn Minh - MT-014/MT-014-34.jpg', '/content/drive/My Drive/godeyedata_cropped/Huỳnh Tuấn Minh - MT-014/MT-014-35.jpg', '/content/drive/My Drive/godeyedata_cropped/Huỳnh Tuấn Minh - MT-014/MT-014-36.jpg', '/content/drive/My Drive/godeyedata_cropped/Huỳnh Tuấn Minh - MT-014/MT-014-37.jpg', '/content/drive/My Drive/godeyedata_cropped/Huỳnh Tuấn Minh - MT-014/MT-014-38.jpg']\n",
            "Batch 1 of 4['/content/drive/My Drive/godeyedata_cropped/Huỳnh Tuấn Minh - MT-014/MT-014-39.jpg', '/content/drive/My Drive/godeyedata_cropped/Huỳnh Tuấn Minh - MT-014/MT-014-4.jpg', '/content/drive/My Drive/godeyedata_cropped/Huỳnh Tuấn Minh - MT-014/MT-014-5.jpg', '/content/drive/My Drive/godeyedata_cropped/Huỳnh Tuấn Minh - MT-014/MT-014-6.jpg', '/content/drive/My Drive/godeyedata_cropped/Huỳnh Tuấn Minh - MT-014/MT-014-7.jpg', '/content/drive/My Drive/godeyedata_cropped/Huỳnh Tuấn Minh - MT-014/MT-014-8.jpg', '/content/drive/My Drive/godeyedata_cropped/Huỳnh Tuấn Minh - MT-014/MT-014-9.jpg', '/content/drive/My Drive/godeyedata_cropped/MT - 009 Đỗ Văn Trường - done/MT-009-1.jpg', '/content/drive/My Drive/godeyedata_cropped/MT - 009 Đỗ Văn Trường - done/MT-009-10.jpg', '/content/drive/My Drive/godeyedata_cropped/MT - 009 Đỗ Văn Trường - done/MT-009-11.jpg', '/content/drive/My Drive/godeyedata_cropped/MT - 009 Đỗ Văn Trường - done/MT-009-12.jpg', '/content/drive/My Drive/godeyedata_cropped/MT - 009 Đỗ Văn Trường - done/MT-009-13.jpg', '/content/drive/My Drive/godeyedata_cropped/MT - 009 Đỗ Văn Trường - done/MT-009-14.jpg', '/content/drive/My Drive/godeyedata_cropped/MT - 009 Đỗ Văn Trường - done/MT-009-15.jpg', '/content/drive/My Drive/godeyedata_cropped/MT - 009 Đỗ Văn Trường - done/MT-009-16.jpg', '/content/drive/My Drive/godeyedata_cropped/MT - 009 Đỗ Văn Trường - done/MT-009-17.jpg', '/content/drive/My Drive/godeyedata_cropped/MT - 009 Đỗ Văn Trường - done/MT-009-2.jpg', '/content/drive/My Drive/godeyedata_cropped/MT - 009 Đỗ Văn Trường - done/MT-009-3.jpg', '/content/drive/My Drive/godeyedata_cropped/MT - 009 Đỗ Văn Trường - done/MT-009-4.jpg', '/content/drive/My Drive/godeyedata_cropped/MT - 009 Đỗ Văn Trường - done/MT-009-5.jpg', '/content/drive/My Drive/godeyedata_cropped/MT - 009 Đỗ Văn Trường - done/MT-009-6.jpg', '/content/drive/My Drive/godeyedata_cropped/MT - 009 Đỗ Văn Trường - done/MT-009-7.jpg', '/content/drive/My Drive/godeyedata_cropped/MT - 009 Đỗ Văn Trường - done/MT-009-8.jpg', '/content/drive/My Drive/godeyedata_cropped/MT - 009 Đỗ Văn Trường - done/MT-009-9.jpg', '/content/drive/My Drive/godeyedata_cropped/Nguyễn Duy Khánh-MT-013/MT-013-1.jpg', '/content/drive/My Drive/godeyedata_cropped/Nguyễn Duy Khánh-MT-013/MT-013-10.jpg', '/content/drive/My Drive/godeyedata_cropped/Nguyễn Duy Khánh-MT-013/MT-013-2.jpg', '/content/drive/My Drive/godeyedata_cropped/Nguyễn Duy Khánh-MT-013/MT-013-3.jpg', '/content/drive/My Drive/godeyedata_cropped/Nguyễn Duy Khánh-MT-013/MT-013-4.jpg', '/content/drive/My Drive/godeyedata_cropped/Nguyễn Duy Khánh-MT-013/MT-013-5.jpg', '/content/drive/My Drive/godeyedata_cropped/Nguyễn Duy Khánh-MT-013/MT-013-6.jpg', '/content/drive/My Drive/godeyedata_cropped/Nguyễn Duy Khánh-MT-013/MT-013-7.jpg']\n",
            "Batch 2 of 4['/content/drive/My Drive/godeyedata_cropped/Nguyễn Duy Khánh-MT-013/MT-013-8.jpg', '/content/drive/My Drive/godeyedata_cropped/Nguyễn Duy Khánh-MT-013/MT-013-9.jpg', '/content/drive/My Drive/godeyedata_cropped/Nguyễn Hoàng Đức - MT-006/MT-006-1.jpg', '/content/drive/My Drive/godeyedata_cropped/Nguyễn Hoàng Đức - MT-006/MT-006-2.jpg', '/content/drive/My Drive/godeyedata_cropped/Nguyễn Hoàng Đức - MT-006/MT-006-3.jpg', '/content/drive/My Drive/godeyedata_cropped/Nguyễn Hoàng Đức - MT-006/MT-006-4.jpg', '/content/drive/My Drive/godeyedata_cropped/Nguyễn Hoàng Đức - MT-006/MT-006-5.jpg', '/content/drive/My Drive/godeyedata_cropped/Nguyễn Hoàng Đức - MT-006/MT-006-6.jpg', '/content/drive/My Drive/godeyedata_cropped/Nguyễn Quang Huy-MT-008/MT-008-10.jpg', '/content/drive/My Drive/godeyedata_cropped/Nguyễn Quang Huy-MT-008/MT-008-7.jpg', '/content/drive/My Drive/godeyedata_cropped/Nguyễn Đức Điệp-MT-004/MT-004-1.jpg', '/content/drive/My Drive/godeyedata_cropped/Nguyễn Đức Điệp-MT-004/MT-004-10.jpg', '/content/drive/My Drive/godeyedata_cropped/Nguyễn Đức Điệp-MT-004/MT-004-11.jpg', '/content/drive/My Drive/godeyedata_cropped/Nguyễn Đức Điệp-MT-004/MT-004-12.jpg', '/content/drive/My Drive/godeyedata_cropped/Nguyễn Đức Điệp-MT-004/MT-004-13.jpg', '/content/drive/My Drive/godeyedata_cropped/Nguyễn Đức Điệp-MT-004/MT-004-14.jpg', '/content/drive/My Drive/godeyedata_cropped/Nguyễn Đức Điệp-MT-004/MT-004-15.jpg', '/content/drive/My Drive/godeyedata_cropped/Nguyễn Đức Điệp-MT-004/MT-004-2.jpg', '/content/drive/My Drive/godeyedata_cropped/Nguyễn Đức Điệp-MT-004/MT-004-3.jpg', '/content/drive/My Drive/godeyedata_cropped/Nguyễn Đức Điệp-MT-004/MT-004-4.jpg', '/content/drive/My Drive/godeyedata_cropped/Nguyễn Đức Điệp-MT-004/MT-004-5.jpg', '/content/drive/My Drive/godeyedata_cropped/Nguyễn Đức Điệp-MT-004/MT-004-6.jpg', '/content/drive/My Drive/godeyedata_cropped/Nguyễn Đức Điệp-MT-004/MT-004-7.jpg', '/content/drive/My Drive/godeyedata_cropped/Nguyễn Đức Điệp-MT-004/MT-004-8.jpg', '/content/drive/My Drive/godeyedata_cropped/Nguyễn Đức Điệp-MT-004/MT-004-9.jpg', '/content/drive/My Drive/godeyedata_cropped/Trần Tiến Hòa-MT-002/MT-002-1.jpg', '/content/drive/My Drive/godeyedata_cropped/Trần Tiến Hòa-MT-002/MT-002-10.jpg', '/content/drive/My Drive/godeyedata_cropped/Trần Tiến Hòa-MT-002/MT-002-11.jpg', '/content/drive/My Drive/godeyedata_cropped/Trần Tiến Hòa-MT-002/MT-002-12.jpg', '/content/drive/My Drive/godeyedata_cropped/Trần Tiến Hòa-MT-002/MT-002-13.jpg', '/content/drive/My Drive/godeyedata_cropped/Trần Tiến Hòa-MT-002/MT-002-14.jpg', '/content/drive/My Drive/godeyedata_cropped/Trần Tiến Hòa-MT-002/MT-002-15.jpg']\n",
            "Batch 3 of 4['/content/drive/My Drive/godeyedata_cropped/Trần Tiến Hòa-MT-002/MT-002-16.jpg', '/content/drive/My Drive/godeyedata_cropped/Trần Tiến Hòa-MT-002/MT-002-17.jpg', '/content/drive/My Drive/godeyedata_cropped/Trần Tiến Hòa-MT-002/MT-002-18.jpg', '/content/drive/My Drive/godeyedata_cropped/Trần Tiến Hòa-MT-002/MT-002-19.jpg', '/content/drive/My Drive/godeyedata_cropped/Trần Tiến Hòa-MT-002/MT-002-2.jpg', '/content/drive/My Drive/godeyedata_cropped/Trần Tiến Hòa-MT-002/MT-002-3.jpg', '/content/drive/My Drive/godeyedata_cropped/Trần Tiến Hòa-MT-002/MT-002-4.jpg', '/content/drive/My Drive/godeyedata_cropped/Trần Tiến Hòa-MT-002/MT-002-5.jpg', '/content/drive/My Drive/godeyedata_cropped/Trần Tiến Hòa-MT-002/MT-002-6.jpg', '/content/drive/My Drive/godeyedata_cropped/Trần Tiến Hòa-MT-002/MT-002-7.jpg', '/content/drive/My Drive/godeyedata_cropped/Trần Tiến Hòa-MT-002/MT-002-8.jpg', '/content/drive/My Drive/godeyedata_cropped/Trần Tiến Hòa-MT-002/MT-002-9.jpg', '/content/drive/My Drive/godeyedata_cropped/Trần Tiến Hòa-MT-002/hinh_4x6.jpg']\n",
            "Batch 4 of 4"
          ],
          "name": "stdout"
        }
      ]
    },
    {
      "cell_type": "code",
      "metadata": {
        "id": "1r5pwg23Ep7-"
      },
      "source": [
        "# Remove mtcnn to reduce GPU memory usage\n",
        "del mtcnn"
      ],
      "execution_count": null,
      "outputs": []
    },
    {
      "cell_type": "code",
      "metadata": {
        "id": "6VYMkZcLGC4V"
      },
      "source": [
        "%load_ext tensorboard"
      ],
      "execution_count": null,
      "outputs": []
    },
    {
      "cell_type": "code",
      "metadata": {
        "id": "IGPpQWQkq38H",
        "colab": {
          "base_uri": "https://localhost:8080/"
        },
        "outputId": "8732feb6-bd74-44e7-eecb-a7342d38c2a5"
      },
      "source": [
        "\n",
        "# detector for face detection\n",
        "\n",
        "# Define InceptionResnet\n",
        "resnet = InceptionResnetV1(\n",
        "    classify=True,\n",
        "    pretrained='vggface2',\n",
        "    num_classes=len(dataset.class_to_idx)\n",
        ").to(device)\n",
        "\n",
        "\n",
        "optimizer = optim.Adam(resnet.parameters(), lr=0.001)\n",
        "scheduler = MultiStepLR(optimizer, [5, 10])\n",
        "\n",
        "trans = transforms.Compose([\n",
        "    np.float32,\n",
        "    transforms.ToTensor(),\n",
        "    fixed_image_standardization\n",
        "])\n",
        "dataset = datasets.ImageFolder(data_dir + '_cropped', transform=trans)\n",
        "img_inds = np.arange(len(dataset))\n",
        "np.random.shuffle(img_inds)\n",
        "train_inds = img_inds[:int(0.8 * len(img_inds))]\n",
        "val_inds = img_inds[int(0.8 * len(img_inds)):]\n",
        "\n",
        "train_loader = DataLoader(\n",
        "    dataset,\n",
        "    num_workers=workers,\n",
        "    batch_size=batch_size,\n",
        "    sampler=SubsetRandomSampler(train_inds)\n",
        ")\n",
        "val_loader = DataLoader(\n",
        "    dataset,\n",
        "    num_workers=workers,\n",
        "    batch_size=batch_size,\n",
        "    sampler=SubsetRandomSampler(val_inds))\n",
        "\n",
        "#loss function\n",
        "#note1 implement arcface loss later on\n",
        "#note2 AM softmax loss\n",
        "#note3 arcface loss from insightface\n",
        "loss_fn = torch.nn.CrossEntropyLoss()\n",
        "metrics = {\n",
        "    'fps': training.BatchTimer(),\n",
        "    'acc': training.accuracy\n",
        "}\n",
        "\n",
        "\n",
        "# train model\n",
        "writer = SummaryWriter()\n",
        "writer.iteration, writer.interval = 0, 10\n",
        "\n",
        "print('\\n\\nInitial')\n",
        "print('-' * 10)\n",
        "resnet.eval()\n",
        "training.pass_epoch(\n",
        "    resnet, loss_fn, val_loader,\n",
        "    batch_metrics=metrics, show_running=True, device=device,\n",
        "    writer=writer\n",
        ")\n",
        "\n",
        "for epoch in range(epochs):\n",
        "    print('\\nEpoch {}/{}'.format(epoch + 1, epochs))\n",
        "    print('-' * 10)\n",
        "\n",
        "    resnet.train()\n",
        "    training.pass_epoch(\n",
        "        resnet, loss_fn, train_loader, optimizer, scheduler,\n",
        "        batch_metrics=metrics, show_running=True, device=device,\n",
        "        writer=writer\n",
        "    )\n",
        "\n",
        "    resnet.eval()\n",
        "    training.pass_epoch(\n",
        "        resnet, loss_fn, val_loader,\n",
        "        batch_metrics=metrics, show_running=True, device=device,\n",
        "        writer=writer\n",
        "    )\n",
        "\n",
        "writer.close()"
      ],
      "execution_count": null,
      "outputs": [
        {
          "output_type": "stream",
          "text": [
            "\n",
            "\n",
            "Initial\n",
            "----------\n",
            "Valid |     1/1    | loss:    1.6772 | fps:    6.2653 | acc:    0.5909   \n",
            "\n",
            "Epoch 1/8\n",
            "----------\n",
            "Train |     3/3    | loss:    1.0904 | fps:    3.3292 | acc:    0.5942   \n",
            "Valid |     1/1    | loss:   10.6765 | fps:    6.8640 | acc:    0.2727   \n",
            "\n",
            "Epoch 2/8\n",
            "----------\n"
          ],
          "name": "stdout"
        },
        {
          "output_type": "stream",
          "text": [
            "Traceback (most recent call last):\n",
            "  File \"/usr/lib/python3.6/multiprocessing/queues.py\", line 230, in _feed\n",
            "    close()\n",
            "  File \"/usr/lib/python3.6/multiprocessing/connection.py\", line 177, in close\n",
            "    self._close()\n",
            "  File \"/usr/lib/python3.6/multiprocessing/connection.py\", line 361, in _close\n",
            "    _close(self._handle)\n",
            "OSError: [Errno 9] Bad file descriptor\n",
            "Traceback (most recent call last):\n",
            "Traceback (most recent call last):\n",
            "  File \"/usr/lib/python3.6/multiprocessing/queues.py\", line 230, in _feed\n",
            "    close()\n",
            "  File \"/usr/lib/python3.6/multiprocessing/connection.py\", line 177, in close\n",
            "    self._close()\n",
            "  File \"/usr/lib/python3.6/multiprocessing/connection.py\", line 361, in _close\n",
            "    _close(self._handle)\n",
            "OSError: [Errno 9] Bad file descriptor\n",
            "Traceback (most recent call last):\n",
            "  File \"/usr/lib/python3.6/multiprocessing/queues.py\", line 230, in _feed\n",
            "    close()\n",
            "  File \"/usr/lib/python3.6/multiprocessing/connection.py\", line 177, in close\n",
            "    self._close()\n",
            "  File \"/usr/lib/python3.6/multiprocessing/connection.py\", line 361, in _close\n",
            "    _close(self._handle)\n",
            "OSError: [Errno 9] Bad file descriptor\n",
            "  File \"/usr/lib/python3.6/multiprocessing/queues.py\", line 230, in _feed\n",
            "    close()\n",
            "  File \"/usr/lib/python3.6/multiprocessing/connection.py\", line 177, in close\n",
            "    self._close()\n",
            "  File \"/usr/lib/python3.6/multiprocessing/connection.py\", line 361, in _close\n",
            "    _close(self._handle)\n",
            "OSError: [Errno 9] Bad file descriptor\n",
            "Traceback (most recent call last):\n",
            "  File \"/usr/lib/python3.6/multiprocessing/queues.py\", line 230, in _feed\n",
            "    close()\n",
            "  File \"/usr/lib/python3.6/multiprocessing/connection.py\", line 177, in close\n",
            "    self._close()\n",
            "  File \"/usr/lib/python3.6/multiprocessing/connection.py\", line 361, in _close\n",
            "    _close(self._handle)\n",
            "OSError: [Errno 9] Bad file descriptor\n",
            "Traceback (most recent call last):\n",
            "  File \"/usr/lib/python3.6/multiprocessing/queues.py\", line 230, in _feed\n",
            "    close()\n",
            "  File \"/usr/lib/python3.6/multiprocessing/connection.py\", line 177, in close\n",
            "    self._close()\n",
            "  File \"/usr/lib/python3.6/multiprocessing/connection.py\", line 361, in _close\n",
            "    _close(self._handle)\n",
            "OSError: [Errno 9] Bad file descriptor\n",
            "Traceback (most recent call last):\n",
            "  File \"/usr/lib/python3.6/multiprocessing/queues.py\", line 230, in _feed\n",
            "    close()\n",
            "  File \"/usr/lib/python3.6/multiprocessing/connection.py\", line 177, in close\n",
            "    self._close()\n",
            "  File \"/usr/lib/python3.6/multiprocessing/connection.py\", line 361, in _close\n",
            "    _close(self._handle)\n",
            "OSError: [Errno 9] Bad file descriptor\n",
            "Traceback (most recent call last):\n",
            "  File \"/usr/lib/python3.6/multiprocessing/queues.py\", line 230, in _feed\n",
            "    close()\n",
            "  File \"/usr/lib/python3.6/multiprocessing/connection.py\", line 177, in close\n",
            "    self._close()\n",
            "  File \"/usr/lib/python3.6/multiprocessing/connection.py\", line 361, in _close\n",
            "    _close(self._handle)\n",
            "OSError: [Errno 9] Bad file descriptor\n",
            "Traceback (most recent call last):\n",
            "  File \"/usr/lib/python3.6/multiprocessing/queues.py\", line 230, in _feed\n",
            "    close()\n",
            "  File \"/usr/lib/python3.6/multiprocessing/connection.py\", line 177, in close\n",
            "    self._close()\n",
            "  File \"/usr/lib/python3.6/multiprocessing/connection.py\", line 361, in _close\n",
            "    _close(self._handle)\n",
            "OSError: [Errno 9] Bad file descriptor\n",
            "Traceback (most recent call last):\n",
            "  File \"/usr/lib/python3.6/multiprocessing/queues.py\", line 230, in _feed\n",
            "    close()\n",
            "  File \"/usr/lib/python3.6/multiprocessing/connection.py\", line 177, in close\n",
            "    self._close()\n",
            "  File \"/usr/lib/python3.6/multiprocessing/connection.py\", line 361, in _close\n",
            "    _close(self._handle)\n",
            "OSError: [Errno 9] Bad file descriptor\n",
            "Traceback (most recent call last):\n",
            "  File \"/usr/lib/python3.6/multiprocessing/queues.py\", line 230, in _feed\n",
            "    close()\n",
            "  File \"/usr/lib/python3.6/multiprocessing/connection.py\", line 177, in close\n",
            "    self._close()\n",
            "  File \"/usr/lib/python3.6/multiprocessing/connection.py\", line 361, in _close\n",
            "    _close(self._handle)\n",
            "OSError: [Errno 9] Bad file descriptor\n",
            "Traceback (most recent call last):\n",
            "  File \"/usr/lib/python3.6/multiprocessing/queues.py\", line 230, in _feed\n",
            "    close()\n",
            "  File \"/usr/lib/python3.6/multiprocessing/connection.py\", line 177, in close\n",
            "    self._close()\n",
            "  File \"/usr/lib/python3.6/multiprocessing/connection.py\", line 361, in _close\n",
            "    _close(self._handle)\n",
            "OSError: [Errno 9] Bad file descriptor\n"
          ],
          "name": "stderr"
        },
        {
          "output_type": "stream",
          "text": [
            "Train |     3/3    | loss:    0.1919 | fps:    2.5613 | acc:    0.9479   \n",
            "Valid |     1/1    | loss:    3.9396 | fps:    6.5513 | acc:    0.5000   \n",
            "\n",
            "Epoch 3/8\n",
            "----------\n",
            "Train |     3/3    | loss:    0.0701 | fps:    3.2379 | acc:    0.9896   \n",
            "Valid |     1/1    | loss:    5.1589 | fps:    6.5589 | acc:    0.3182   \n",
            "\n",
            "Epoch 4/8\n",
            "----------\n",
            "Train |     3/3    | loss:    0.0470 | fps:    3.2666 | acc:    0.9896   \n",
            "Valid |     1/1    | loss:    0.5556 | fps:    6.7953 | acc:    0.7727   \n",
            "\n",
            "Epoch 5/8\n",
            "----------\n",
            "Train |     3/3    | loss:    0.0844 | fps:    3.3210 | acc:    0.9855   \n",
            "Valid |     1/1    | loss:    1.2891 | fps:    6.8398 | acc:    0.5455   \n",
            "\n",
            "Epoch 6/8\n",
            "----------\n",
            "Train |     3/3    | loss:    0.0213 | fps:    3.3162 | acc:    0.9896   \n",
            "Valid |     1/1    | loss:    1.3734 | fps:    6.7758 | acc:    0.4545   \n",
            "\n",
            "Epoch 7/8\n",
            "----------\n",
            "Train |     3/3    | loss:    0.0073 | fps:    3.3004 | acc:    1.0000   \n",
            "Valid |     1/1    | loss:    1.1550 | fps:    6.6470 | acc:    0.5909   \n",
            "\n",
            "Epoch 8/8\n",
            "----------\n",
            "Train |     3/3    | loss:    0.0084 | fps:    3.2924 | acc:    1.0000   \n",
            "Valid |     1/1    | loss:    0.7518 | fps:    6.6681 | acc:    0.6818   \n"
          ],
          "name": "stdout"
        }
      ]
    },
    {
      "cell_type": "code",
      "metadata": {
        "id": "cm08xwhpMKip"
      },
      "source": [
        "!kill 1623"
      ],
      "execution_count": null,
      "outputs": []
    },
    {
      "cell_type": "code",
      "metadata": {
        "id": "ab2Q14yoFj9G"
      },
      "source": [
        "%tensorboard --logdir logs"
      ],
      "execution_count": null,
      "outputs": []
    },
    {
      "cell_type": "code",
      "metadata": {
        "id": "kPH2XnmcROU5"
      },
      "source": [
        "mtcnn = MTCNN(\n",
        "    image_size=160, margin=0, min_face_size=20,\n",
        "    thresholds=[0.6, 0.7, 0.7], factor=0.709, post_process=True,\n",
        "    device=device\n",
        ")"
      ],
      "execution_count": null,
      "outputs": []
    },
    {
      "cell_type": "code",
      "metadata": {
        "id": "Ra4CUEadQ02y"
      },
      "source": [
        "resnet = InceptionResnetV1(pretrained='vggface2').eval().to(device)"
      ],
      "execution_count": null,
      "outputs": []
    },
    {
      "cell_type": "code",
      "metadata": {
        "id": "XpTtiwEcQ6MT"
      },
      "source": [
        "def collate_fn(x):\n",
        "    return x[0]\n",
        "\n",
        "dataset = datasets.ImageFolder('/content/drive/My Drive/godeyedata_cropped')\n",
        "dataset.idx_to_class = {i:c for c, i in dataset.class_to_idx.items()}\n",
        "loader = DataLoader(dataset, collate_fn=collate_fn, num_workers=workers)"
      ],
      "execution_count": null,
      "outputs": []
    },
    {
      "cell_type": "code",
      "metadata": {
        "id": "bAq8pewVQ6Oq",
        "colab": {
          "base_uri": "https://localhost:8080/"
        },
        "outputId": "78c54c94-7c8e-4158-df8d-bc1c01c2d255"
      },
      "source": [
        "aligned = []\n",
        "names = []\n",
        "for x, y in loader:\n",
        "    x_aligned, prob = mtcnn(x, return_prob=True)\n",
        "    if x_aligned is not None:\n",
        "        print('Face detected with probability: {:8f}'.format(prob))\n",
        "        aligned.append(x_aligned)\n",
        "        names.append(dataset.idx_to_class[y])\n"
      ],
      "execution_count": null,
      "outputs": [
        {
          "output_type": "stream",
          "text": [
            "Face detected with probability: 0.988100\n",
            "Face detected with probability: 0.988906\n",
            "Face detected with probability: 0.999956\n",
            "Face detected with probability: 0.999996\n",
            "Face detected with probability: 0.986320\n",
            "Face detected with probability: 0.999943\n",
            "Face detected with probability: 0.999998\n",
            "Face detected with probability: 0.999861\n",
            "Face detected with probability: 0.999930\n",
            "Face detected with probability: 0.998806\n",
            "Face detected with probability: 0.999775\n",
            "Face detected with probability: 0.997056\n",
            "Face detected with probability: 0.998458\n",
            "Face detected with probability: 0.999157\n",
            "Face detected with probability: 0.999422\n",
            "Face detected with probability: 0.998618\n",
            "Face detected with probability: 0.999839\n",
            "Face detected with probability: 0.999278\n",
            "Face detected with probability: 0.997544\n",
            "Face detected with probability: 0.999461\n",
            "Face detected with probability: 0.999673\n",
            "Face detected with probability: 0.999663\n",
            "Face detected with probability: 0.997520\n",
            "Face detected with probability: 0.999926\n",
            "Face detected with probability: 0.999468\n",
            "Face detected with probability: 0.997747\n",
            "Face detected with probability: 0.999821\n",
            "Face detected with probability: 0.999999\n",
            "Face detected with probability: 0.999871\n",
            "Face detected with probability: 0.999668\n",
            "Face detected with probability: 1.000000\n",
            "Face detected with probability: 0.999568\n",
            "Face detected with probability: 0.997340\n",
            "Face detected with probability: 0.999731\n",
            "Face detected with probability: 0.998720\n",
            "Face detected with probability: 0.997346\n",
            "Face detected with probability: 0.995163\n",
            "Face detected with probability: 0.999921\n",
            "Face detected with probability: 0.999626\n",
            "Face detected with probability: 0.999690\n",
            "Face detected with probability: 0.997900\n",
            "Face detected with probability: 0.998330\n",
            "Face detected with probability: 0.999423\n",
            "Face detected with probability: 0.999808\n",
            "Face detected with probability: 0.999597\n",
            "Face detected with probability: 0.991629\n",
            "Face detected with probability: 0.997232\n",
            "Face detected with probability: 0.998462\n",
            "Face detected with probability: 0.997525\n",
            "Face detected with probability: 0.997086\n",
            "Face detected with probability: 0.976952\n",
            "Face detected with probability: 0.996123\n",
            "Face detected with probability: 0.996300\n",
            "Face detected with probability: 0.999741\n",
            "Face detected with probability: 0.999852\n",
            "Face detected with probability: 0.999999\n",
            "Face detected with probability: 0.999955\n",
            "Face detected with probability: 0.999936\n",
            "Face detected with probability: 0.999922\n",
            "Face detected with probability: 0.999965\n",
            "Face detected with probability: 0.999896\n",
            "Face detected with probability: 0.999923\n",
            "Face detected with probability: 0.999982\n",
            "Face detected with probability: 0.999708\n",
            "Face detected with probability: 0.999754\n",
            "Face detected with probability: 0.999837\n",
            "Face detected with probability: 0.999719\n",
            "Face detected with probability: 0.999670\n",
            "Face detected with probability: 0.999969\n",
            "Face detected with probability: 0.999816\n",
            "Face detected with probability: 0.999272\n",
            "Face detected with probability: 0.999600\n",
            "Face detected with probability: 0.999984\n",
            "Face detected with probability: 0.999918\n",
            "Face detected with probability: 0.999999\n",
            "Face detected with probability: 0.999980\n",
            "Face detected with probability: 0.999900\n",
            "Face detected with probability: 0.999997\n",
            "Face detected with probability: 0.999888\n",
            "Face detected with probability: 0.998771\n",
            "Face detected with probability: 0.999485\n",
            "Face detected with probability: 0.999997\n",
            "Face detected with probability: 1.000000\n",
            "Face detected with probability: 0.999991\n",
            "Face detected with probability: 1.000000\n",
            "Face detected with probability: 0.999939\n",
            "Face detected with probability: 0.999273\n",
            "Face detected with probability: 0.999884\n",
            "Face detected with probability: 0.999986\n",
            "Face detected with probability: 0.999886\n",
            "Face detected with probability: 0.999895\n",
            "Face detected with probability: 0.999103\n",
            "Face detected with probability: 0.999539\n",
            "Face detected with probability: 0.997982\n",
            "Face detected with probability: 0.999966\n",
            "Face detected with probability: 0.999906\n",
            "Face detected with probability: 0.999934\n",
            "Face detected with probability: 0.999998\n",
            "Face detected with probability: 0.999970\n",
            "Face detected with probability: 0.999998\n",
            "Face detected with probability: 0.999996\n",
            "Face detected with probability: 0.999994\n",
            "Face detected with probability: 0.999808\n",
            "Face detected with probability: 0.999469\n",
            "Face detected with probability: 0.999982\n",
            "Face detected with probability: 0.999013\n",
            "Face detected with probability: 0.999945\n",
            "Face detected with probability: 0.999848\n",
            "Face detected with probability: 0.999920\n"
          ],
          "name": "stdout"
        }
      ]
    },
    {
      "cell_type": "code",
      "metadata": {
        "id": "qZ0PTad4Q6RF"
      },
      "source": [
        "aligned = torch.stack(aligned).to(device)\n",
        "embeddings = resnet(aligned).detach().cpu()"
      ],
      "execution_count": null,
      "outputs": []
    },
    {
      "cell_type": "code",
      "metadata": {
        "id": "wLFGAqmRRX1w"
      },
      "source": [
        "import pandas as pd\n"
      ],
      "execution_count": null,
      "outputs": []
    },
    {
      "cell_type": "code",
      "metadata": {
        "id": "qchmhD2WQ6TM"
      },
      "source": [
        "dists = [[(e1 - e2).norm().item() for e2 in embeddings] for e1 in embeddings]\n",
        "df=pd.DataFrame(dists, columns=names, index=names)"
      ],
      "execution_count": null,
      "outputs": []
    },
    {
      "cell_type": "code",
      "metadata": {
        "id": "-DjQfCnAUrh-",
        "colab": {
          "base_uri": "https://localhost:8080/"
        },
        "outputId": "bf7cfd5a-d302-4431-b114-d9cdf643214e"
      },
      "source": [
        "print(df)"
      ],
      "execution_count": null,
      "outputs": [
        {
          "output_type": "stream",
          "text": [
            "                             Huỳnh Tuấn Minh - MT-014  ...  Trần Tiến Hòa-MT-002\n",
            "Huỳnh Tuấn Minh - MT-014                     0.000000  ...                   8.502755\n",
            "Huỳnh Tuấn Minh - MT-014                     2.555068  ...                   9.422690\n",
            "Huỳnh Tuấn Minh - MT-014                     1.275388  ...                   8.331600\n",
            "Huỳnh Tuấn Minh - MT-014                     1.397050  ...                   7.457462\n",
            "Huỳnh Tuấn Minh - MT-014                     1.806561  ...                   8.060407\n",
            "...                                                  ...  ...                        ...\n",
            "Trần Tiến Hòa-MT-002                       6.312444  ...                   2.583631\n",
            "Trần Tiến Hòa-MT-002                       7.571887  ...                   1.633288\n",
            "Trần Tiến Hòa-MT-002                       9.281720  ...                   2.200893\n",
            "Trần Tiến Hòa-MT-002                       7.575223  ...                   1.288173\n",
            "Trần Tiến Hòa-MT-002                       8.502755  ...                   0.000000\n",
            "\n",
            "[109 rows x 109 columns]\n"
          ],
          "name": "stdout"
        }
      ]
    },
    {
      "cell_type": "code",
      "metadata": {
        "id": "L1wHuVryRvgS"
      },
      "source": [
        "df.to_csv('/content/drive/My Drive/out_finetuning.csv')"
      ],
      "execution_count": null,
      "outputs": []
    }
  ]
}