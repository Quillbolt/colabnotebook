{
  "nbformat": 4,
  "nbformat_minor": 0,
  "metadata": {
    "colab": {
      "name": "Untitled9.ipynb",
      "provenance": [],
      "mount_file_id": "1bF04niDaKZYoGr707ImUZGOCUeIMJMW8",
      "authorship_tag": "ABX9TyMPfC5vGd9N27R5Ve44AqIB",
      "include_colab_link": true
    },
    "kernelspec": {
      "name": "python3",
      "display_name": "Python 3"
    },
    "accelerator": "GPU"
  },
  "cells": [
    {
      "cell_type": "markdown",
      "metadata": {
        "id": "view-in-github",
        "colab_type": "text"
      },
      "source": [
        "<a href=\"https://colab.research.google.com/github/Quillbolt/colabnotebook/blob/main/Untitled9.ipynb\" target=\"_parent\"><img src=\"https://colab.research.google.com/assets/colab-badge.svg\" alt=\"Open In Colab\"/></a>"
      ]
    },
    {
      "cell_type": "code",
      "metadata": {
        "id": "Tnp5WWN1ch4a",
        "colab": {
          "base_uri": "https://localhost:8080/"
        },
        "outputId": "c98f2ea6-58fe-41fa-b688-f9908fb1bdcb"
      },
      "source": [
        "import numpy as np # linear algebra\n",
        "import pandas as pd # data processing, CSV file I/O (e.g. pd.read_csv)\n",
        "\n",
        "# Input data files are available in the read-only \"../input/\" directory\n",
        "# For example, running this (by clicking run or pressing Shift+Enter) will list all files under the input directory\n",
        "\n",
        "import os\n",
        "for dirname, _, filenames in os.walk('/content/drive/My Drive/MTdata'):\n",
        "    for filename in filenames:\n",
        "        print(os.path.join(dirname, filename))"
      ],
      "execution_count": null,
      "outputs": [
        {
          "output_type": "stream",
          "text": [
            "/content/drive/My Drive/MTdata/godeyedata/Nguyễn Hoàng Đức - MT-006/MT-006-4.jpg\n",
            "/content/drive/My Drive/MTdata/godeyedata/Nguyễn Hoàng Đức - MT-006/MT-006-6.jpg\n",
            "/content/drive/My Drive/MTdata/godeyedata/Nguyễn Hoàng Đức - MT-006/MT-006-2.jpg\n",
            "/content/drive/My Drive/MTdata/godeyedata/Trần Tiến Hòa-MT-002/MT-002-14.jpg\n",
            "/content/drive/My Drive/MTdata/godeyedata/Trần Tiến Hòa-MT-002/MT-002-4.jpg\n",
            "/content/drive/My Drive/MTdata/godeyedata/Trần Tiến Hòa-MT-002/MT-002-5.jpg\n",
            "/content/drive/My Drive/MTdata/godeyedata/Nguyễn Quang Huy-MT-008/MT-008-4.jpg\n",
            "/content/drive/My Drive/MTdata/godeyedata/Nguyễn Quang Huy-MT-008/MT-008-10.jpg\n",
            "/content/drive/My Drive/MTdata/godeyedata/Nguyễn Quang Huy-MT-008/MT-008-7.jpg\n",
            "/content/drive/My Drive/MTdata/godeyedata/Nguyễn Đức Điệp-MT-004/MT-004-15.jpg\n",
            "/content/drive/My Drive/MTdata/godeyedata/Nguyễn Đức Điệp-MT-004/MT-004-7.jpg\n",
            "/content/drive/My Drive/MTdata/godeyedata/Nguyễn Đức Điệp-MT-004/MT-004-5.jpg\n",
            "/content/drive/My Drive/MTdata/godeyedata/Huỳnh Tuấn Minh - MT-014/MT-014-31.jpg\n",
            "/content/drive/My Drive/MTdata/godeyedata/Huỳnh Tuấn Minh - MT-014/MT-014-38.jpg\n",
            "/content/drive/My Drive/MTdata/godeyedata/Huỳnh Tuấn Minh - MT-014/MT-014-36.jpg\n",
            "/content/drive/My Drive/MTdata/godeyedata/MT - 009 Đỗ Văn Trường - done/MT-009-3.jpg\n",
            "/content/drive/My Drive/MTdata/godeyedata/MT - 009 Đỗ Văn Trường - done/MT-009-2.jpg\n",
            "/content/drive/My Drive/MTdata/godeyedata/MT - 009 Đỗ Văn Trường - done/MT-009-1.jpg\n",
            "/content/drive/My Drive/MTdata/godeyedata/Nguyễn Duy Khánh-MT-013/MT-013-10.jpg\n",
            "/content/drive/My Drive/MTdata/godeyedata/Nguyễn Duy Khánh-MT-013/MT-013-3.jpg\n",
            "/content/drive/My Drive/MTdata/godeyedata/Nguyễn Duy Khánh-MT-013/MT-013-9.jpg\n"
          ],
          "name": "stdout"
        }
      ]
    },
    {
      "cell_type": "code",
      "metadata": {
        "id": "ML_yvEEoA0eA",
        "colab": {
          "base_uri": "https://localhost:8080/"
        },
        "outputId": "25a80e4c-9fd5-48bf-c084-98a796651d09"
      },
      "source": [
        "from tensorflow.python.client import device_lib\n",
        "print(device_lib.list_local_devices())"
      ],
      "execution_count": null,
      "outputs": [
        {
          "output_type": "stream",
          "text": [
            "[name: \"/device:CPU:0\"\n",
            "device_type: \"CPU\"\n",
            "memory_limit: 268435456\n",
            "locality {\n",
            "}\n",
            "incarnation: 4415280376283324651\n",
            ", name: \"/device:XLA_CPU:0\"\n",
            "device_type: \"XLA_CPU\"\n",
            "memory_limit: 17179869184\n",
            "locality {\n",
            "}\n",
            "incarnation: 9607880117308340085\n",
            "physical_device_desc: \"device: XLA_CPU device\"\n",
            ", name: \"/device:XLA_GPU:0\"\n",
            "device_type: \"XLA_GPU\"\n",
            "memory_limit: 17179869184\n",
            "locality {\n",
            "}\n",
            "incarnation: 2956592231955155941\n",
            "physical_device_desc: \"device: XLA_GPU device\"\n",
            ", name: \"/device:GPU:0\"\n",
            "device_type: \"GPU\"\n",
            "memory_limit: 14640891840\n",
            "locality {\n",
            "  bus_id: 1\n",
            "  links {\n",
            "  }\n",
            "}\n",
            "incarnation: 5024242959388195242\n",
            "physical_device_desc: \"device: 0, name: Tesla T4, pci bus id: 0000:00:04.0, compute capability: 7.5\"\n",
            "]\n"
          ],
          "name": "stdout"
        }
      ]
    },
    {
      "cell_type": "code",
      "metadata": {
        "id": "OSBFGlhqCHBJ"
      },
      "source": [
        "import sklearn\n",
        "import matplotlib"
      ],
      "execution_count": null,
      "outputs": []
    },
    {
      "cell_type": "code",
      "metadata": {
        "id": "efu8a4mFBqz-",
        "colab": {
          "base_uri": "https://localhost:8080/"
        },
        "outputId": "83d18017-4043-4b42-cf83-7055c140c966"
      },
      "source": [
        "print(tf.__version__)\n",
        "print(keras.__version__)\n",
        "print(np.__version__)\n",
        "print(cv2.__version__)\n",
        "print(sklearn.__version__)\n",
        "print(matplotlib.__version__)"
      ],
      "execution_count": null,
      "outputs": [
        {
          "output_type": "stream",
          "text": [
            "2.3.0\n",
            "2.4.3\n",
            "1.18.5\n",
            "4.1.2\n",
            "0.22.2.post1\n",
            "3.2.2\n"
          ],
          "name": "stdout"
        }
      ]
    },
    {
      "cell_type": "code",
      "metadata": {
        "id": "F2J2ulh7dCof"
      },
      "source": [
        "import tensorflow as tf \n",
        "import numpy as np\n",
        "import os\n",
        "from keras.layers import Conv2D, Activation, AveragePooling2D, MaxPooling2D, ZeroPadding2D, Input, concatenate\n",
        "from keras.layers.core import Lambda, Dense, Flatten\n",
        "from numpy import genfromtxt\n",
        "import cv2\n",
        "from keras.layers.normalization import BatchNormalization\n",
        "from keras import backend as K\n",
        "from keras.layers import *\n",
        "from keras.models import Model\n",
        "from sklearn.preprocessing import normalize\n",
        "K.set_image_data_format('channels_first')\n",
        "import random\n",
        "import matplotlib.pyplot as plt\n",
        "import keras\n",
        "from keras.utils import plot_model\n",
        "import sys"
      ],
      "execution_count": null,
      "outputs": []
    },
    {
      "cell_type": "code",
      "metadata": {
        "id": "UR1j9q4mdFEl"
      },
      "source": [
        "path_haar='/content/haarcascade_frontalface_default.xml'\n",
        "PATH='/content/drive/My Drive/MTdata'"
      ],
      "execution_count": null,
      "outputs": []
    },
    {
      "cell_type": "code",
      "metadata": {
        "id": "nRm3kENudFGd",
        "colab": {
          "base_uri": "https://localhost:8080/"
        },
        "outputId": "18386f85-0eb6-4537-adb2-5231cf7b1843"
      },
      "source": [
        "!wget --no-check-certificate \\\n",
        "    https://raw.githubusercontent.com/computationalcore/introduction-to-opencv/master/assets/haarcascade_frontalface_default.xml "
      ],
      "execution_count": null,
      "outputs": [
        {
          "output_type": "stream",
          "text": [
            "--2020-11-12 01:20:09--  https://raw.githubusercontent.com/computationalcore/introduction-to-opencv/master/assets/haarcascade_frontalface_default.xml\n",
            "Resolving raw.githubusercontent.com (raw.githubusercontent.com)... 151.101.0.133, 151.101.64.133, 151.101.128.133, ...\n",
            "Connecting to raw.githubusercontent.com (raw.githubusercontent.com)|151.101.0.133|:443... connected.\n",
            "HTTP request sent, awaiting response... 200 OK\n",
            "Length: 930127 (908K) [text/plain]\n",
            "Saving to: ‘haarcascade_frontalface_default.xml’\n",
            "\n",
            "haarcascade_frontal 100%[===================>] 908.33K  --.-KB/s    in 0.05s   \n",
            "\n",
            "2020-11-12 01:20:09 (18.9 MB/s) - ‘haarcascade_frontalface_default.xml’ saved [930127/930127]\n",
            "\n"
          ],
          "name": "stdout"
        }
      ]
    },
    {
      "cell_type": "code",
      "metadata": {
        "id": "ZAdMERdzdFIV"
      },
      "source": [
        "reference_images=[]\n",
        "selfies=[]\n",
        "n_sub=0"
      ],
      "execution_count": null,
      "outputs": []
    },
    {
      "cell_type": "code",
      "metadata": {
        "id": "jKTY3a7WdFKN",
        "colab": {
          "base_uri": "https://localhost:8080/"
        },
        "outputId": "05332adc-3a92-4d22-f330-d672ff315908"
      },
      "source": [
        "for folder in os.listdir(PATH):\n",
        "    subfolder=os.path.join(PATH,folder)\n",
        "    for sub in os.listdir(subfolder):\n",
        "        n_sub=n_sub+1\n",
        "        img_dir=os.path.join(subfolder,sub)\n",
        "        \"\"\"for img_raw in os.listdir(img_dir):\n",
        "            if 'script' in img_raw:\n",
        "                reference_images.append(img_raw)\n",
        "            else :\n",
        "                selfies.append(img_raw)\"\"\"\n",
        "print(\"The total number of Folders in dataset : \",len(os.listdir(PATH)))\n",
        "#print(\"The total number of Employee in dataset : \",n_sub)\n",
        "#print(\"The total number of selfies are : \",len(selfies))\n",
        "#print(\"The total number of script images are : \",len(reference_images))"
      ],
      "execution_count": null,
      "outputs": [
        {
          "output_type": "stream",
          "text": [
            "The total number of Folders in dataset :  1\n"
          ],
          "name": "stdout"
        }
      ]
    },
    {
      "cell_type": "code",
      "metadata": {
        "id": "wSZYvGG8dFMF"
      },
      "source": [
        "def inception_block_1a(X):\n",
        "    X_3=Conv2D(96,(1,1),data_format='channels_first',name='inception_3a_3x3_conv1')(X)\n",
        "    X_3=BatchNormalization(axis=1,epsilon=0.00001,name='inception_3a_3x3_bn1')(X_3)\n",
        "    X_3=Activation('relu')(X_3)\n",
        "    X_3=ZeroPadding2D(padding=(1,1),data_format='channels_first')(X_3)\n",
        "    X_3=Conv2D(128,(3,3),data_format='channels_first',name='inception_3a_3x3_conv2')(X_3)\n",
        "    X_3=BatchNormalization(axis=1,epsilon=0.00001,name='inception_3a_3x3_bn2')(X_3)\n",
        "    X_3=Activation('relu')(X_3)\n",
        "    \n",
        "    X_5=Conv2D(16,(1,1),data_format='channels_first',name='inception_3a_5x5_conv1')(X)\n",
        "    X_5=BatchNormalization(axis=1,epsilon=0.00001,name='inception_3a_5x5_bn1')(X_5)\n",
        "    X_5=Activation('relu')(X_5)\n",
        "    X_5=ZeroPadding2D(padding=(2,2),data_format='channels_first')(X_5)\n",
        "    X_5=Conv2D(32,(5,5),data_format='channels_first',name='inception_3a_5x5_conv2')(X_5)\n",
        "    X_5=BatchNormalization(axis=1,epsilon=0.00001,name='inception_3a_5x5_bn2')(X_5)\n",
        "    X_5=Activation('relu')(X_5)\n",
        "    \n",
        "    X_pool = MaxPooling2D(pool_size=3, strides=2, data_format='channels_first')(X)\n",
        "    X_pool = Conv2D(32, (1, 1), data_format='channels_first', name='inception_3a_pool_conv')(X_pool)\n",
        "    X_pool = BatchNormalization(axis=1, epsilon=0.00001, name='inception_3a_pool_bn')(X_pool)\n",
        "    X_pool = Activation('relu')(X_pool)\n",
        "    X_pool = ZeroPadding2D(padding=((3, 4), (3, 4)), data_format='channels_first')(X_pool)\n",
        "    \n",
        "    X_1=Conv2D(64,(1,1),data_format='channels_first',name='inception_3a_1x1_conv')(X)\n",
        "    X_1=BatchNormalization(axis=1,epsilon=0.00001,name='inception_3a_1x1_bn')(X_1)\n",
        "    X_1=Activation('relu')(X_1)\n",
        "    \n",
        "    inception=concatenate([X_3,X_5,X_pool,X_1],axis=1)\n",
        "    return inception\n",
        "\n",
        "def inception_block_1b(X):\n",
        "    X_3=Conv2D(96,(1,1),data_format='channels_first',name='inception_3b_3x3_conv1')(X)\n",
        "    X_3=BatchNormalization(axis=1,epsilon=0.00001,name='inception_3b_3x3_bn1')(X_3)\n",
        "    X_3=Activation('relu')(X_3)\n",
        "    X_3=ZeroPadding2D(padding=(1,1),data_format='channels_first')(X_3)\n",
        "    X_3=Conv2D(128,(3,3),data_format='channels_first',name='inception_3b_3x3_conv2')(X_3)\n",
        "    X_3=BatchNormalization(axis=1,epsilon=0.00001,name='inception_3b_3x3_bn2')(X_3)\n",
        "    X_3=Activation('relu')(X_3)\n",
        "    \n",
        "    X_5=Conv2D(32,(1,1),data_format='channels_first',name='inception_3b_5x5_conv1')(X)\n",
        "    X_5=BatchNormalization(axis=1,epsilon=0.00001,name='inception_3b_5x5_bn1')(X_5)\n",
        "    X_5=Activation('relu')(X_5)\n",
        "    X_5=ZeroPadding2D(padding=(2,2),data_format='channels_first')(X_5)\n",
        "    X_5=Conv2D(64,(5,5),data_format='channels_first',name='inception_3b_5x5_conv2')(X_5)\n",
        "    X_5=BatchNormalization(axis=1,epsilon=0.00001,name='inception_3b_5x5_bn2')(X_5)\n",
        "    X_5=Activation('relu')(X_5)\n",
        "    \n",
        "    X_P=AveragePooling2D(pool_size=(3,3),strides=(3,3),data_format='channels_first')(X)\n",
        "    X_P=Conv2D(64,(1,1),data_format='channels_first',name='inception_3b_pool_conv')(X_P)\n",
        "    X_P=BatchNormalization(axis=1,epsilon=0.00001,name='inception_3b_pool_bn')(X_P)\n",
        "    X_P=Activation('relu')(X_P)\n",
        "    X_P=ZeroPadding2D(padding=(4,4),data_format='channels_first')(X_P)\n",
        "    \n",
        "    X_1=Conv2D(64,(1,1),data_format='channels_first',name='inception_3b_1x1_conv')(X)\n",
        "    X_1=BatchNormalization(axis=1,epsilon=0.00001,name='inception_3b_1x1_bn')(X_1)\n",
        "    X_1=Activation('relu')(X_1)\n",
        "    \n",
        "    inception=concatenate([X_3,X_5,X_P,X_1],axis=1)\n",
        "    return inception\n",
        "\n",
        "def inception_block_1c(X):\n",
        "    X_3=Conv2D(128,(1,1),data_format='channels_first',name='inception_3c_3x3_conv1')(X)\n",
        "    X_3=BatchNormalization(axis=1,epsilon=0.00001,name='inception_3c_3x3_bn1')(X_3)\n",
        "    X_3=Activation('relu')(X_3)\n",
        "    X_3=ZeroPadding2D(padding=(1,1),data_format='channels_first')(X_3)\n",
        "    X_3=Conv2D(256,(3,3),strides=(2,2),data_format='channels_first',name='inception_3c_3x3_conv2')(X_3)\n",
        "    X_3=BatchNormalization(axis=1,epsilon=0.00001,name='inception_3c_3x3_bn2')(X_3)\n",
        "    X_3=Activation('relu')(X_3)\n",
        "    \n",
        "    X_5=Conv2D(32,(1,1),data_format='channels_first',name='inception_3c_5x5_conv1')(X)\n",
        "    X_5=BatchNormalization(axis=1,epsilon=0.00001,name='inception_3c_5x5_bn1')(X_5)\n",
        "    X_5=Activation('relu')(X_5)\n",
        "    X_5=ZeroPadding2D(padding=(2,2),data_format='channels_first')(X_5)\n",
        "    X_5=Conv2D(64,(5,5),strides=(2,2),data_format='channels_first',name='inception_3c_5x5_conv2')(X_5)\n",
        "    X_5=BatchNormalization(axis=1,epsilon=0.00001,name='inception_3c_5x5_bn2')(X_5)\n",
        "    X_5=Activation('relu')(X_5)\n",
        "    \n",
        "    X_P=MaxPooling2D(pool_size=3,strides=2,data_format='channels_first')(X)\n",
        "    X_P=ZeroPadding2D(padding=((0,1),(0,1)),data_format='channels_first')(X_P)\n",
        "    \n",
        "\n",
        "    inception=concatenate([X_3,X_5,X_P],axis=1)\n",
        "    return inception\n",
        "\n",
        "def inception_block_2a(X):\n",
        "    X_3=Conv2D(96,(1,1),data_format='channels_first',name='inception_4a_3x3_conv1')(X)\n",
        "    X_3=BatchNormalization(axis=1,epsilon=0.00001,name='inception_4a_3x3_bn1')(X_3)\n",
        "    X_3=Activation('relu')(X_3)\n",
        "    X_3=ZeroPadding2D(padding=(1,1),data_format='channels_first')(X_3)\n",
        "    X_3=Conv2D(192,(3,3),data_format='channels_first',name='inception_4a_3x3_conv2')(X_3)\n",
        "    X_3=BatchNormalization(axis=1,epsilon=0.00001,name='inception_4a_3x3_bn2')(X_3)\n",
        "    X_3=Activation('relu')(X_3)\n",
        "    \n",
        "    X_5=Conv2D(32,(1,1),data_format='channels_first',name='inception_4a_5x5_conv1')(X)\n",
        "    X_5=BatchNormalization(axis=1,epsilon=0.00001,name='inception_4a_5x5_bn1')(X_5)\n",
        "    X_5=Activation('relu')(X_5)\n",
        "    X_5=ZeroPadding2D(padding=(2,2),data_format='channels_first')(X_5)\n",
        "    X_5=Conv2D(64,(5,5),data_format='channels_first',name='inception_4a_5x5_conv2')(X_5)\n",
        "    X_5=BatchNormalization(axis=1,epsilon=0.00001,name='inception_4a_5x5_bn2')(X_5)\n",
        "    X_5=Activation('relu')(X_5)\n",
        "    \n",
        "    X_P=AveragePooling2D(pool_size=(3,3),strides=(3,3),data_format='channels_first')(X)\n",
        "    X_P=Conv2D(128,(1,1),data_format='channels_first',name='inception_4a_pool_conv')(X_P)\n",
        "    X_P=BatchNormalization(axis=1,epsilon=0.00001,name='inception_4a_pool_bn')(X_P)\n",
        "    X_P=Activation('relu')(X_P)\n",
        "    X_P=ZeroPadding2D(padding=(2,2),data_format='channels_first')(X_P)\n",
        "    \n",
        "    X_1=Conv2D(256,(1,1),data_format='channels_first',name='inception_4a_1x1_conv')(X)\n",
        "    X_1=BatchNormalization(axis=1,epsilon=0.00001,name='inception_4a_1x1_bn')(X_1)\n",
        "    X_1=Activation('relu')(X_1)\n",
        "    \n",
        "    inception=concatenate([X_3,X_5,X_P,X_1],axis=1)\n",
        "    return inception\n",
        "\n",
        "def inception_block_2b(X):\n",
        "    X_3=Conv2D(160,(1,1),data_format='channels_first',name='inception_4e_3x3_conv1')(X)\n",
        "    X_3=BatchNormalization(axis=1,epsilon=0.00001,name='inception_4e_3x3_bn1')(X_3)\n",
        "    X_3=Activation('relu')(X_3)\n",
        "    X_3=ZeroPadding2D(padding=(1,1),data_format='channels_first')(X_3)\n",
        "    X_3=Conv2D(256,(3,3),strides=(2,2),data_format='channels_first',name='inception_4e_3x3_conv2')(X_3)\n",
        "    X_3=BatchNormalization(axis=1,epsilon=0.00001,name='inception_4e_3x3_bn2')(X_3)\n",
        "    X_3=Activation('relu')(X_3)\n",
        "    \n",
        "    X_5=Conv2D(64,(1,1),data_format='channels_first',name='inception_4e_5x5_conv1')(X)\n",
        "    X_5=BatchNormalization(axis=1,epsilon=0.00001,name='inception_4e_5x5_bn1')(X_5)\n",
        "    X_5=Activation('relu')(X_5)\n",
        "    X_5=ZeroPadding2D(padding=(2,2),data_format='channels_first')(X_5)\n",
        "    X_5=Conv2D(128,(5,5),strides=(2,2),data_format='channels_first',name='inception_4e_5x5_conv2')(X_5)\n",
        "    X_5=BatchNormalization(axis=1,epsilon=0.00001,name='inception_4e_5x5_bn2')(X_5)\n",
        "    X_5=Activation('relu')(X_5)\n",
        "    \n",
        "    X_P=MaxPooling2D(pool_size=3,strides=2,data_format='channels_first')(X)\n",
        "    X_P=ZeroPadding2D(padding=((0,1),(0,1)),data_format='channels_first')(X_P)\n",
        "\n",
        "    inception=concatenate([X_3,X_5,X_P],axis=1)\n",
        "    return inception\n",
        "\n",
        "def inception_block_3a(X):\n",
        "    X_3=Conv2D(96,(1,1),data_format='channels_first',name='inception_5a_3x3_conv1')(X)\n",
        "    X_3=BatchNormalization(axis=1,epsilon=0.00001,name='inception_5a_3x3_bn1')(X_3)\n",
        "    X_3=Activation('relu')(X_3)\n",
        "    X_3=ZeroPadding2D(padding=(1,1),data_format='channels_first')(X_3)\n",
        "    X_3=Conv2D(384,(3,3),data_format='channels_first',name='inception_5a_3x3_conv2')(X_3)\n",
        "    X_3=BatchNormalization(axis=1,epsilon=0.00001,name='inception_5a_3x3_bn2')(X_3)\n",
        "    X_3=Activation('relu')(X_3)\n",
        "\n",
        "    \n",
        "    X_P=AveragePooling2D(pool_size=(3,3),strides=(3,3),data_format='channels_first')(X)\n",
        "    X_P=Conv2D(96,(1,1),data_format='channels_first',name='inception_5a_pool_conv')(X_P)\n",
        "    X_P=BatchNormalization(axis=1,epsilon=0.00001,name='inception_5a_pool_bn')(X_P)\n",
        "    X_P=Activation('relu')(X_P)\n",
        "    X_P=ZeroPadding2D(padding=(1,1),data_format='channels_first')(X_P)\n",
        "    \n",
        "    X_1=Conv2D(256,(1,1),data_format='channels_first',name='inception_5a_1x1_conv')(X)\n",
        "    X_1=BatchNormalization(axis=1,epsilon=0.00001,name='inception_5a_1x1_bn')(X_1)\n",
        "    X_1=Activation('relu')(X_1)\n",
        "    \n",
        "    inception=concatenate([X_3,X_P,X_1],axis=1)\n",
        "    return inception\n",
        "def inception_block_3b(X):\n",
        "    X_3=Conv2D(96,(1,1),data_format='channels_first',name='inception_5b_3x3_conv1')(X)\n",
        "    X_3=BatchNormalization(axis=1,epsilon=0.00001,name='inception_5b_3x3_bn1')(X_3)\n",
        "    X_3=Activation('relu')(X_3)\n",
        "    X_3=ZeroPadding2D(padding=(1,1),data_format='channels_first')(X_3)\n",
        "    X_3=Conv2D(384,(3,3),data_format='channels_first',name='inception_5b_3x3_conv2')(X_3)\n",
        "    X_3=BatchNormalization(axis=1,epsilon=0.00001,name='inception_5b_3x3_bn2')(X_3)\n",
        "    X_3=Activation('relu')(X_3)\n",
        "    \n",
        "    \n",
        "    X_P=MaxPooling2D(pool_size=(3,3),strides=2,data_format='channels_first')(X)\n",
        "    X_P=Conv2D(96,(1,1),data_format='channels_first',name='inception_5b_pool_conv')(X_P)\n",
        "    X_P=BatchNormalization(axis=1,epsilon=0.00001,name='inception_5b_pool_bn')(X_P)\n",
        "    X_P=Activation('relu')(X_P)\n",
        "    X_P=ZeroPadding2D(padding=(1,1),data_format='channels_first')(X_P)\n",
        "    \n",
        "    X_1=Conv2D(256,(1,1),data_format='channels_first',name='inception_5b_1x1_conv')(X)\n",
        "    X_1=BatchNormalization(axis=1,epsilon=0.00001,name='inception_5b_1x1_bn')(X_1)\n",
        "    X_1=Activation('relu')(X_1)\n",
        "    \n",
        "    inception=concatenate([X_3,X_P,X_1],axis=1)\n",
        "    return inception\n",
        "\n",
        "\n",
        "def FinalModel(input_shape):\n",
        "    \n",
        "    X_input=Input(input_shape)\n",
        "    \n",
        "    X=ZeroPadding2D(padding=(3,3))(X_input)\n",
        "    X=Conv2D(64,(7,7),strides=(2,2),name='conv1')(X)\n",
        "    X=BatchNormalization(axis=1,name='bn1')(X)\n",
        "    X=Activation('relu')(X)\n",
        "    \n",
        "    X=ZeroPadding2D((1,1))(X)\n",
        "    X=MaxPooling2D((3,3),strides=2)(X)\n",
        "    \n",
        "    X=Conv2D(64,(1,1),strides=(1,1),name='conv2')(X)\n",
        "    X=BatchNormalization(axis=1,epsilon=0.00001,name='bn2')(X)\n",
        "    X=Activation('relu')(X) \n",
        "    \n",
        "    X=ZeroPadding2D(padding=(1,1))(X)\n",
        "    \n",
        "    X=Conv2D(192,(3,3),strides=(1,1),name='conv3')(X)\n",
        "    X=BatchNormalization(axis=1,epsilon=0.00001,name='bn3')(X)\n",
        "    X=Activation('relu')(X)\n",
        "    \n",
        "    X=ZeroPadding2D(padding=(1,1))(X)\n",
        "    X=MaxPooling2D(pool_size=(3,3),strides=(2,2))(X)\n",
        "    \n",
        "    X=inception_block_1a(X)\n",
        "    X=inception_block_1b(X)\n",
        "    X=inception_block_1c(X)\n",
        "    \n",
        "    X=inception_block_2a(X)\n",
        "    X=inception_block_2b(X)\n",
        "    \n",
        "    X=inception_block_3a(X)\n",
        "    X=inception_block_3b(X)\n",
        "    \n",
        "    X=AveragePooling2D(pool_size=(3,3),strides=(1,1),data_format='channels_first')(X)\n",
        "    X=Flatten()(X)\n",
        "    X=Dense(128,activation='relu',kernel_initializer='glorot_normal',name='dense_layer')(X)\n",
        "    X=Lambda(lambda x:K.l2_normalize(x,axis=1),name='lambda_1')(X)\n",
        "    \n",
        "    model=Model(inputs=X_input,outputs=X,name='FaceRecognotionModel')\n",
        "    return model    \n",
        "model=FinalModel(input_shape=(3,96,96))"
      ],
      "execution_count": null,
      "outputs": []
    },
    {
      "cell_type": "code",
      "metadata": {
        "id": "Vx6ey_ZReWrG"
      },
      "source": [
        "model.summary()"
      ],
      "execution_count": null,
      "outputs": []
    },
    {
      "cell_type": "code",
      "metadata": {
        "id": "gH3l7gUGesS5"
      },
      "source": [
        "def triplet_loss_t(y_true,y_pred):\n",
        "    #print(y_pred)\n",
        "    anchor=y_pred[:,0:128]\n",
        "    pos=y_pred[:,128:256]\n",
        "    neg=y_pred[:,256:384]\n",
        "    \n",
        "    positive_distance = K.sum(K.abs(anchor-pos), axis=1)\n",
        "    negative_distance = K.sum(K.abs(anchor-neg), axis=1)\n",
        "    probs=K.softmax([positive_distance,negative_distance],axis=0)\n",
        "    #loss = positive_distance - negative_distance+alpha\n",
        "    loss=K.mean(K.abs(probs[0])+K.abs(1.0-probs[1]))\n",
        "    return loss"
      ],
      "execution_count": null,
      "outputs": []
    },
    {
      "cell_type": "code",
      "metadata": {
        "id": "_R6iPl7GesVV"
      },
      "source": [
        "def localize_resize(path_image,path_haar='/content/haarcascade_frontalface_default.xml'):\n",
        "    image=cv2.imread(path_image)\n",
        "    \n",
        "    gray=cv2.cvtColor(image,cv2.COLOR_BGR2GRAY)\n",
        "    classifier=cv2.CascadeClassifier(path_haar)\n",
        "    faces=classifier.detectMultiScale(gray,1.1,6)\n",
        "    if len(faces) != 1:#condition if we dont have any faces or cant be detected y haar cascade we will skip those\n",
        "        return -1\n",
        "    \n",
        "    x,y,w,h=faces.squeeze()\n",
        "    crop=image[y:y+h,x:x+w]\n",
        "    image=cv2.resize(crop,(96,96))\n",
        "    image=np.transpose(image,(2,0,1))\n",
        "    image=image.astype('float32')/255.0\n",
        "    return image"
      ],
      "execution_count": null,
      "outputs": []
    },
    {
      "cell_type": "code",
      "metadata": {
        "id": "K99cv3Q9gly2",
        "colab": {
          "base_uri": "https://localhost:8080/"
        },
        "outputId": "85e082e6-07b5-4e4f-ea81-f33e43130e63"
      },
      "source": [
        "os.listdir(PATH)"
      ],
      "execution_count": null,
      "outputs": [
        {
          "output_type": "execute_result",
          "data": {
            "text/plain": [
              "['godeyedata']"
            ]
          },
          "metadata": {
            "tags": []
          },
          "execution_count": 11
        }
      ]
    },
    {
      "cell_type": "code",
      "metadata": {
        "id": "-8pKp_lZesXl"
      },
      "source": [
        "def data_gen(batch_size=32):\n",
        "    while True:\n",
        "        i=0\n",
        "        positive=[]\n",
        "        anchor=[]\n",
        "        negative=[]    \n",
        "        \n",
        "\n",
        "        while(i<batch_size):\n",
        "            r=random.choice(os.listdir(PATH))\n",
        "            p=PATH+'/'+ r\n",
        "            id=os.listdir(p)\n",
        "            ra=random.sample(id,2)\n",
        "            pos_dir=p+'/'+ra[0]\n",
        "            neg_dir=p+'/'+ra[1]\n",
        "            pos=pos_dir+'/'+random.choice(os.listdir(pos_dir))\n",
        "            anc=pos_dir+'/'+random.choice([x for x in os.listdir(pos_dir) ])\n",
        "            neg=neg_dir+'/'+random.choice(os.listdir(neg_dir))\n",
        "            pos_img=localize_resize(pos,path_haar)\n",
        "                    #print(pos+anc+neg)\n",
        "            if pos_img is -1:\n",
        "                continue\n",
        "            neg_img=localize_resize(neg,path_haar)\n",
        "            if neg_img is -1:\n",
        "                continue\n",
        "            anc_img=localize_resize(anc,path_haar)\n",
        "            if anc_img is -1:\n",
        "                continue\n",
        "            positive.append(list(pos_img))\n",
        "                #print('positive{0}'.format(i))\n",
        "            negative.append(list(neg_img))\n",
        "                #print('negative{0}'.format(i))\n",
        "            anchor.append(list(anc_img))\n",
        "                #print('anchor{0}'.format(i))\n",
        "            i=i+1\n",
        "        #return anchor,positive,negative\n",
        "        yield ([np.array(anchor),np.array(positive),np.array(negative)],np.zeros((batch_size,1)).astype(\"float32\"))"
      ],
      "execution_count": null,
      "outputs": []
    },
    {
      "cell_type": "code",
      "metadata": {
        "id": "oAkgJzGtfGv9"
      },
      "source": [
        "triplet_model_a=Input((3,96,96))\n",
        "triplet_model_n=Input((3,96,96))\n",
        "triplet_model_p=Input((3,96,96))\n",
        "triplet_model_out=Concatenate()([model(triplet_model_a),model(triplet_model_p),model(triplet_model_n)])\n",
        "triplet_model=Model([triplet_model_a,triplet_model_p,triplet_model_n],triplet_model_out)\n",
        "triplet_model.compile(optimizer='adam',loss=triplet_loss_t)"
      ],
      "execution_count": null,
      "outputs": []
    },
    {
      "cell_type": "code",
      "metadata": {
        "id": "5bW977zUfOZ1",
        "colab": {
          "base_uri": "https://localhost:8080/"
        },
        "outputId": "8065064c-b5c9-4b54-afb4-9ad3c27a6f09"
      },
      "source": [
        "triplet_model.summary()"
      ],
      "execution_count": null,
      "outputs": [
        {
          "output_type": "stream",
          "text": [
            "Model: \"functional_1\"\n",
            "__________________________________________________________________________________________________\n",
            "Layer (type)                    Output Shape         Param #     Connected to                     \n",
            "==================================================================================================\n",
            "input_2 (InputLayer)            [(None, 3, 96, 96)]  0                                            \n",
            "__________________________________________________________________________________________________\n",
            "input_4 (InputLayer)            [(None, 3, 96, 96)]  0                                            \n",
            "__________________________________________________________________________________________________\n",
            "input_3 (InputLayer)            [(None, 3, 96, 96)]  0                                            \n",
            "__________________________________________________________________________________________________\n",
            "FaceRecognotionModel (Functiona (None, 128)          3743280     input_2[0][0]                    \n",
            "                                                                 input_4[0][0]                    \n",
            "                                                                 input_3[0][0]                    \n",
            "__________________________________________________________________________________________________\n",
            "concatenate_7 (Concatenate)     (None, 384)          0           FaceRecognotionModel[0][0]       \n",
            "                                                                 FaceRecognotionModel[1][0]       \n",
            "                                                                 FaceRecognotionModel[2][0]       \n",
            "==================================================================================================\n",
            "Total params: 3,743,280\n",
            "Trainable params: 3,733,968\n",
            "Non-trainable params: 9,312\n",
            "__________________________________________________________________________________________________\n"
          ],
          "name": "stdout"
        }
      ]
    },
    {
      "cell_type": "code",
      "metadata": {
        "id": "7Y8jD7v6fSCu",
        "colab": {
          "base_uri": "https://localhost:8080/"
        },
        "outputId": "97567a29-af69-4c56-d514-d7b71dd1893e"
      },
      "source": [
        " triplet_model.fit(data_gen(),steps_per_epoch=5,epochs=3)"
      ],
      "execution_count": null,
      "outputs": [
        {
          "output_type": "stream",
          "text": [
            "Epoch 1/3\n",
            "5/5 [==============================] - 1132s 226s/step - loss: 0.1694\n",
            "Epoch 2/3\n",
            "5/5 [==============================] - 1180s 236s/step - loss: 0.0531\n",
            "Epoch 3/3\n",
            "5/5 [==============================] - 1183s 237s/step - loss: 0.0326\n"
          ],
          "name": "stdout"
        },
        {
          "output_type": "execute_result",
          "data": {
            "text/plain": [
              "<tensorflow.python.keras.callbacks.History at 0x7f6c4531a438>"
            ]
          },
          "metadata": {
            "tags": []
          },
          "execution_count": 30
        }
      ]
    },
    {
      "cell_type": "code",
      "metadata": {
        "id": "dMk-Q3PfnhpA"
      },
      "source": [
        "triplet_model.save('/content/drive/My Drive/triplet_model.h5')"
      ],
      "execution_count": null,
      "outputs": []
    },
    {
      "cell_type": "code",
      "metadata": {
        "id": "WWRXziCgP4u0"
      },
      "source": [
        "triplet_model=keras.models.load_model('/content/drive/My Drive/triplet_model.h5',\n",
        "                                      custom_objects={'triplet_loss_t':triplet_loss_t})"
      ],
      "execution_count": null,
      "outputs": []
    },
    {
      "cell_type": "code",
      "metadata": {
        "id": "C7t8x8asfVFd"
      },
      "source": [
        "#To loacaloze the face and resize the image\n",
        "def image_resizing(image,path_haar):\n",
        "\n",
        "    gray=cv2.cvtColor(image,cv2.COLOR_BGR2GRAY)\n",
        "    classifier=cv2.CascadeClassifier(path_haar)\n",
        "    faces=classifier.detectMultiScale(gray,1.1,6)\n",
        "\n",
        "    if len(faces)!=1:\n",
        "        print('More than one Image in the selfie')\n",
        "        sys.exit(0)\n",
        "    x,y,w,h=faces.squeeze()\n",
        "    crop=image[y:y+h,x:x+w]\n",
        "    image=cv2.resize(crop,(96,96))\n",
        "\n",
        "    return image"
      ],
      "execution_count": null,
      "outputs": []
    },
    {
      "cell_type": "code",
      "metadata": {
        "id": "31X6iPVLWCkh"
      },
      "source": [
        "triplet_model.layers[3].layers"
      ],
      "execution_count": null,
      "outputs": []
    },
    {
      "cell_type": "code",
      "metadata": {
        "id": "dx1kFs1tfYBd"
      },
      "source": [
        "# encoding image\n",
        "def encode_img(img1,triplet_model):\n",
        "    #img1=cv2.imread(path,1)\n",
        "    img=img1[...,::-1]\n",
        "    img=np.around(np.transpose(img,(2,0,1))/255,decimals=12)\n",
        "    x_train=np.array([img])\n",
        "    emb=triplet_model.layers[3].predict_on_batch(x_train)\n",
        "    return emb"
      ],
      "execution_count": null,
      "outputs": []
    },
    {
      "cell_type": "code",
      "metadata": {
        "id": "oO1XAMKjfakd"
      },
      "source": [
        "threshold=0.7\n",
        "interval=0.3\n",
        "def confidence_value(ref_encode,img_encode,thres=threshold):\n",
        "    #diff=np.max(img_encode-ref_encode)\n",
        "    dist=np.linalg.norm((img_encode-ref_encode))\n",
        "    #confidence=(1-K.eval(tf.minimum(dist,1)))\n",
        "    confidence=(threshold-max([dist,interval]))/(threshold-interval)\n",
        "    return dist,confidence"
      ],
      "execution_count": null,
      "outputs": []
    },
    {
      "cell_type": "code",
      "metadata": {
        "id": "mF6X5DgXffH9",
        "colab": {
          "base_uri": "https://localhost:8080/"
        },
        "outputId": "a8ffb291-fd0d-4bd3-a2cd-4632002eb0b3"
      },
      "source": [
        "rimage=cv2.imread('/content/drive/My Drive/godeyedata_cropped/Nguyễn Duy Khánh-MT-013/MT-013-7.jpg')\n",
        "image=cv2.imread('/content/Angel-Di-Maria-Real-Madrid-vs-Bayern-Munich_2797421.jpg')\n",
        "rimg=image_resizing(rimage,path_haar)\n",
        "img=image_resizing(image,path_haar)\n",
        "r_encode=encode_img(rimg,triplet_model)\n",
        "img_encode=encode_img(img,triplet_model)\n",
        "dist,conf=confidence_value(r_encode,img_encode)\n",
        "if dist<threshold:\n",
        "    print(\"Match with a confidence of \",conf*100)\n",
        "    #print(\"Distance \",dist)\n",
        "else:\n",
        "    print(\"No Match with a confidence of \",abs(conf*100))"
      ],
      "execution_count": null,
      "outputs": [
        {
          "output_type": "stream",
          "text": [
            "Match with a confidence of  100.0\n"
          ],
          "name": "stdout"
        }
      ]
    },
    {
      "cell_type": "code",
      "metadata": {
        "id": "uIM5EnntZL9I"
      },
      "source": [
        "from google.colab.patches import cv2_imshow\n"
      ],
      "execution_count": null,
      "outputs": []
    },
    {
      "cell_type": "code",
      "metadata": {
        "id": "nHMdfIAgZq3X"
      },
      "source": [
        "rimage=cv2.imread('/content/drive/My Drive/MTdata/godeyedata/Nguyễn Duy Khánh-MT-013/MT-013-3.jpg')"
      ],
      "execution_count": null,
      "outputs": []
    },
    {
      "cell_type": "code",
      "metadata": {
        "id": "HmdKY_wgZX2h"
      },
      "source": [
        "cv2_imshow(rimage)"
      ],
      "execution_count": null,
      "outputs": []
    },
    {
      "cell_type": "code",
      "metadata": {
        "id": "Nk8rmtSLcBZI"
      },
      "source": [
        "dist = np.linalg.norm((img_encode-r_encode))"
      ],
      "execution_count": null,
      "outputs": []
    },
    {
      "cell_type": "code",
      "metadata": {
        "id": "kt_YVxdFgj-o"
      },
      "source": [
        "r_encode=np.squeeze(np.asarray(r_encode))\n",
        "img_encode=np.squeeze(np.asarray(img_encode))"
      ],
      "execution_count": null,
      "outputs": []
    },
    {
      "cell_type": "code",
      "metadata": {
        "id": "uaYu5Ho-e_ZR",
        "colab": {
          "base_uri": "https://localhost:8080/"
        },
        "outputId": "f3fb8be1-2f5b-466c-cd12-de9de7077d9b"
      },
      "source": [
        "np.dot(r_encode,img_encode,out=None)"
      ],
      "execution_count": null,
      "outputs": [
        {
          "output_type": "execute_result",
          "data": {
            "text/plain": [
              "0.9999211"
            ]
          },
          "metadata": {
            "tags": []
          },
          "execution_count": 117
        }
      ]
    },
    {
      "cell_type": "code",
      "metadata": {
        "id": "-5N1C63jdzKi",
        "colab": {
          "base_uri": "https://localhost:8080/"
        },
        "outputId": "fee4b36c-e5bb-4fe7-b60a-4f571d59019e"
      },
      "source": [
        "max([dist,interval])"
      ],
      "execution_count": null,
      "outputs": [
        {
          "output_type": "execute_result",
          "data": {
            "text/plain": [
              "0.3"
            ]
          },
          "metadata": {
            "tags": []
          },
          "execution_count": 111
        }
      ]
    },
    {
      "cell_type": "code",
      "metadata": {
        "id": "AUUWbLMzdmVY",
        "colab": {
          "base_uri": "https://localhost:8080/"
        },
        "outputId": "7d161080-6b75-40df-c71e-b34be75280d9"
      },
      "source": [
        "(threshold-max([dist,interval]))/(threshold-interval)"
      ],
      "execution_count": null,
      "outputs": [
        {
          "output_type": "execute_result",
          "data": {
            "text/plain": [
              "1.0"
            ]
          },
          "metadata": {
            "tags": []
          },
          "execution_count": 122
        }
      ]
    },
    {
      "cell_type": "code",
      "metadata": {
        "id": "eUdTrbIndxS_",
        "colab": {
          "base_uri": "https://localhost:8080/"
        },
        "outputId": "6963d483-151a-43ba-e7f0-fffa8cd5c491"
      },
      "source": [
        "(threshold-max([dist,interval]))"
      ],
      "execution_count": null,
      "outputs": [
        {
          "output_type": "execute_result",
          "data": {
            "text/plain": [
              "0.39999999999999997"
            ]
          },
          "metadata": {
            "tags": []
          },
          "execution_count": 110
        }
      ]
    },
    {
      "cell_type": "code",
      "metadata": {
        "id": "MgtWOohAW7DW",
        "colab": {
          "base_uri": "https://localhost:8080/"
        },
        "outputId": "10ac6759-a066-474e-dbf1-b656461a65c7"
      },
      "source": [
        "print(r_encode.shape)"
      ],
      "execution_count": null,
      "outputs": [
        {
          "output_type": "stream",
          "text": [
            "(128,)\n"
          ],
          "name": "stdout"
        }
      ]
    },
    {
      "cell_type": "code",
      "metadata": {
        "id": "ibtgNJwaaGy-"
      },
      "source": [
        "print(r_encode)"
      ],
      "execution_count": null,
      "outputs": []
    },
    {
      "cell_type": "code",
      "metadata": {
        "id": "ieV_N9rwaQB1",
        "colab": {
          "base_uri": "https://localhost:8080/"
        },
        "outputId": "3a4ff063-dde0-484a-b320-fc0890853086"
      },
      "source": [
        "print(img_encode.shape)"
      ],
      "execution_count": null,
      "outputs": [
        {
          "output_type": "stream",
          "text": [
            "(128,)\n"
          ],
          "name": "stdout"
        }
      ]
    }
  ]
}