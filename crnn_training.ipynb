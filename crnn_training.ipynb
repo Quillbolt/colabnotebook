{
  "nbformat": 4,
  "nbformat_minor": 0,
  "metadata": {
    "colab": {
      "name": "crnn-training.ipynb",
      "provenance": [],
      "collapsed_sections": [],
      "mount_file_id": "1E3uDc78yoEq2rJ-V5LW9Sys616gUBvK9",
      "authorship_tag": "ABX9TyPaT+zWCm8Xs+A0FP/uRUrz",
      "include_colab_link": true
    },
    "kernelspec": {
      "name": "python3",
      "display_name": "Python 3"
    },
    "accelerator": "GPU"
  },
  "cells": [
    {
      "cell_type": "markdown",
      "metadata": {
        "id": "view-in-github",
        "colab_type": "text"
      },
      "source": [
        "<a href=\"https://colab.research.google.com/github/Quillbolt/colabnotebook/blob/main/crnn_training.ipynb\" target=\"_parent\"><img src=\"https://colab.research.google.com/assets/colab-badge.svg\" alt=\"Open In Colab\"/></a>"
      ]
    },
    {
      "cell_type": "code",
      "metadata": {
        "colab": {
          "base_uri": "https://localhost:8080/",
          "height": 734
        },
        "id": "u1ps_P9Aqr1L",
        "outputId": "dbf71651-b16d-49c6-b50e-0cb3c6459454"
      },
      "source": [
        "!pip install trdg"
      ],
      "execution_count": null,
      "outputs": [
        {
          "output_type": "stream",
          "text": [
            "Collecting trdg\n",
            "\u001b[?25l  Downloading https://files.pythonhosted.org/packages/76/55/4ce0f6e928200d3fe8460638346dcd2916d7aac33c7ebebbfec2b5eb7972/trdg-1.7.0-py3-none-any.whl (91.2MB)\n",
            "\u001b[K     |████████████████████████████████| 91.2MB 53kB/s \n",
            "\u001b[?25hRequirement already satisfied: beautifulsoup4>=4.6.0 in /usr/local/lib/python3.6/dist-packages (from trdg) (4.6.3)\n",
            "Collecting opencv-python>=4.2.0.32\n",
            "\u001b[?25l  Downloading https://files.pythonhosted.org/packages/e0/20/4d78eb1ce337efd609ade8ebe0c82260cd47dd73f8c57dcfe4814c6a3b59/opencv_python-4.5.1.48-cp36-cp36m-manylinux2014_x86_64.whl (50.4MB)\n",
            "\u001b[K     |████████████████████████████████| 50.4MB 66kB/s \n",
            "\u001b[?25hCollecting numpy<1.17,>=1.16.4\n",
            "\u001b[?25l  Downloading https://files.pythonhosted.org/packages/90/b1/ba7e59da253c58aaf874ea790ae71d6870255a5243010d94688c41618678/numpy-1.16.6-cp36-cp36m-manylinux1_x86_64.whl (17.4MB)\n",
            "\u001b[K     |████████████████████████████████| 17.4MB 214kB/s \n",
            "\u001b[?25hCollecting diffimg==0.2.3\n",
            "  Downloading https://files.pythonhosted.org/packages/3d/fa/de925a7c2203b52f007ad6b9cce343c21dbe389a221a4f51f25960c83d8b/diffimg-0.2.3.tar.gz\n",
            "Requirement already satisfied: tqdm>=4.23.0 in /usr/local/lib/python3.6/dist-packages (from trdg) (4.41.1)\n",
            "Requirement already satisfied: requests>=2.20.0 in /usr/local/lib/python3.6/dist-packages (from trdg) (2.23.0)\n",
            "Requirement already satisfied: pillow>=7.0.0 in /usr/local/lib/python3.6/dist-packages (from trdg) (7.0.0)\n",
            "Requirement already satisfied: chardet<4,>=3.0.2 in /usr/local/lib/python3.6/dist-packages (from requests>=2.20.0->trdg) (3.0.4)\n",
            "Requirement already satisfied: urllib3!=1.25.0,!=1.25.1,<1.26,>=1.21.1 in /usr/local/lib/python3.6/dist-packages (from requests>=2.20.0->trdg) (1.24.3)\n",
            "Requirement already satisfied: idna<3,>=2.5 in /usr/local/lib/python3.6/dist-packages (from requests>=2.20.0->trdg) (2.10)\n",
            "Requirement already satisfied: certifi>=2017.4.17 in /usr/local/lib/python3.6/dist-packages (from requests>=2.20.0->trdg) (2020.12.5)\n",
            "Building wheels for collected packages: diffimg\n",
            "  Building wheel for diffimg (setup.py) ... \u001b[?25l\u001b[?25hdone\n",
            "  Created wheel for diffimg: filename=diffimg-0.2.3-cp36-none-any.whl size=4051 sha256=ea3da8aa36784ac2789ae8d6865896a3e21e96156fc3336eaeb229ebcfaa6a98\n",
            "  Stored in directory: /root/.cache/pip/wheels/92/46/95/1de38a4ccb7811e6cc67fcc3594ea25180f85b70c406bdf0c3\n",
            "Successfully built diffimg\n",
            "\u001b[31mERROR: umap-learn 0.4.6 has requirement numpy>=1.17, but you'll have numpy 1.16.6 which is incompatible.\u001b[0m\n",
            "\u001b[31mERROR: tensorflow 2.4.0 has requirement numpy~=1.19.2, but you'll have numpy 1.16.6 which is incompatible.\u001b[0m\n",
            "\u001b[31mERROR: datascience 0.10.6 has requirement folium==0.2.1, but you'll have folium 0.8.3 which is incompatible.\u001b[0m\n",
            "\u001b[31mERROR: albumentations 0.1.12 has requirement imgaug<0.2.7,>=0.2.5, but you'll have imgaug 0.2.9 which is incompatible.\u001b[0m\n",
            "Installing collected packages: numpy, opencv-python, diffimg, trdg\n",
            "  Found existing installation: numpy 1.19.5\n",
            "    Uninstalling numpy-1.19.5:\n",
            "      Successfully uninstalled numpy-1.19.5\n",
            "  Found existing installation: opencv-python 4.1.2.30\n",
            "    Uninstalling opencv-python-4.1.2.30:\n",
            "      Successfully uninstalled opencv-python-4.1.2.30\n",
            "Successfully installed diffimg-0.2.3 numpy-1.16.6 opencv-python-4.5.1.48 trdg-1.7.0\n"
          ],
          "name": "stdout"
        },
        {
          "output_type": "display_data",
          "data": {
            "application/vnd.colab-display-data+json": {
              "pip_warning": {
                "packages": [
                  "numpy"
                ]
              }
            }
          },
          "metadata": {
            "tags": []
          }
        }
      ]
    },
    {
      "cell_type": "code",
      "metadata": {
        "colab": {
          "base_uri": "https://localhost:8080/"
        },
        "id": "Lue7Tobvr5XZ",
        "outputId": "3ce6ee98-f5a4-43ad-dc68-ac7b42df160d"
      },
      "source": [
        "!trdg --output_dir /content/train -c 10000 -l en -rs -num -let -w 2 --case upper  -ft /content/fonts/licenseplate.ttf -t 3 -k 15 -rk -bl 1 -rbl"
      ],
      "execution_count": null,
      "outputs": [
        {
          "output_type": "stream",
          "text": [
            "2021-01-14 10:29:33.354378: I tensorflow/stream_executor/platform/default/dso_loader.cc:49] Successfully opened dynamic library libcudart.so.10.1\n",
            "100% 10000/10000 [00:50<00:00, 196.55it/s]\n"
          ],
          "name": "stdout"
        }
      ]
    },
    {
      "cell_type": "code",
      "metadata": {
        "colab": {
          "base_uri": "https://localhost:8080/"
        },
        "id": "BPSl-wdxsiLB",
        "outputId": "60932253-0394-4342-a49e-9058ec255d2c"
      },
      "source": [
        "!trdg --output_dir /content/train -c 10000 -l en -rs -num -let -w 2 --case upper  -ft /content/fonts/MANDATOR.ttf -t 3 -k 15 -rk -bl 1 -rbl"
      ],
      "execution_count": null,
      "outputs": [
        {
          "output_type": "stream",
          "text": [
            "2021-01-14 10:30:29.146634: I tensorflow/stream_executor/platform/default/dso_loader.cc:49] Successfully opened dynamic library libcudart.so.10.1\n",
            "100% 10000/10000 [00:49<00:00, 202.85it/s]\n"
          ],
          "name": "stdout"
        }
      ]
    },
    {
      "cell_type": "code",
      "metadata": {
        "colab": {
          "base_uri": "https://localhost:8080/"
        },
        "id": "MexZ7utWsz6U",
        "outputId": "eb9c7cda-465f-4cdb-e667-f20501a4d717"
      },
      "source": [
        "!trdg --output_dir /content/train -c 10000 -l en -rs -num -let -w 2 --case upper  -ft /content/fonts/Soxe2banh.ttf -t 3 -k 15 -rk -bl 1 -rbl"
      ],
      "execution_count": null,
      "outputs": [
        {
          "output_type": "stream",
          "text": [
            "2021-01-14 10:31:22.788291: I tensorflow/stream_executor/platform/default/dso_loader.cc:49] Successfully opened dynamic library libcudart.so.10.1\n",
            "100% 10000/10000 [00:47<00:00, 208.78it/s]\n"
          ],
          "name": "stdout"
        }
      ]
    },
    {
      "cell_type": "code",
      "metadata": {
        "colab": {
          "base_uri": "https://localhost:8080/"
        },
        "id": "TBLkF8Fmt33L",
        "outputId": "a9283a89-3d0a-4522-b250-83bb6717b417"
      },
      "source": [
        "!trdg --output_dir /content/val -c 1000 -l en -rs -num -let -w 2 --case upper  -ft /content/fonts/Soxe2banh.ttf -t 3 -k 15 -rk -bl 1 -rbl"
      ],
      "execution_count": null,
      "outputs": [
        {
          "output_type": "stream",
          "text": [
            "2021-01-14 10:32:14.971348: I tensorflow/stream_executor/platform/default/dso_loader.cc:49] Successfully opened dynamic library libcudart.so.10.1\n",
            "100% 1000/1000 [00:05<00:00, 192.95it/s]\n"
          ],
          "name": "stdout"
        }
      ]
    },
    {
      "cell_type": "code",
      "metadata": {
        "colab": {
          "base_uri": "https://localhost:8080/"
        },
        "id": "sRd7XGnDt9L6",
        "outputId": "1c92fdda-fb80-40ce-a6f1-eb5b4715048c"
      },
      "source": [
        "!trdg --output_dir /content/val -c 1000 -l en -rs -num -let -w 2 --case upper  -ft /content/fonts/MANDATOR.ttf -t 3 -k 15 -rk -bl 1 -rbl"
      ],
      "execution_count": null,
      "outputs": [
        {
          "output_type": "stream",
          "text": [
            "2021-01-14 10:32:24.253947: I tensorflow/stream_executor/platform/default/dso_loader.cc:49] Successfully opened dynamic library libcudart.so.10.1\n",
            "100% 1000/1000 [00:05<00:00, 190.79it/s]\n"
          ],
          "name": "stdout"
        }
      ]
    },
    {
      "cell_type": "code",
      "metadata": {
        "colab": {
          "base_uri": "https://localhost:8080/"
        },
        "id": "BqVS8tXYuBbp",
        "outputId": "8527e2d7-7cdb-4e17-c124-d83e766dc9e1"
      },
      "source": [
        "!trdg --output_dir /content/val -c 1000 -l en -rs -num -let -w 2 --case upper  -ft /content/fonts/licenseplate.ttf -t 3 -k 15 -rk -bl 1 -rbl"
      ],
      "execution_count": null,
      "outputs": [
        {
          "output_type": "stream",
          "text": [
            "2021-01-14 10:32:33.645424: I tensorflow/stream_executor/platform/default/dso_loader.cc:49] Successfully opened dynamic library libcudart.so.10.1\n",
            "100% 1000/1000 [00:05<00:00, 187.26it/s]\n"
          ],
          "name": "stdout"
        }
      ]
    },
    {
      "cell_type": "code",
      "metadata": {
        "colab": {
          "base_uri": "https://localhost:8080/"
        },
        "id": "UqWhUS3Ita-j",
        "outputId": "52bcbc41-cc09-4ada-d62f-3404333ddfd0"
      },
      "source": [
        "!pip install textdistance"
      ],
      "execution_count": null,
      "outputs": [
        {
          "output_type": "stream",
          "text": [
            "Collecting textdistance\n",
            "  Downloading https://files.pythonhosted.org/packages/35/71/87133323736b9b0180f600d477507318dae0abde613a54df33bfd0248614/textdistance-4.2.0-py3-none-any.whl\n",
            "Installing collected packages: textdistance\n",
            "Successfully installed textdistance-4.2.0\n"
          ],
          "name": "stdout"
        }
      ]
    },
    {
      "cell_type": "code",
      "metadata": {
        "id": "gLTD0FrZs48D"
      },
      "source": [
        "import torch\n",
        "import numpy as np\n",
        "from collections import namedtuple\n",
        "import pdb\n",
        "from functools import wraps\n",
        "from time import time as _timenow\n",
        "from sys import stderr\n",
        "import os\n",
        "import pickle\n",
        "import math\n",
        "from PIL import Image\n",
        "from operator import eq\n",
        "import cv2\n",
        "import random\n",
        "import logging\n",
        "import json\n",
        "import math\n",
        "from warnings import warn\n",
        "import re\n",
        "import string\n",
        "from textdistance import levenshtein as lev\n",
        "\n",
        "device = torch.device('cuda:0' if torch.cuda.is_available() else 'cpu')\n",
        "\n",
        "\n",
        "def similarity(word1, word2):\n",
        "    return lev.normalized_distance(word1, word2)\n",
        "\n",
        "def gmkdir(path):\n",
        "    if not os.path.exists(path):\n",
        "        os.makedirs(path)\n",
        "\n",
        "\n",
        "def corrupt(x):\n",
        "    if random.random() > 0.5:\n",
        "        noise = np.random.binomial(1, 1.0 - 0.2, size=x.size())\n",
        "        result = x.clone()\n",
        "        result  *= noise\n",
        "        return result\n",
        "    return x\n",
        "\n",
        "def gaussian(images):\n",
        "    if random.random() > 0.5:\n",
        "        mean, var = 0, 0.1\n",
        "        stddev = var**2\n",
        "        noise = images.data.new(images.size()).normal_(mean, stddev)\n",
        "        return images + noise\n",
        "    return images\n",
        "\n",
        "def time(f):\n",
        "    @wraps(f)\n",
        "    def _wrapped(*args, **kwargs):\n",
        "        start = _timenow()\n",
        "        result = f(*args, **kwargs)\n",
        "        end = _timenow()\n",
        "        print('[time] {}: {}'.format(f.__name__, end - start),\n",
        "              file=stderr)\n",
        "        return result\n",
        "\n",
        "    return _wrapped\n",
        "\n",
        "\n",
        "def split(samples, **kwargs):\n",
        "    total = len(samples)\n",
        "    indices = list(range(total))\n",
        "    if kwargs['random']:\n",
        "        np.random.shuffle(indices)\n",
        "    percent = kwargs['split']\n",
        "    # Split indices\n",
        "    current = 0\n",
        "    train_count = np.int(percent * total)\n",
        "    train_indices = indices[current:current + train_count]\n",
        "    current += train_count\n",
        "    test_indices = indices[current:]\n",
        "    train_subset, test_subset = [], []\n",
        "    for i in train_indices:\n",
        "        train_subset.append(samples[i])\n",
        "\n",
        "    for i in test_indices:\n",
        "        test_subset.append(samples[i])\n",
        "    return train_subset, test_subset\n",
        "\n",
        "def text_align(prWords, gtWords):\n",
        "    row, col = len(prWords), len(gtWords)\n",
        "    adjMat= np.zeros((row, col), dtype=float)\n",
        "    for i in range(len(prWords)):\n",
        "        for j in range(len(gtWords)):\n",
        "            adjMat[i, j] = similarity(prWords[i], gtWords[j])\n",
        "    pr_aligned=[]\n",
        "    for i in range(len(prWords)):\n",
        "        nn = list(map(lambda x:gtWords[x], np.argsort(adjMat[i, :])[:1])) \n",
        "        pr_aligned.append((prWords[i], nn[0]))\n",
        "    return pr_aligned\n",
        "\n",
        "class EarlyStopping:\n",
        "    \"\"\"Early stops the training if validation loss doesn't improve after a given patience.\"\"\"\n",
        "    def __init__(self, save_file, patience=5, verbose=False, delta=0, best_score=None):\n",
        "        \"\"\"\n",
        "        Args:\n",
        "            patience (int): How long to wait after last time validation loss improved.\n",
        "                            Default: 7\n",
        "            verbose (bool): If True, prints a message for each validation loss improvement. \n",
        "                            Default: False\n",
        "            delta (float): Minimum change in the monitored quantity to qualify as an improvement.\n",
        "                            Default: 0\n",
        "        \"\"\"\n",
        "        self.patience = patience\n",
        "        self.verbose = verbose\n",
        "        self.counter = 0\n",
        "        self.best_score = best_score\n",
        "        self.early_stop = False\n",
        "        self.val_loss_min = np.Inf\n",
        "        self.delta = delta\n",
        "        self.save_file = save_file\n",
        "        print(best_score)\n",
        "\n",
        "    def __call__(self, val_loss, epoch, model, optimizer):\n",
        "        \n",
        "        score = -val_loss\n",
        "        state = {\n",
        "                'epoch': epoch + 1,\n",
        "                'state_dict': model.state_dict(),\n",
        "                'opt_state_dict': optimizer.state_dict(),\n",
        "                'best': score\n",
        "                }\n",
        "        if self.best_score is None:\n",
        "            self.best_score = score\n",
        "            self.save_checkpoint(val_loss, state)\n",
        "        elif score < self.best_score - self.delta:\n",
        "\n",
        "            self.counter += 1\n",
        "            print(f'EarlyStopping counter: ({self.best_score:.6f} {self.counter} out of {self.patience})')\n",
        "            if self.counter >= self.patience:\n",
        "                self.early_stop = True\n",
        "        else:\n",
        "            self.best_score = score\n",
        "            self.save_checkpoint(val_loss, state)\n",
        "            self.counter = 0\n",
        "\n",
        "    def save_checkpoint(self, val_loss, state):\n",
        "        '''Saves model when validation loss decrease.'''\n",
        "        if self.verbose:\n",
        "            print(f'Validation loss decreased ({self.val_loss_min:.6f} --> {val_loss:.6f}).  Saving model ...')\n",
        "        torch.save(state, self.save_file)\n",
        "        self.val_loss_min = val_loss\n",
        "\n",
        "\n",
        "class AverageMeter:\n",
        "    def __init__(self, name):\n",
        "        self.name = name\n",
        "        self.count = 0\n",
        "        self.total = 0\n",
        "        self.max = -1 * float(\"inf\")\n",
        "        self.min = float(\"inf\")\n",
        "\n",
        "    def add(self, element):\n",
        "        # pdb.set_trace()\n",
        "        self.total += element\n",
        "        self.count += 1\n",
        "        self.max = max(self.max, element)\n",
        "        self.min = min(self.min, element)\n",
        "\n",
        "    def compute(self):\n",
        "        # pdb.set_trace()\n",
        "        if self.count == 0:\n",
        "            return float(\"inf\")\n",
        "        return self.total / self.count\n",
        "\n",
        "    def __str__(self):\n",
        "        return \"%s (min, avg, max): (%.3lf, %.3lf, %.3lf)\" % (self.name, self.min, self.compute(), self.max)\n",
        "\n",
        "class Eval:\n",
        "    def _blanks(self, max_vals,  max_indices):\n",
        "        def get_ind(indices):\n",
        "            result = []\n",
        "            for i in range(len(indices)):\n",
        "                if indices[i] != 0:\n",
        "                    result.append(i)\n",
        "            return result\n",
        "        non_blank = list(map(get_ind, max_indices))\n",
        "        scores = []\n",
        "\n",
        "        for i, sub_list in enumerate(non_blank):\n",
        "            sub_val = []\n",
        "            if sub_list:\n",
        "                for item in sub_list:\n",
        "                    sub_val.append(max_vals[i][item])\n",
        "            score = np.exp(np.sum(sub_val))\n",
        "            if math.isnan(score):\n",
        "                score = 0.0\n",
        "            scores.append(score)\n",
        "        return scores\n",
        "\n",
        "class Eval:\n",
        "    def _blanks(self, max_vals,  max_indices):\n",
        "        def get_ind(indices):\n",
        "            result = []\n",
        "            for i in range(len(indices)):\n",
        "                if indices[i] != 0:\n",
        "                    result.append(i)\n",
        "            return result\n",
        "        non_blank = list(map(get_ind, max_indices))\n",
        "        scores = []\n",
        "\n",
        "        for i, sub_list in enumerate(non_blank):\n",
        "            sub_val = []\n",
        "            if sub_list:\n",
        "                for item in sub_list:\n",
        "                    sub_val.append(max_vals[i][item])\n",
        "            score = np.exp(np.sum(sub_val))\n",
        "            if math.isnan(score):\n",
        "                score = 0.0\n",
        "            scores.append(score)\n",
        "        return scores\n",
        "\n",
        "\n",
        "    def _clean(self, word):\n",
        "        regex = re.compile('[%s]' % re.escape('!\"#$%&\\'()*+,-./:;<=>?@[\\\\]^_`{|}~“”„'))\n",
        "        return regex.sub('', word)\n",
        "\n",
        "    def char_accuracy(self, pair):\n",
        "        words, truths = pair\n",
        "        words, truths = ''.join(words), ''.join(truths)\n",
        "        sum_edit_dists = lev.distance(words, truths)\n",
        "        sum_gt_lengths = sum(map(len, truths))\n",
        "        fraction = 0\n",
        "        if sum_gt_lengths != 0:\n",
        "            fraction = sum_edit_dists / sum_gt_lengths\n",
        "\n",
        "        percent = fraction * 100\n",
        "        if 100.0 - percent < 0:\n",
        "            return 0.0\n",
        "        else:\n",
        "            return 100.0 - percent\n",
        "\n",
        "    def word_accuracy(self, pair):\n",
        "        correct = 0\n",
        "        word, truth = pair\n",
        "        if self._clean(word) == self._clean(truth):\n",
        "            correct = 1\n",
        "        return correct\n",
        "\n",
        "    def format_target(self, target, target_sizes):\n",
        "        target_ = []\n",
        "        start = 0\n",
        "        for size_ in target_sizes:\n",
        "            target_.append(target[start:start + size_])\n",
        "            start += size_\n",
        "        return target_\n",
        "\n",
        "    def word_accuracy_line(self, pairs):\n",
        "        preds, truths = pairs\n",
        "        word_pairs = text_align(preds.split(), truths.split())\n",
        "        word_acc = np.mean((list(map(self.word_accuracy, word_pairs))))\n",
        "        return word_acc\n",
        "\n",
        "class OCRLabelConverter(object):\n",
        "    \"\"\"Convert between str and label.\n",
        "    NOTE:\n",
        "        Insert `blank` to the alphabet for CTC.\n",
        "    Args:\n",
        "        alphabet (str): set of the possible characters.\n",
        "        ignore_case (bool, default=True): whether or not to ignore all of the case.\n",
        "    \"\"\"\n",
        "\n",
        "    def __init__(self, alphabet, ignore_case=False):\n",
        "        self._ignore_case = ignore_case\n",
        "        if self._ignore_case:\n",
        "            alphabet = alphabet.lower()\n",
        "        self.alphabet = alphabet + '-'  # for `-1` index\n",
        "\n",
        "        self.dict = {}\n",
        "        for i, char in enumerate(alphabet):\n",
        "            # NOTE: 0 is reserved for 'blank' required by wrap_ctc\n",
        "            self.dict[char] = i + 1\n",
        "        self.dict[''] = 0\n",
        "    def encode(self, text):\n",
        "        \"\"\"Support batch or single str.\n",
        "        Args:\n",
        "            text (str or list of str): texts to convert.\n",
        "        Returns:\n",
        "            torch.IntTensor [length_0 + length_1 + ... length_{n - 1}]: encoded texts.\n",
        "            torch.IntTensor [n]: length of each text.\n",
        "        \"\"\"\n",
        "        '''\n",
        "        if isinstance(text, str):\n",
        "            text = [\n",
        "                self.dict[char.lower() if self._ignore_case else char]\n",
        "                for char in text\n",
        "            ]\n",
        "            length = [len(text)]\n",
        "        elif isinstance(text, collections.Iterable):\n",
        "            length = [len(s) for s in text]\n",
        "            text = ''.join(text)\n",
        "            text, _ = self.encode(text)\n",
        "        return (torch.IntTensor(text), torch.IntTensor(length))\n",
        "        '''\n",
        "        length = []\n",
        "        result = []\n",
        "        for item in text:\n",
        "            # item = item.decode('utf-8', 'strict')\n",
        "            length.append(len(item))\n",
        "            for char in item:\n",
        "                if char in self.dict:\n",
        "                    index = self.dict[char]\n",
        "                else:\n",
        "                    index = 0\n",
        "                result.append(index)\n",
        "\n",
        "        text = result\n",
        "        return (torch.IntTensor(text), torch.IntTensor(length))\n",
        "\n",
        "    def decode(self, t, length, raw=False):\n",
        "        \"\"\"Decode encoded texts back into strs.\n",
        "        Args:\n",
        "            torch.IntTensor [length_0 + length_1 + ... length_{n - 1}]: encoded texts.\n",
        "            torch.IntTensor [n]: length of each text.\n",
        "        Raises:\n",
        "            AssertionError: when the texts and its length does not match.\n",
        "        Returns:\n",
        "            text (str or list of str): texts to convert.\n",
        "        \"\"\"\n",
        "        if length.numel() == 1:\n",
        "            length = length[0]\n",
        "            assert t.numel() == length, \"text with length: {} does not match declared length: {}\".format(t.numel(),\n",
        "                                                                                                         length)\n",
        "            if raw:\n",
        "                return ''.join([self.alphabet[i - 1] for i in t])\n",
        "            else:\n",
        "                char_list = []\n",
        "                for i in range(length):\n",
        "                    if t[i] != 0 and (not (i > 0 and t[i - 1] == t[i])):\n",
        "                        char_list.append(self.alphabet[t[i] - 1])\n",
        "                return ''.join(char_list)\n",
        "        else:\n",
        "            # batch mode\n",
        "            assert t.numel() == length.sum(), \"texts with length: {} does not match declared length: {}\".format(\n",
        "                t.numel(), length.sum())\n",
        "            texts = []\n",
        "            index = 0\n",
        "            for i in range(length.numel()):\n",
        "                l = length[i]\n",
        "                texts.append(\n",
        "                    self.decode(t[index:index + l], torch.IntTensor([l]), raw=raw))\n",
        "                index += l\n",
        "            return texts"
      ],
      "execution_count": null,
      "outputs": []
    },
    {
      "cell_type": "code",
      "metadata": {
        "id": "WzphRridtKiC"
      },
      "source": [
        "import pdb\n",
        "import torch\n",
        "import numpy as np\n",
        "import types\n",
        "import math\n",
        "from torch._six import inf\n",
        "from functools import wraps\n",
        "import warnings\n",
        "import weakref\n",
        "from bisect import bisect_right\n",
        "\n",
        "from torch.optim.optimizer import Optimizer\n",
        "from torch.optim.lr_scheduler import _LRScheduler\n",
        "from itertools import chain\n",
        "\n",
        "def opt_params(parm, lr):\n",
        "    return {'params': chain_params(parm), 'lr':lr}\n",
        "\n",
        "def chain_params(p):\n",
        "    return list(chain(*[trainable_params_(p)]))\n",
        " \n",
        "\n",
        "def trainable_params_(m):\n",
        "    return [p for p in m.parameters() if p.requires_grad]\n",
        "\n",
        "class LayerOptimizer(object):\n",
        "\tdef __init__(self, layer_groups, lrs, wds):\n",
        "\t\tself.layer_groups, self.lrs, self.wds = layer_groups, lrs, wds\n",
        "\t\tself.opt = torch.optim.Adam(self.opt_params())\n",
        "\n",
        "\tdef opt_params(self):\n",
        "\t\tself.layers_groups = [layer for layer in self.layer_groups if list(layer.parameters())]\n",
        "\t\tn_layers = len(self.layer_groups)\n",
        "\t\tif not isinstance(self.lrs, list):self.lrs = [self.lrs]*n_layers\n",
        "\t\tparams = list(zip(self.layer_groups, self.lrs))\n",
        "\t\treturn [opt_params(*p) for p in params]\n",
        "\n",
        "class _Optimizer(object):\n",
        "\tdef __init__(self, model, lrs, wds=None):\n",
        "\t\tself.lrs = lrs\n",
        "\t\tself.wds = wds\n",
        "\t\tself.model = model\n",
        "\t\t\n",
        "\tdef child(self, x):\n",
        "\t\treturn list(x.children())\n",
        "\t\n",
        "\tdef recursive_(self, child):\n",
        "\t\tif hasattr(child, 'children'):\n",
        "\t\t\tif len(self.child(child)) != 0:\n",
        "\t\t\t\tchild = self.child(child)\n",
        "\t\t\t\treturn self.recursive_(child)\n",
        "\t\treturn child\n",
        "\n",
        "\tdef get_layer_groups(self):\n",
        "\t\tchildren = []\n",
        "\t\tfor child in self.child(self.model):\n",
        "\t\t\tchildren.extend(self.recursive_(child))\n",
        "\t\treturn children\n",
        "\n",
        "\tdef get_layer_opt(self):\n",
        "\t\treturn LayerOptimizer(self.get_layer_groups(), self.lrs, self.wds)\n",
        "\n",
        "class _LRScheduler(object):\n",
        "    def __init__(self, optimizer, last_epoch=-1):\n",
        "        if not isinstance(optimizer, Optimizer):\n",
        "            raise TypeError('{} is not an Optimizer'.format(\n",
        "                type(optimizer).__name__))\n",
        "        self.optimizer = optimizer\n",
        "        if last_epoch == -1:\n",
        "            for group in optimizer.param_groups:\n",
        "                group.setdefault('initial_lr', group['lr'])\n",
        "            last_epoch = 0\n",
        "        else:\n",
        "            for i, group in enumerate(optimizer.param_groups):\n",
        "                if 'initial_lr' not in group:\n",
        "                    raise KeyError(\"param 'initial_lr' is not specified \"\n",
        "                                   \"in param_groups[{}] when resuming an optimizer\".format(i))\n",
        "        self.base_lrs = list(map(lambda group: group['initial_lr'], optimizer.param_groups))\n",
        "        self.last_epoch = last_epoch\n",
        "\n",
        "        # Following https://github.com/pytorch/pytorch/issues/20124\n",
        "        # We would like to ensure that `lr_scheduler.step()` is called after\n",
        "        # `optimizer.step()`\n",
        "        def with_counter(method):\n",
        "            if getattr(method, '_with_counter', False):\n",
        "                # `optimizer.step()` has already been replaced, return.\n",
        "                return method\n",
        "\n",
        "            # Keep a weak reference to the optimizer instance to prevent\n",
        "            # cyclic references.\n",
        "            instance_ref = weakref.ref(method.__self__)\n",
        "            # Get the unbound method for the same purpose.\n",
        "            func = method.__func__\n",
        "            cls = instance_ref().__class__\n",
        "            del method\n",
        "\n",
        "            @wraps(func)\n",
        "            def wrapper(*args, **kwargs):\n",
        "                instance = instance_ref()\n",
        "                instance._step_count += 1\n",
        "                wrapped = func.__get__(instance, cls)\n",
        "                return wrapped(*args, **kwargs)\n",
        "\n",
        "            # Note that the returned function here is no longer a bound method,\n",
        "            # so attributes like `__func__` and `__self__` no longer exist.\n",
        "            wrapper._with_counter = True\n",
        "            return wrapper\n",
        "\n",
        "        self.optimizer.step = with_counter(self.optimizer.step)\n",
        "        self.optimizer._step_count = 0\n",
        "        self._step_count = 0\n",
        "        self.step(last_epoch)\n",
        "\n",
        "    def state_dict(self):\n",
        "        \"\"\"Returns the state of the scheduler as a :class:`dict`.\n",
        "\n",
        "        It contains an entry for every variable in self.__dict__ which\n",
        "        is not the optimizer.\n",
        "        \"\"\"\n",
        "        return {key: value for key, value in self.__dict__.items() if key != 'optimizer'}\n",
        "\n",
        "    def load_state_dict(self, state_dict):\n",
        "        \"\"\"Loads the schedulers state.\n",
        "\n",
        "        Arguments:\n",
        "            state_dict (dict): scheduler state. Should be an object returned\n",
        "                from a call to :meth:`state_dict`.\n",
        "        \"\"\"\n",
        "        self.__dict__.update(state_dict)\n",
        "\n",
        "    def get_lr(self):\n",
        "        raise NotImplementedError\n",
        "\n",
        "    def step(self, epoch=None):\n",
        "        # Raise a warning if old pattern is detected\n",
        "        # https://github.com/pytorch/pytorch/issues/20124\n",
        "        if self._step_count == 1:\n",
        "            if not hasattr(self.optimizer.step, \"_with_counter\"):\n",
        "                warnings.warn(\"Seems like `optimizer.step()` has been overridden after learning rate scheduler \"\n",
        "                              \"initialization. Please, make sure to call `optimizer.step()` before \"\n",
        "                              \"`lr_scheduler.step()`. See more details at \"\n",
        "                              \"https://pytorch.org/docs/stable/optim.html#how-to-adjust-learning-rate\", UserWarning)\n",
        "\n",
        "            # Just check if there were two first lr_scheduler.step() calls before optimizer.step()\n",
        "            elif self.optimizer._step_count < 1:\n",
        "                warnings.warn(\"Detected call of `lr_scheduler.step()` before `optimizer.step()`. \"\n",
        "                              \"In PyTorch 1.1.0 and later, you should call them in the opposite order: \"\n",
        "                              \"`optimizer.step()` before `lr_scheduler.step()`.  Failure to do this \"\n",
        "                              \"will result in PyTorch skipping the first value of the learning rate schedule.\"\n",
        "                              \"See more details at \"\n",
        "                              \"https://pytorch.org/docs/stable/optim.html#how-to-adjust-learning-rate\", UserWarning)\n",
        "        self._step_count += 1\n",
        "\n",
        "        if epoch is None:\n",
        "            epoch = self.last_epoch + 1\n",
        "        self.last_epoch = epoch\n",
        "        for param_group, lr in zip(self.optimizer.param_groups, self.get_lr()):\n",
        "            param_group['lr'] = lr\n",
        "\n",
        "class STLR(_LRScheduler):\n",
        "\tdef __init__(self, optimizer, T_max, last_epoch=-1, ratio=32):\n",
        "\t\tself.T_max = T_max\n",
        "\t\tself.cut =  np.floor(T_max*0.1)\n",
        "\t\tself.ratio = ratio\n",
        "\t\tsuper(STLR, self).__init__(optimizer, last_epoch)\n",
        "\n",
        "\tdef get_lr(self):\n",
        "\t\tif self.last_epoch < self.cut:\n",
        "\t\t\tp = self.last_epoch/self.cut\n",
        "\t\telse:\n",
        "\t\t\tfraction = (self.last_epoch - self.cut)/(self.cut*(1/self.ratio - 1))\n",
        "\t\t\tp = 1 - fraction\n",
        "\t\treturn [base_lr*(1 + p*(self.ratio - 1))/self.ratio for base_lr in self.base_lrs]\n"
      ],
      "execution_count": null,
      "outputs": []
    },
    {
      "cell_type": "code",
      "metadata": {
        "id": "uPoLsQ2ZtQRW"
      },
      "source": [
        "\n",
        "\n",
        "import os\n",
        "import sys\n",
        "import pdb\n",
        "import six\n",
        "import random\n",
        "import lmdb\n",
        "from PIL import Image\n",
        "import numpy as np\n",
        "import math\n",
        "from collections import OrderedDict\n",
        "from itertools import chain\n",
        "import logging\n",
        "\n",
        "\n",
        "import torch\n",
        "import torch.nn as nn\n",
        "import torch.nn.functional as F\n",
        "from torch.utils.data import Dataset\n",
        "from torch.utils.data import sampler\n",
        "import torchvision.transforms as transforms\n",
        "from torch.optim.lr_scheduler import CosineAnnealingLR, StepLR\n",
        "from torch.nn.utils.clip_grad import clip_grad_norm_\n",
        "from torch.utils.data import random_split"
      ],
      "execution_count": null,
      "outputs": []
    },
    {
      "cell_type": "code",
      "metadata": {
        "id": "PjLKjjfwtg6P"
      },
      "source": [
        "from tqdm import *"
      ],
      "execution_count": null,
      "outputs": []
    },
    {
      "cell_type": "code",
      "metadata": {
        "id": "L3FeayXMtjvv"
      },
      "source": [
        "class SynthDataset(Dataset):\n",
        "    def __init__(self, opt):\n",
        "        super(SynthDataset, self).__init__()\n",
        "        self.path = os.path.join(opt['path'], opt['imgdir'])\n",
        "        self.images = os.listdir(self.path)\n",
        "        self.nSamples = len(self.images)\n",
        "        f = lambda x: os.path.join(self.path, x)\n",
        "        self.imagepaths = list(map(f, self.images))\n",
        "       \ttransform_list =  [transforms.Grayscale(1),\n",
        "                            transforms.ToTensor(), \n",
        "                            transforms.Normalize((0.5,), (0.5,))]\n",
        "        self.transform = transforms.Compose(transform_list)\n",
        "        self.collate_fn = SynthCollator()\n",
        "\n",
        "    def __len__(self):\n",
        "        return self.nSamples\n",
        "\n",
        "    def __getitem__(self, index):\n",
        "        assert index <= len(self), 'index range error'\n",
        "        imagepath = self.imagepaths[index]\n",
        "        imagefile = os.path.basename(imagepath)\n",
        "        # print(imagefile)\n",
        "        img = Image.open(imagepath)\n",
        "        if self.transform is not None:\n",
        "            img = self.transform(img)\n",
        "        item = {'img': img, 'idx':index}\n",
        "        item['label'] = imagefile.split('_')[0]\n",
        "        return item\n"
      ],
      "execution_count": null,
      "outputs": []
    },
    {
      "cell_type": "code",
      "metadata": {
        "id": "dSiCyaJJtmkV"
      },
      "source": [
        "\n",
        "\n",
        "class SynthCollator(object):\n",
        "    \n",
        "    def __call__(self, batch):\n",
        "        width = [item['img'].shape[2] for item in batch]\n",
        "        indexes = [item['idx'] for item in batch]\n",
        "        imgs = torch.ones([len(batch), batch[0]['img'].shape[0], batch[0]['img'].shape[1], \n",
        "                           max(width)], dtype=torch.float32)\n",
        "        for idx, item in enumerate(batch):\n",
        "            try:\n",
        "                imgs[idx, :, :, 0:item['img'].shape[2]] = item['img']\n",
        "            except:\n",
        "                print(imgs.shape)\n",
        "        item = {'img': imgs, 'idx':indexes}\n",
        "        if 'label' in batch[0].keys():\n",
        "            labels = [item['label'] for item in batch]\n",
        "            item['label'] = labels\n",
        "        return item\n",
        "\n"
      ],
      "execution_count": null,
      "outputs": []
    },
    {
      "cell_type": "code",
      "metadata": {
        "id": "vwe3aPW7tpEh"
      },
      "source": [
        "import os\n",
        "import sys\n",
        "import pdb\n",
        "import six\n",
        "import random\n",
        "# import lmdb\n",
        "from PIL import Image\n",
        "import numpy as np\n",
        "import math\n",
        "from collections import OrderedDict\n",
        "from itertools import chain\n",
        "import logging\n",
        "\n",
        "\n",
        "import torch\n",
        "import torch.nn as nn\n",
        "import torch.nn.functional as F\n",
        "from torch.utils.data import Dataset\n",
        "from torch.utils.data import sampler\n",
        "import torchvision.transforms as transforms\n",
        "from torch.optim.lr_scheduler import CosineAnnealingLR, StepLR\n",
        "from torch.nn.utils.clip_grad import clip_grad_norm_\n",
        "from torch.utils.data import random_split\n",
        "\n",
        "class BidirectionalLSTM(nn.Module):\n",
        "\n",
        "    def __init__(self, nIn, nHidden, nOut):\n",
        "        super(BidirectionalLSTM, self).__init__()\n",
        "        self.rnn = nn.LSTM(nIn, nHidden, bidirectional=True)\n",
        "        self.embedding = nn.Linear(nHidden * 2, nOut)\n",
        "    def forward(self, input):\n",
        "        self.rnn.flatten_parameters()\n",
        "        recurrent, _ = self.rnn(input)\n",
        "        T, b, h = recurrent.size()\n",
        "        t_rec = recurrent.view(T * b, h)\n",
        "        output = self.embedding(t_rec)  # [T * b, nOut]\n",
        "        output = output.view(T, b, -1)\n",
        "        return output\n",
        "\n",
        "class CRNN(nn.Module):\n",
        "\n",
        "    def __init__(self, opt, leakyRelu=False):\n",
        "        super(CRNN, self).__init__()\n",
        "\n",
        "        assert opt['imgH'] % 16 == 0, 'imgH has to be a multiple of 16'\n",
        "\n",
        "        ks = [3, 3, 3, 3, 3, 3, 2]\n",
        "        ps = [1, 1, 1, 1, 1, 1, 0]\n",
        "        ss = [1, 1, 1, 1, 1, 1, 1]\n",
        "        nm = [64, 128, 256, 256, 512, 512, 512]\n",
        "\n",
        "        cnn = nn.Sequential()\n",
        "\n",
        "        def convRelu(i, batchNormalization=False):\n",
        "            nIn = opt['nChannels'] if i == 0 else nm[i - 1]\n",
        "            nOut = nm[i]\n",
        "            cnn.add_module('conv{0}'.format(i),\n",
        "                           nn.Conv2d(nIn, nOut, ks[i], ss[i], ps[i]))\n",
        "            if batchNormalization:\n",
        "                cnn.add_module('batchnorm{0}'.format(i), nn.BatchNorm2d(nOut))\n",
        "            if leakyRelu:\n",
        "                cnn.add_module('relu{0}'.format(i),\n",
        "                               nn.LeakyReLU(0.2, inplace=True))\n",
        "            else:\n",
        "                cnn.add_module('relu{0}'.format(i), nn.ReLU(True))\n",
        "\n",
        "        convRelu(0)\n",
        "        cnn.add_module('pooling{0}'.format(0), nn.MaxPool2d(2, 2))  # 64x16x64\n",
        "        convRelu(1)\n",
        "        cnn.add_module('pooling{0}'.format(1), nn.MaxPool2d(2, 2))  # 128x8x32\n",
        "        convRelu(2, True)\n",
        "        convRelu(3)\n",
        "        cnn.add_module('pooling{0}'.format(2),\n",
        "                       nn.MaxPool2d((2, 2), (2, 1), (0, 1)))  # 256x4x16\n",
        "        convRelu(4, True)\n",
        "        convRelu(5)\n",
        "        cnn.add_module('pooling{0}'.format(3),\n",
        "                       nn.MaxPool2d((2, 2), (2, 1), (0, 1)))  # 512x2x16\n",
        "        convRelu(6, True)  # 512x1x16\n",
        "        self.cnn = cnn\n",
        "        self.rnn = nn.Sequential()\n",
        "        self.rnn = nn.Sequential(\n",
        "            BidirectionalLSTM(opt['nHidden']*2, opt['nHidden'], opt['nHidden']),\n",
        "            BidirectionalLSTM(opt['nHidden'], opt['nHidden'], opt['nClasses']))\n",
        "\n",
        "\n",
        "    def forward(self, input):\n",
        "        # conv features\n",
        "        conv = self.cnn(input)\n",
        "        b, c, h, w = conv.size()\n",
        "        assert h == 1, \"the height of conv must be 1\"\n",
        "        conv = conv.squeeze(2)\n",
        "        conv = conv.permute(2, 0, 1)  # [w, b, c]\n",
        "        # rnn features\n",
        "        output = self.rnn(conv)\n",
        "        output = output.transpose(1,0) #Tbh to bth\n",
        "        return output"
      ],
      "execution_count": null,
      "outputs": []
    },
    {
      "cell_type": "code",
      "metadata": {
        "id": "W8BYPKJBtssz"
      },
      "source": [
        "\n",
        "\n",
        "class CustomCTCLoss(torch.nn.Module):\n",
        "    # T x B x H => Softmax on dimension 2\n",
        "    def __init__(self, dim=2):\n",
        "        super().__init__()\n",
        "        self.dim = dim\n",
        "        self.ctc_loss = torch.nn.CTCLoss(reduction='mean', zero_infinity=True)\n",
        "\n",
        "    def forward(self, logits, labels,\n",
        "            prediction_sizes, target_sizes):\n",
        "        EPS = 1e-7\n",
        "        loss = self.ctc_loss(logits, labels, prediction_sizes, target_sizes)\n",
        "        loss = self.sanitize(loss)\n",
        "        return self.debug(loss, logits, labels, prediction_sizes, target_sizes)\n",
        "    \n",
        "    def sanitize(self, loss):\n",
        "        EPS = 1e-7\n",
        "        if abs(loss.item() - float('inf')) < EPS:\n",
        "            return torch.zeros_like(loss)\n",
        "        if math.isnan(loss.item()):\n",
        "            return torch.zeros_like(loss)\n",
        "        return loss\n",
        "\n",
        "    def debug(self, loss, logits, labels,\n",
        "            prediction_sizes, target_sizes):\n",
        "        if math.isnan(loss.item()):\n",
        "            print(\"Loss:\", loss)\n",
        "            print(\"logits:\", logits)\n",
        "            print(\"labels:\", labels)\n",
        "            print(\"prediction_sizes:\", prediction_sizes)\n",
        "            print(\"target_sizes:\", target_sizes)\n",
        "            raise Exception(\"NaN loss obtained. But why?\")\n",
        "        return loss\n",
        "\n"
      ],
      "execution_count": null,
      "outputs": []
    },
    {
      "cell_type": "code",
      "metadata": {
        "id": "509h3CNVtv3A"
      },
      "source": [
        "class OCRTrainer(object):\n",
        "    def __init__(self, opt):\n",
        "        super(OCRTrainer, self).__init__()\n",
        "        self.data_train = opt['data_train']\n",
        "        self.data_val = opt['data_val']\n",
        "        self.model = opt['model']\n",
        "        self.criterion = opt['criterion']\n",
        "        self.optimizer = opt['optimizer']\n",
        "        self.schedule = opt['schedule']\n",
        "        self.converter = OCRLabelConverter(opt['alphabet'])\n",
        "        self.evaluator = Eval()\n",
        "        print('Scheduling is {}'.format(self.schedule))\n",
        "        self.scheduler = CosineAnnealingLR(self.optimizer, T_max=opt['epochs'])\n",
        "        self.batch_size = opt['batch_size']\n",
        "        self.count = opt['epoch']\n",
        "        self.epochs = opt['epochs']\n",
        "        self.cuda = opt['cuda']\n",
        "        self.collate_fn = opt['collate_fn']\n",
        "        # self.noise = opt.noise\n",
        "        self.init_meters()\n",
        "\n",
        "    def init_meters(self):\n",
        "        self.avgTrainLoss = AverageMeter(\"Train loss\")\n",
        "        self.avgTrainCharAccuracy = AverageMeter(\"Train Character Accuracy\")\n",
        "        self.avgTrainWordAccuracy = AverageMeter(\"Train Word Accuracy\")\n",
        "        self.avgValLoss = AverageMeter(\"Validation loss\")\n",
        "        self.avgValCharAccuracy = AverageMeter(\"Validation Character Accuracy\")\n",
        "        self.avgValWordAccuracy = AverageMeter(\"Validation Word Accuracy\")\n",
        "\n",
        "    def forward(self, x):\n",
        "        logits = self.model(x)\n",
        "        return logits.transpose(1, 0)\n",
        "\n",
        "    def loss_fn(self, logits, targets, pred_sizes, target_sizes):\n",
        "        loss = self.criterion(logits, targets, pred_sizes, target_sizes)\n",
        "        return loss\n",
        "\n",
        "    def step(self):\n",
        "        self.max_grad_norm = 0.05\n",
        "        clip_grad_norm_(self.model.parameters(), self.max_grad_norm)\n",
        "        self.optimizer.step()\n",
        "    \n",
        "    def schedule_lr(self):\n",
        "        if self.schedule:\n",
        "            self.scheduler.step()\n",
        "\n",
        "    def mixup_data(self, x, y, lengths, alpha):\n",
        "        y = self.evaluator.format_target(y, lengths)\n",
        "        if alpha > 0:\n",
        "            lam = np.random.beta(alpha, alpha)\n",
        "        else:\n",
        "            lam = 1\n",
        "        batch_size = x.size()[0]\n",
        "        index = torch.randperm(batch_size)\n",
        "        mixed_x = lam * x + (1 - lam) * x[index, :]\n",
        "        y_a, y_b = y, [y[i] for i in index]\n",
        "        lengths_b = torch.LongTensor([lengths[i] for i in index])\n",
        "        y_a, y_b = torch.LongTensor(torch.LongTensor(list(chain((*y_a))))), \\\n",
        "        torch.LongTensor(torch.LongTensor(list(chain((*y_b)))))\n",
        "        return mixed_x, y_a, y_b, lengths, lengths_b, lam\n",
        "\n",
        "    def _run_batch(self, batch, report_accuracy=False, validation=False):\n",
        "        input_, targets = batch['img'].cuda(), batch['label']\n",
        "        targets, lengths = self.converter.encode(targets)\n",
        "        logits = self.forward(input_)\n",
        "        logits = logits.contiguous().cpu()\n",
        "        logits = torch.nn.functional.log_softmax(logits, 2)\n",
        "        T, B, H = logits.size()\n",
        "        pred_sizes = torch.LongTensor([T for i in range(B)])\n",
        "        targets= targets.view(-1).contiguous()\n",
        "        loss = self.loss_fn(logits, targets, pred_sizes, lengths)\n",
        "        if report_accuracy:\n",
        "            probs, preds = logits.max(2)\n",
        "            preds = preds.transpose(1, 0).contiguous().view(-1)\n",
        "            sim_preds = self.converter.decode(preds.data, pred_sizes.data, raw=False)\n",
        "            ca = np.mean((list(map(self.evaluator.char_accuracy, list(zip(sim_preds, batch['label']))))))\n",
        "            wa = np.mean((list(map(self.evaluator.word_accuracy, list(zip(sim_preds, batch['label']))))))\n",
        "        return loss, ca, wa\n",
        "\n",
        "    def run_epoch(self, validation=False):\n",
        "        if not validation:\n",
        "            loader = self.train_dataloader()\n",
        "            pbar = tqdm(loader, desc='Epoch: [%d]/[%d] Training'%(self.count, \n",
        "                self.epochs), leave=True)\n",
        "            self.model.train()\n",
        "        else:\n",
        "            loader = self.val_dataloader()\n",
        "            pbar = tqdm(loader, desc='Validating', leave=True)\n",
        "            self.model.eval()\n",
        "        outputs = []\n",
        "        for batch_nb, batch in enumerate(pbar):\n",
        "            if not validation:\n",
        "                output = self.training_step(batch)\n",
        "            else:\n",
        "                output = self.validation_step(batch)\n",
        "            pbar.set_postfix(output)\n",
        "            outputs.append(output)\n",
        "        self.schedule_lr()\n",
        "        if not validation:\n",
        "            result = self.train_end(outputs)\n",
        "        else:\n",
        "            result = self.validation_end(outputs)\n",
        "        return result\n",
        "\n",
        "    def training_step(self, batch):\n",
        "        loss, ca, wa = self._run_batch(batch, report_accuracy=True)\n",
        "        self.optimizer.zero_grad()\n",
        "        loss.backward()\n",
        "        self.step()\n",
        "        output = OrderedDict({\n",
        "            'loss': abs(loss.item()),\n",
        "            'train_ca': ca.item(),\n",
        "            'train_wa': wa.item()\n",
        "            })\n",
        "        return output\n",
        "\n",
        "    def validation_step(self, batch):\n",
        "        loss, ca, wa = self._run_batch(batch, report_accuracy=True, validation=True)\n",
        "        output = OrderedDict({\n",
        "            'val_loss': abs(loss.item()),\n",
        "            'val_ca': ca.item(),\n",
        "            'val_wa': wa.item()\n",
        "            })\n",
        "        return output\n",
        "\n",
        "    def train_dataloader(self):\n",
        "        # logging.info('training data loader called')\n",
        "        loader = torch.utils.data.DataLoader(self.data_train,\n",
        "                batch_size=self.batch_size,\n",
        "                collate_fn=self.collate_fn,\n",
        "                shuffle=True)\n",
        "        return loader\n",
        "        \n",
        "    def val_dataloader(self):\n",
        "        # logging.info('val data loader called')\n",
        "        loader = torch.utils.data.DataLoader(self.data_val,\n",
        "                batch_size=self.batch_size,\n",
        "                collate_fn=self.collate_fn)\n",
        "        return loader\n",
        "\n",
        "    def train_end(self, outputs):\n",
        "        for output in outputs:\n",
        "            self.avgTrainLoss.add(output['loss'])\n",
        "            self.avgTrainCharAccuracy.add(output['train_ca'])\n",
        "            self.avgTrainWordAccuracy.add(output['train_wa'])\n",
        "\n",
        "        train_loss_mean = abs(self.avgTrainLoss.compute())\n",
        "        train_ca_mean = self.avgTrainCharAccuracy.compute()\n",
        "        train_wa_mean = self.avgTrainWordAccuracy.compute()\n",
        "\n",
        "        result = {'train_loss': train_loss_mean, 'train_ca': train_ca_mean,\n",
        "        'train_wa': train_wa_mean}\n",
        "        # result = {'progress_bar': tqdm_dict, 'log': tqdm_dict, 'val_loss': train_loss_mean}\n",
        "        return result\n",
        "\n",
        "    def validation_end(self, outputs):\n",
        "        for output in outputs:\n",
        "            self.avgValLoss.add(output['val_loss'])\n",
        "            self.avgValCharAccuracy.add(output['val_ca'])\n",
        "            self.avgValWordAccuracy.add(output['val_wa'])\n",
        "\n",
        "        val_loss_mean = abs(self.avgValLoss.compute())\n",
        "        val_ca_mean = self.avgValCharAccuracy.compute()\n",
        "        val_wa_mean = self.avgValWordAccuracy.compute()\n",
        "\n",
        "        result = {'val_loss': val_loss_mean, 'val_ca': val_ca_mean,\n",
        "        'val_wa': val_wa_mean}\n",
        "        return result"
      ],
      "execution_count": null,
      "outputs": []
    },
    {
      "cell_type": "code",
      "metadata": {
        "id": "gHQUyzOft2Ns"
      },
      "source": [
        "class Learner(object):\n",
        "    def __init__(self, model, optimizer, savepath=None, resume=False):\n",
        "        self.model = model\n",
        "        self.optimizer = optimizer\n",
        "        self.savepath = os.path.join(savepath, 'best.ckpt')\n",
        "        self.cuda = torch.cuda.is_available()\n",
        "        self.cuda_count = torch.cuda.device_count()\n",
        "        if self.cuda:\n",
        "            self.model = self.model.cuda()\n",
        "        self.epoch = 0\n",
        "        if self.cuda_count > 1:\n",
        "            print(\"Let's use\", torch.cuda.device_count(), \"GPUs!\")\n",
        "            self.model = nn.DataParallel(self.model)\n",
        "        self.best_score = None\n",
        "        if resume and os.path.exists(self.savepath):\n",
        "            self.checkpoint = torch.load(self.savepath)\n",
        "            self.epoch = self.checkpoint['epoch']\n",
        "            self.best_score = self.checkpoint['best']\n",
        "            self.load()\n",
        "        else:\n",
        "            print('checkpoint does not exist')\n",
        "\n",
        "    def fit(self, opt):\n",
        "        opt['cuda'] = self.cuda\n",
        "        opt['model'] = self.model\n",
        "        opt['optimizer'] = self.optimizer\n",
        "        logging.basicConfig(filename=\"%s/%s.csv\" %\n",
        "                            (opt['log_dir'], opt['name']), level=logging.INFO)\n",
        "        self.saver = EarlyStopping(\n",
        "            self.savepath, patience=15, verbose=True, best_score=self.best_score)\n",
        "        opt['epoch'] = self.epoch\n",
        "        trainer = OCRTrainer(opt)\n",
        "\n",
        "        for epoch in range(opt['epoch'], opt['epochs']):\n",
        "            train_result = trainer.run_epoch()\n",
        "            val_result = trainer.run_epoch(validation=True)\n",
        "            trainer.count = epoch\n",
        "            info = '%d, %.6f, %.6f, %.6f, %.6f, %.6f, %.6f' % (epoch, train_result['train_loss'],\n",
        "                                                               val_result['val_loss'], train_result['train_ca'],  val_result['val_ca'],\n",
        "                                                               train_result['train_wa'], val_result['val_wa'])\n",
        "            logging.info(info)\n",
        "            self.val_loss = val_result['val_loss']\n",
        "            print(self.val_loss)\n",
        "            if self.savepath:\n",
        "                self.save(epoch)\n",
        "            if self.saver.early_stop:\n",
        "                print(\"Early stopping\")\n",
        "                break\n",
        "\n",
        "    def load(self):\n",
        "        print('Loading checkpoint at {} trained for {} epochs'.format(\n",
        "            self.savepath, self.checkpoint['epoch']))\n",
        "        self.model.load_state_dict(self.checkpoint['state_dict'])\n",
        "        if 'opt_state_dict' in self.checkpoint.keys():\n",
        "            print('Loading optimizer')\n",
        "            self.optimizer.load_state_dict(self.checkpoint['opt_state_dict'])\n",
        "\n",
        "    def save(self, epoch):\n",
        "        self.saver(self.val_loss, epoch, self.model, self.optimizer)"
      ],
      "execution_count": null,
      "outputs": []
    },
    {
      "cell_type": "code",
      "metadata": {
        "id": "LI7lMQZouRJJ"
      },
      "source": [
        "alphabet = \"\"\"QWERTYUIOPASDFGHJKLZXCVBNM 1234567890\"\"\"\n",
        "args = {\n",
        "    'name':'exp1',\n",
        "    'path':'/content',\n",
        "    'imgdir': 'train',\n",
        "    'imgH':32,\n",
        "    'nChannels':1,\n",
        "    'nHidden':256,\n",
        "    'nClasses':len(alphabet)+1,\n",
        "    'lr':0.001,\n",
        "    'epochs':50,\n",
        "    'batch_size':32,\n",
        "    'save_dir':'checkpoints',\n",
        "    'log_dir':'logs',\n",
        "    'resume':True,\n",
        "    'cuda':False,\n",
        "    'schedule':False\n",
        "    \n",
        "}"
      ],
      "execution_count": null,
      "outputs": []
    },
    {
      "cell_type": "code",
      "metadata": {
        "id": "jiozGQq9-Wq1"
      },
      "source": [
        "os.rmdir('/content/train/Untitled Folder')"
      ],
      "execution_count": null,
      "outputs": []
    },
    {
      "cell_type": "code",
      "metadata": {
        "colab": {
          "base_uri": "https://localhost:8080/"
        },
        "id": "Gh5mz3uluert",
        "outputId": "e8e99274-ca3c-40d6-dc66-24f7141f34d4"
      },
      "source": [
        "data = SynthDataset(args)\n",
        "args['collate_fn'] = SynthCollator()\n",
        "train_split = int(0.8*len(data))\n",
        "val_split = len(data) - train_split\n",
        "args['data_train'], args['data_val'] = random_split(data, (train_split, val_split))\n",
        "print('Traininig Data Size:{}\\nVal Data Size:{}'.format(\n",
        "    len(args['data_train']), len(args['data_val'])))\n",
        "args['alphabet'] = alphabet\n",
        "model = CRNN(args)\n",
        "args['criterion'] = CustomCTCLoss()\n",
        "savepath = os.path.join(args['save_dir'], args['name'])\n",
        "gmkdir(savepath)\n",
        "gmkdir(args['log_dir'])\n",
        "optimizer = torch.optim.Adam(model.parameters(), lr=args['lr'])\n",
        "learner = Learner(model, optimizer, savepath=savepath, resume=args['resume'])\n",
        "learner.fit(args)"
      ],
      "execution_count": null,
      "outputs": [
        {
          "output_type": "stream",
          "text": [
            "\rEpoch: [4]/[50] Training:   0%|          | 0/750 [00:00<?, ?it/s]"
          ],
          "name": "stderr"
        },
        {
          "output_type": "stream",
          "text": [
            "Traininig Data Size:24000\n",
            "Val Data Size:6000\n",
            "Loading checkpoint at checkpoints/exp1/best.ckpt trained for 4 epochs\n",
            "Loading optimizer\n",
            "-1.6351596221644829\n",
            "Scheduling is False\n"
          ],
          "name": "stdout"
        },
        {
          "output_type": "stream",
          "text": [
            "Epoch: [4]/[50] Training: 100%|██████████| 750/750 [02:37<00:00,  4.75it/s, loss=0.513, train_ca=84, train_wa=0.25]\n",
            "Validating: 100%|██████████| 188/188 [00:26<00:00,  7.15it/s, val_loss=0.921, val_ca=77.6, val_wa=0.25]\n"
          ],
          "name": "stderr"
        },
        {
          "output_type": "stream",
          "text": [
            "0.6201315691813509\n",
            "Validation loss decreased (inf --> 0.620132).  Saving model ...\n"
          ],
          "name": "stdout"
        },
        {
          "output_type": "stream",
          "text": [
            "Epoch: [4]/[50] Training: 100%|██████████| 750/750 [02:36<00:00,  4.79it/s, loss=0.751, train_ca=79.9, train_wa=0.438]\n",
            "Validating: 100%|██████████| 188/188 [00:26<00:00,  7.14it/s, val_loss=0.875, val_ca=78.9, val_wa=0.375]\n"
          ],
          "name": "stderr"
        },
        {
          "output_type": "stream",
          "text": [
            "0.6129039159004993\n",
            "Validation loss decreased (0.620132 --> 0.612904).  Saving model ...\n"
          ],
          "name": "stdout"
        },
        {
          "output_type": "stream",
          "text": [
            "Epoch: [5]/[50] Training: 100%|██████████| 750/750 [02:35<00:00,  4.82it/s, loss=0.417, train_ca=88.2, train_wa=0.469]\n",
            "Validating: 100%|██████████| 188/188 [00:25<00:00,  7.23it/s, val_loss=0.756, val_ca=80.1, val_wa=0.375]\n"
          ],
          "name": "stderr"
        },
        {
          "output_type": "stream",
          "text": [
            "0.5781447179879703\n",
            "Validation loss decreased (0.612904 --> 0.578145).  Saving model ...\n"
          ],
          "name": "stdout"
        },
        {
          "output_type": "stream",
          "text": [
            "Epoch: [6]/[50] Training: 100%|██████████| 750/750 [02:37<00:00,  4.75it/s, loss=0.669, train_ca=79.4, train_wa=0.375]\n",
            "Validating: 100%|██████████| 188/188 [00:26<00:00,  7.15it/s, val_loss=0.724, val_ca=81.8, val_wa=0.438]\n"
          ],
          "name": "stderr"
        },
        {
          "output_type": "stream",
          "text": [
            "0.5597384323346171\n",
            "Validation loss decreased (0.578145 --> 0.559738).  Saving model ...\n"
          ],
          "name": "stdout"
        },
        {
          "output_type": "stream",
          "text": [
            "Epoch: [7]/[50] Training: 100%|██████████| 750/750 [02:35<00:00,  4.84it/s, loss=0.272, train_ca=91.7, train_wa=0.594]\n",
            "Validating: 100%|██████████| 188/188 [00:26<00:00,  7.20it/s, val_loss=0.742, val_ca=81.5, val_wa=0.375]\n"
          ],
          "name": "stderr"
        },
        {
          "output_type": "stream",
          "text": [
            "0.5452288059636633\n",
            "Validation loss decreased (0.559738 --> 0.545229).  Saving model ...\n"
          ],
          "name": "stdout"
        },
        {
          "output_type": "stream",
          "text": [
            "Epoch: [8]/[50] Training: 100%|██████████| 750/750 [02:34<00:00,  4.84it/s, loss=0.309, train_ca=90.2, train_wa=0.5]\n",
            "Validating: 100%|██████████| 188/188 [00:25<00:00,  7.30it/s, val_loss=0.544, val_ca=83.9, val_wa=0.375]\n"
          ],
          "name": "stderr"
        },
        {
          "output_type": "stream",
          "text": [
            "0.5263584051017008\n",
            "Validation loss decreased (0.545229 --> 0.526358).  Saving model ...\n"
          ],
          "name": "stdout"
        },
        {
          "output_type": "stream",
          "text": [
            "Epoch: [9]/[50] Training: 100%|██████████| 750/750 [02:34<00:00,  4.84it/s, loss=0.552, train_ca=85.1, train_wa=0.375]\n",
            "Validating: 100%|██████████| 188/188 [00:25<00:00,  7.23it/s, val_loss=0.544, val_ca=83.9, val_wa=0.5]\n"
          ],
          "name": "stderr"
        },
        {
          "output_type": "stream",
          "text": [
            "0.5126616576046747\n",
            "Validation loss decreased (0.526358 --> 0.512662).  Saving model ...\n"
          ],
          "name": "stdout"
        },
        {
          "output_type": "stream",
          "text": [
            "Epoch: [10]/[50] Training: 100%|██████████| 750/750 [02:34<00:00,  4.86it/s, loss=0.291, train_ca=91.8, train_wa=0.562]\n",
            "Validating: 100%|██████████| 188/188 [00:25<00:00,  7.24it/s, val_loss=0.579, val_ca=85.4, val_wa=0.5]\n"
          ],
          "name": "stderr"
        },
        {
          "output_type": "stream",
          "text": [
            "0.5058245921527293\n",
            "Validation loss decreased (0.512662 --> 0.505825).  Saving model ...\n"
          ],
          "name": "stdout"
        },
        {
          "output_type": "stream",
          "text": [
            "Epoch: [11]/[50] Training: 100%|██████████| 750/750 [02:34<00:00,  4.86it/s, loss=0.265, train_ca=92.7, train_wa=0.656]\n",
            "Validating: 100%|██████████| 188/188 [00:25<00:00,  7.26it/s, val_loss=0.391, val_ca=89, val_wa=0.5]\n"
          ],
          "name": "stderr"
        },
        {
          "output_type": "stream",
          "text": [
            "0.4931329252202742\n",
            "Validation loss decreased (0.505825 --> 0.493133).  Saving model ...\n"
          ],
          "name": "stdout"
        },
        {
          "output_type": "stream",
          "text": [
            "Epoch: [12]/[50] Training: 100%|██████████| 750/750 [02:34<00:00,  4.85it/s, loss=0.209, train_ca=93.1, train_wa=0.562]\n",
            "Validating: 100%|██████████| 188/188 [00:25<00:00,  7.28it/s, val_loss=0.479, val_ca=87.9, val_wa=0.438]\n"
          ],
          "name": "stderr"
        },
        {
          "output_type": "stream",
          "text": [
            "0.4842442610320893\n",
            "Validation loss decreased (0.493133 --> 0.484244).  Saving model ...\n"
          ],
          "name": "stdout"
        },
        {
          "output_type": "stream",
          "text": [
            "Epoch: [13]/[50] Training: 100%|██████████| 750/750 [02:33<00:00,  4.90it/s, loss=0.257, train_ca=91.3, train_wa=0.531]\n",
            "Validating: 100%|██████████| 188/188 [00:25<00:00,  7.46it/s, val_loss=0.548, val_ca=83.5, val_wa=0.312]\n"
          ],
          "name": "stderr"
        },
        {
          "output_type": "stream",
          "text": [
            "0.4777350655578552\n",
            "Validation loss decreased (0.484244 --> 0.477735).  Saving model ...\n"
          ],
          "name": "stdout"
        },
        {
          "output_type": "stream",
          "text": [
            "Epoch: [14]/[50] Training: 100%|██████████| 750/750 [02:31<00:00,  4.95it/s, loss=0.117, train_ca=96, train_wa=0.656]\n",
            "Validating: 100%|██████████| 188/188 [00:25<00:00,  7.36it/s, val_loss=0.498, val_ca=85.1, val_wa=0.5]\n"
          ],
          "name": "stderr"
        },
        {
          "output_type": "stream",
          "text": [
            "0.46853018031581073\n",
            "Validation loss decreased (0.477735 --> 0.468530).  Saving model ...\n"
          ],
          "name": "stdout"
        },
        {
          "output_type": "stream",
          "text": [
            "Epoch: [15]/[50] Training: 100%|██████████| 750/750 [02:32<00:00,  4.93it/s, loss=0.241, train_ca=93.3, train_wa=0.688]\n",
            "Validating: 100%|██████████| 188/188 [00:25<00:00,  7.42it/s, val_loss=0.438, val_ca=87.3, val_wa=0.5]\n"
          ],
          "name": "stderr"
        },
        {
          "output_type": "stream",
          "text": [
            "0.46065584953368294\n",
            "Validation loss decreased (0.468530 --> 0.460656).  Saving model ...\n"
          ],
          "name": "stdout"
        },
        {
          "output_type": "stream",
          "text": [
            "Epoch: [16]/[50] Training: 100%|██████████| 750/750 [02:32<00:00,  4.92it/s, loss=0.196, train_ca=92.7, train_wa=0.5]\n",
            "Validating: 100%|██████████| 188/188 [00:25<00:00,  7.36it/s, val_loss=0.458, val_ca=88.8, val_wa=0.5]\n"
          ],
          "name": "stderr"
        },
        {
          "output_type": "stream",
          "text": [
            "0.4536709033751062\n",
            "Validation loss decreased (0.460656 --> 0.453671).  Saving model ...\n"
          ],
          "name": "stdout"
        },
        {
          "output_type": "stream",
          "text": [
            "Epoch: [17]/[50] Training: 100%|██████████| 750/750 [02:33<00:00,  4.89it/s, loss=0.129, train_ca=95.5, train_wa=0.719]\n",
            "Validating: 100%|██████████| 188/188 [00:25<00:00,  7.30it/s, val_loss=0.504, val_ca=89.3, val_wa=0.438]\n"
          ],
          "name": "stderr"
        },
        {
          "output_type": "stream",
          "text": [
            "0.44830861018428986\n",
            "Validation loss decreased (0.453671 --> 0.448309).  Saving model ...\n"
          ],
          "name": "stdout"
        },
        {
          "output_type": "stream",
          "text": [
            "Epoch: [18]/[50] Training: 100%|██████████| 750/750 [02:32<00:00,  4.92it/s, loss=0.167, train_ca=93.6, train_wa=0.5]\n",
            "Validating: 100%|██████████| 188/188 [00:25<00:00,  7.38it/s, val_loss=0.416, val_ca=88.1, val_wa=0.438]\n"
          ],
          "name": "stderr"
        },
        {
          "output_type": "stream",
          "text": [
            "0.4428602913047801\n",
            "Validation loss decreased (0.448309 --> 0.442860).  Saving model ...\n"
          ],
          "name": "stdout"
        },
        {
          "output_type": "stream",
          "text": [
            "Epoch: [19]/[50] Training: 100%|██████████| 750/750 [02:31<00:00,  4.95it/s, loss=0.133, train_ca=94.9, train_wa=0.75]\n",
            "Validating: 100%|██████████| 188/188 [00:25<00:00,  7.37it/s, val_loss=0.399, val_ca=89.7, val_wa=0.5]\n"
          ],
          "name": "stderr"
        },
        {
          "output_type": "stream",
          "text": [
            "0.4383254126506917\n",
            "Validation loss decreased (0.442860 --> 0.438325).  Saving model ...\n"
          ],
          "name": "stdout"
        },
        {
          "output_type": "stream",
          "text": [
            "Epoch: [20]/[50] Training: 100%|██████████| 750/750 [02:31<00:00,  4.96it/s, loss=0.17, train_ca=94.8, train_wa=0.719]\n",
            "Validating: 100%|██████████| 188/188 [00:25<00:00,  7.36it/s, val_loss=0.38, val_ca=88.2, val_wa=0.562]\n"
          ],
          "name": "stderr"
        },
        {
          "output_type": "stream",
          "text": [
            "0.4336485787257376\n",
            "Validation loss decreased (0.438325 --> 0.433649).  Saving model ...\n"
          ],
          "name": "stdout"
        },
        {
          "output_type": "stream",
          "text": [
            "Epoch: [21]/[50] Training: 100%|██████████| 750/750 [02:30<00:00,  4.99it/s, loss=0.165, train_ca=95.1, train_wa=0.688]\n",
            "Validating: 100%|██████████| 188/188 [00:25<00:00,  7.35it/s, val_loss=0.372, val_ca=89.5, val_wa=0.5]\n"
          ],
          "name": "stderr"
        },
        {
          "output_type": "stream",
          "text": [
            "0.4310303912910008\n",
            "Validation loss decreased (0.433649 --> 0.431030).  Saving model ...\n"
          ],
          "name": "stdout"
        },
        {
          "output_type": "stream",
          "text": [
            "Epoch: [22]/[50] Training: 100%|██████████| 750/750 [02:31<00:00,  4.94it/s, loss=0.233, train_ca=93.1, train_wa=0.625]\n",
            "Validating: 100%|██████████| 188/188 [00:25<00:00,  7.31it/s, val_loss=0.407, val_ca=89.7, val_wa=0.562]\n"
          ],
          "name": "stderr"
        },
        {
          "output_type": "stream",
          "text": [
            "0.4286213578299639\n",
            "Validation loss decreased (0.431030 --> 0.428621).  Saving model ...\n"
          ],
          "name": "stdout"
        },
        {
          "output_type": "stream",
          "text": [
            "Epoch: [23]/[50] Training: 100%|██████████| 750/750 [02:32<00:00,  4.93it/s, loss=0.158, train_ca=95.1, train_wa=0.719]\n",
            "Validating: 100%|██████████| 188/188 [00:25<00:00,  7.39it/s, val_loss=0.426, val_ca=87, val_wa=0.5]\n"
          ],
          "name": "stderr"
        },
        {
          "output_type": "stream",
          "text": [
            "0.4250045471844521\n",
            "Validation loss decreased (0.428621 --> 0.425005).  Saving model ...\n"
          ],
          "name": "stdout"
        },
        {
          "output_type": "stream",
          "text": [
            "Epoch: [24]/[50] Training: 100%|██████████| 750/750 [02:31<00:00,  4.96it/s, loss=0.109, train_ca=96.3, train_wa=0.719]\n",
            "Validating: 100%|██████████| 188/188 [00:25<00:00,  7.30it/s, val_loss=0.379, val_ca=89.8, val_wa=0.562]\n"
          ],
          "name": "stderr"
        },
        {
          "output_type": "stream",
          "text": [
            "0.4234680936832118\n",
            "Validation loss decreased (0.425005 --> 0.423468).  Saving model ...\n"
          ],
          "name": "stdout"
        },
        {
          "output_type": "stream",
          "text": [
            "Epoch: [25]/[50] Training: 100%|██████████| 750/750 [02:31<00:00,  4.96it/s, loss=0.0981, train_ca=95.8, train_wa=0.719]\n",
            "Validating: 100%|██████████| 188/188 [00:25<00:00,  7.33it/s, val_loss=0.473, val_ca=88.9, val_wa=0.5]\n"
          ],
          "name": "stderr"
        },
        {
          "output_type": "stream",
          "text": [
            "0.4219837179329939\n",
            "Validation loss decreased (0.423468 --> 0.421984).  Saving model ...\n"
          ],
          "name": "stdout"
        },
        {
          "output_type": "stream",
          "text": [
            "Epoch: [26]/[50] Training: 100%|██████████| 750/750 [02:31<00:00,  4.96it/s, loss=0.0435, train_ca=98.8, train_wa=0.812]\n",
            "Validating: 100%|██████████| 188/188 [00:25<00:00,  7.34it/s, val_loss=0.512, val_ca=87.2, val_wa=0.5]\n"
          ],
          "name": "stderr"
        },
        {
          "output_type": "stream",
          "text": [
            "0.4208049755328804\n",
            "Validation loss decreased (0.421984 --> 0.420805).  Saving model ...\n"
          ],
          "name": "stdout"
        },
        {
          "output_type": "stream",
          "text": [
            "Epoch: [27]/[50] Training: 100%|██████████| 750/750 [02:29<00:00,  5.02it/s, loss=0.0985, train_ca=96.6, train_wa=0.781]\n",
            "Validating: 100%|██████████| 188/188 [00:25<00:00,  7.48it/s, val_loss=0.401, val_ca=90.5, val_wa=0.5]\n"
          ],
          "name": "stderr"
        },
        {
          "output_type": "stream",
          "text": [
            "0.41962349700166823\n",
            "Validation loss decreased (0.420805 --> 0.419623).  Saving model ...\n"
          ],
          "name": "stdout"
        },
        {
          "output_type": "stream",
          "text": [
            "Epoch: [28]/[50] Training: 100%|██████████| 750/750 [02:28<00:00,  5.06it/s, loss=0.143, train_ca=95.9, train_wa=0.688]\n",
            "Validating: 100%|██████████| 188/188 [00:25<00:00,  7.51it/s, val_loss=0.551, val_ca=88.6, val_wa=0.5]\n"
          ],
          "name": "stderr"
        },
        {
          "output_type": "stream",
          "text": [
            "0.41834932267848773\n",
            "Validation loss decreased (0.419623 --> 0.418349).  Saving model ...\n"
          ],
          "name": "stdout"
        },
        {
          "output_type": "stream",
          "text": [
            "Epoch: [29]/[50] Training:  56%|█████▌    | 417/750 [01:22<01:04,  5.17it/s, loss=0.128, train_ca=95.5, train_wa=0.688]"
          ],
          "name": "stderr"
        }
      ]
    },
    {
      "cell_type": "code",
      "metadata": {
        "id": "K0CKM5vMukxt"
      },
      "source": [
        "\n",
        "\n",
        "import matplotlib.pyplot as plt\n",
        "from torchvision.utils import make_grid\n",
        "\n"
      ],
      "execution_count": null,
      "outputs": []
    },
    {
      "cell_type": "code",
      "metadata": {
        "id": "rrZifQfiwLEY"
      },
      "source": [
        "device = torch.device(\"cuda:0\" if torch.cuda.is_available() else \"cpu\")\n",
        "def get_accuracy(args):\n",
        "    loader = torch.utils.data.DataLoader(args['data'],\n",
        "                batch_size=args['batch_size'],\n",
        "                collate_fn=args['collate_fn'])\n",
        "    model = args['model']\n",
        "    model.eval()\n",
        "    converter = OCRLabelConverter(args['alphabet'])\n",
        "    evaluator = Eval()\n",
        "    labels, predictions, images = [], [], []\n",
        "    for iteration, batch in enumerate(tqdm(loader)):\n",
        "        input_, targets = batch['img'].to(device), batch['label']\n",
        "        images.extend(input_.squeeze().detach())\n",
        "        labels.extend(targets)\n",
        "        targets, lengths = converter.encode(targets)\n",
        "        print(input_.shape)\n",
        "        logits = model(input_).transpose(1, 0)\n",
        "        logits = torch.nn.functional.log_softmax(logits, 2)\n",
        "        logits = logits.contiguous().cpu()\n",
        "        T, B, H = logits.size()\n",
        "        pred_sizes = torch.LongTensor([T for i in range(B)])\n",
        "        probs, pos = logits.max(2)\n",
        "        pos = pos.transpose(1, 0).contiguous().view(-1)\n",
        "        sim_preds = converter.decode(pos.data, pred_sizes.data, raw=False)\n",
        "        predictions.extend(sim_preds)\n",
        "        \n",
        "    make_grid(images[:10], nrow=2)\n",
        "    fig=plt.figure(figsize=(8, 8))\n",
        "    columns = 4\n",
        "    rows = 5\n",
        "    pairs = list(zip(images, predictions))\n",
        "    indices = np.random.permutation(len(pairs))\n",
        "    for i in range(1, columns*rows +1):\n",
        "        img = images[indices[i]]\n",
        "        img = (img - img.min())/(img.max() - img.min())\n",
        "        img = img.cpu()\n",
        "        img = np.array(img * 255.0, dtype=np.uint8)\n",
        "        fig.add_subplot(rows, columns, i)\n",
        "        plt.title(predictions[indices[i]])\n",
        "        plt.axis('off')\n",
        "        plt.imshow(img)\n",
        "    plt.show()\n",
        "    ca = np.mean((list(map(evaluator.char_accuracy, list(zip(predictions, labels))))))\n",
        "    wa = np.mean((list(map(evaluator.word_accuracy_line, list(zip(predictions, labels))))))\n",
        "    return ca, wa"
      ],
      "execution_count": null,
      "outputs": []
    },
    {
      "cell_type": "code",
      "metadata": {
        "colab": {
          "base_uri": "https://localhost:8080/",
          "height": 1000
        },
        "id": "N8zOiUfVwPLR",
        "outputId": "3aaca63a-0f46-4837-8ef2-e73a9ac6d76c"
      },
      "source": [
        "\n",
        "\n",
        "args['imgdir'] = 'val'\n",
        "args['data'] = SynthDataset(args)\n",
        "resume_file = os.path.join(args['save_dir'], args['name'], 'best.ckpt')\n",
        "if os.path.isfile(resume_file):\n",
        "    print('Loading model %s'%resume_file)\n",
        "    checkpoint = torch.load(resume_file)\n",
        "    model.load_state_dict(checkpoint['state_dict'])\n",
        "    args['model'] = model\n",
        "    ca, wa = get_accuracy(args)\n",
        "    print(\"Character Accuracy: %.2f\\nWord Accuracy: %.2f\"%(ca, wa))\n",
        "else:\n",
        "    print(\"=> no checkpoint found at '{}'\".format(os.path.join(args['save_dir'], args['name'])))\n",
        "    print('Exiting')\n",
        "\n"
      ],
      "execution_count": null,
      "outputs": [
        {
          "output_type": "stream",
          "text": [
            "\r  0%|          | 0/94 [00:00<?, ?it/s]"
          ],
          "name": "stderr"
        },
        {
          "output_type": "stream",
          "text": [
            "Loading model checkpoints/exp1/best.ckpt\n",
            "torch.Size([32, 1, 32, 203])\n"
          ],
          "name": "stdout"
        },
        {
          "output_type": "stream",
          "text": [
            "  2%|▏         | 2/94 [00:00<00:11,  7.71it/s]"
          ],
          "name": "stderr"
        },
        {
          "output_type": "stream",
          "text": [
            "torch.Size([32, 1, 32, 188])\n",
            "torch.Size([32, 1, 32, 244])\n"
          ],
          "name": "stdout"
        },
        {
          "output_type": "stream",
          "text": [
            "  4%|▍         | 4/94 [00:00<00:11,  7.52it/s]"
          ],
          "name": "stderr"
        },
        {
          "output_type": "stream",
          "text": [
            "torch.Size([32, 1, 32, 192])\n",
            "torch.Size([32, 1, 32, 234])\n"
          ],
          "name": "stdout"
        },
        {
          "output_type": "stream",
          "text": [
            "  6%|▋         | 6/94 [00:00<00:11,  7.57it/s]"
          ],
          "name": "stderr"
        },
        {
          "output_type": "stream",
          "text": [
            "torch.Size([32, 1, 32, 190])\n",
            "torch.Size([32, 1, 32, 198])\n"
          ],
          "name": "stdout"
        },
        {
          "output_type": "stream",
          "text": [
            "  9%|▊         | 8/94 [00:01<00:11,  7.68it/s]"
          ],
          "name": "stderr"
        },
        {
          "output_type": "stream",
          "text": [
            "torch.Size([32, 1, 32, 168])\n",
            "torch.Size([32, 1, 32, 226])\n"
          ],
          "name": "stdout"
        },
        {
          "output_type": "stream",
          "text": [
            " 11%|█         | 10/94 [00:01<00:11,  7.52it/s]"
          ],
          "name": "stderr"
        },
        {
          "output_type": "stream",
          "text": [
            "torch.Size([32, 1, 32, 211])\n",
            "torch.Size([32, 1, 32, 144])\n"
          ],
          "name": "stdout"
        },
        {
          "output_type": "stream",
          "text": [
            " 13%|█▎        | 12/94 [00:01<00:10,  7.98it/s]"
          ],
          "name": "stderr"
        },
        {
          "output_type": "stream",
          "text": [
            "torch.Size([32, 1, 32, 194])\n",
            "torch.Size([32, 1, 32, 167])\n"
          ],
          "name": "stdout"
        },
        {
          "output_type": "stream",
          "text": [
            " 15%|█▍        | 14/94 [00:01<00:09,  8.30it/s]"
          ],
          "name": "stderr"
        },
        {
          "output_type": "stream",
          "text": [
            "torch.Size([32, 1, 32, 187])\n",
            "torch.Size([32, 1, 32, 160])\n"
          ],
          "name": "stdout"
        },
        {
          "output_type": "stream",
          "text": [
            " 17%|█▋        | 16/94 [00:02<00:09,  8.52it/s]"
          ],
          "name": "stderr"
        },
        {
          "output_type": "stream",
          "text": [
            "torch.Size([32, 1, 32, 174])\n",
            "torch.Size([32, 1, 32, 165])\n"
          ],
          "name": "stdout"
        },
        {
          "output_type": "stream",
          "text": [
            " 19%|█▉        | 18/94 [00:02<00:08,  8.56it/s]"
          ],
          "name": "stderr"
        },
        {
          "output_type": "stream",
          "text": [
            "torch.Size([32, 1, 32, 174])\n",
            "torch.Size([32, 1, 32, 237])\n"
          ],
          "name": "stdout"
        },
        {
          "output_type": "stream",
          "text": [
            " 22%|██▏       | 21/94 [00:02<00:08,  8.63it/s]"
          ],
          "name": "stderr"
        },
        {
          "output_type": "stream",
          "text": [
            "torch.Size([32, 1, 32, 157])\n",
            "torch.Size([32, 1, 32, 147])\n"
          ],
          "name": "stdout"
        },
        {
          "output_type": "stream",
          "text": [
            "\r 23%|██▎       | 22/94 [00:02<00:08,  8.03it/s]"
          ],
          "name": "stderr"
        },
        {
          "output_type": "stream",
          "text": [
            "torch.Size([32, 1, 32, 235])\n",
            "torch.Size([32, 1, 32, 166])\n"
          ],
          "name": "stdout"
        },
        {
          "output_type": "stream",
          "text": [
            " 26%|██▌       | 24/94 [00:03<00:08,  7.92it/s]"
          ],
          "name": "stderr"
        },
        {
          "output_type": "stream",
          "text": [
            "torch.Size([32, 1, 32, 210])\n",
            "torch.Size([32, 1, 32, 213])\n"
          ],
          "name": "stdout"
        },
        {
          "output_type": "stream",
          "text": [
            " 28%|██▊       | 26/94 [00:03<00:08,  7.95it/s]"
          ],
          "name": "stderr"
        },
        {
          "output_type": "stream",
          "text": [
            "torch.Size([32, 1, 32, 183])\n",
            "torch.Size([32, 1, 32, 219])\n"
          ],
          "name": "stdout"
        },
        {
          "output_type": "stream",
          "text": [
            " 30%|██▉       | 28/94 [00:03<00:08,  8.06it/s]"
          ],
          "name": "stderr"
        },
        {
          "output_type": "stream",
          "text": [
            "torch.Size([32, 1, 32, 162])\n",
            "torch.Size([32, 1, 32, 199])\n"
          ],
          "name": "stdout"
        },
        {
          "output_type": "stream",
          "text": [
            " 33%|███▎      | 31/94 [00:03<00:07,  8.39it/s]"
          ],
          "name": "stderr"
        },
        {
          "output_type": "stream",
          "text": [
            "torch.Size([32, 1, 32, 172])\n",
            "torch.Size([32, 1, 32, 160])\n"
          ],
          "name": "stdout"
        },
        {
          "output_type": "stream",
          "text": [
            "\r 34%|███▍      | 32/94 [00:03<00:07,  8.51it/s]"
          ],
          "name": "stderr"
        },
        {
          "output_type": "stream",
          "text": [
            "torch.Size([32, 1, 32, 171])\n",
            "torch.Size([32, 1, 32, 156])\n"
          ],
          "name": "stdout"
        },
        {
          "output_type": "stream",
          "text": [
            " 36%|███▌      | 34/94 [00:04<00:07,  8.05it/s]"
          ],
          "name": "stderr"
        },
        {
          "output_type": "stream",
          "text": [
            "torch.Size([32, 1, 32, 226])\n",
            "torch.Size([32, 1, 32, 171])\n"
          ],
          "name": "stdout"
        },
        {
          "output_type": "stream",
          "text": [
            " 38%|███▊      | 36/94 [00:04<00:06,  8.40it/s]"
          ],
          "name": "stderr"
        },
        {
          "output_type": "stream",
          "text": [
            "torch.Size([32, 1, 32, 146])\n",
            "torch.Size([32, 1, 32, 200])\n"
          ],
          "name": "stdout"
        },
        {
          "output_type": "stream",
          "text": [
            " 40%|████      | 38/94 [00:04<00:07,  7.79it/s]"
          ],
          "name": "stderr"
        },
        {
          "output_type": "stream",
          "text": [
            "torch.Size([32, 1, 32, 253])\n",
            "torch.Size([32, 1, 32, 248])\n"
          ],
          "name": "stdout"
        },
        {
          "output_type": "stream",
          "text": [
            " 43%|████▎     | 40/94 [00:05<00:06,  7.78it/s]"
          ],
          "name": "stderr"
        },
        {
          "output_type": "stream",
          "text": [
            "torch.Size([32, 1, 32, 174])\n",
            "torch.Size([32, 1, 32, 178])\n"
          ],
          "name": "stdout"
        },
        {
          "output_type": "stream",
          "text": [
            " 45%|████▍     | 42/94 [00:05<00:06,  7.97it/s]"
          ],
          "name": "stderr"
        },
        {
          "output_type": "stream",
          "text": [
            "torch.Size([32, 1, 32, 186])\n",
            "torch.Size([32, 1, 32, 182])\n"
          ],
          "name": "stdout"
        },
        {
          "output_type": "stream",
          "text": [
            " 47%|████▋     | 44/94 [00:05<00:06,  7.82it/s]"
          ],
          "name": "stderr"
        },
        {
          "output_type": "stream",
          "text": [
            "torch.Size([32, 1, 32, 178])\n",
            "torch.Size([32, 1, 32, 234])\n"
          ],
          "name": "stdout"
        },
        {
          "output_type": "stream",
          "text": [
            " 49%|████▉     | 46/94 [00:05<00:06,  7.69it/s]"
          ],
          "name": "stderr"
        },
        {
          "output_type": "stream",
          "text": [
            "torch.Size([32, 1, 32, 160])\n",
            "torch.Size([32, 1, 32, 179])\n"
          ],
          "name": "stdout"
        },
        {
          "output_type": "stream",
          "text": [
            " 51%|█████     | 48/94 [00:06<00:05,  8.07it/s]"
          ],
          "name": "stderr"
        },
        {
          "output_type": "stream",
          "text": [
            "torch.Size([32, 1, 32, 175])\n",
            "torch.Size([32, 1, 32, 185])\n"
          ],
          "name": "stdout"
        },
        {
          "output_type": "stream",
          "text": [
            " 53%|█████▎    | 50/94 [00:06<00:05,  7.97it/s]"
          ],
          "name": "stderr"
        },
        {
          "output_type": "stream",
          "text": [
            "torch.Size([32, 1, 32, 171])\n",
            "torch.Size([32, 1, 32, 173])\n"
          ],
          "name": "stdout"
        },
        {
          "output_type": "stream",
          "text": [
            " 55%|█████▌    | 52/94 [00:06<00:05,  8.22it/s]"
          ],
          "name": "stderr"
        },
        {
          "output_type": "stream",
          "text": [
            "torch.Size([32, 1, 32, 172])\n",
            "torch.Size([32, 1, 32, 250])\n"
          ],
          "name": "stdout"
        },
        {
          "output_type": "stream",
          "text": [
            " 57%|█████▋    | 54/94 [00:06<00:05,  7.58it/s]"
          ],
          "name": "stderr"
        },
        {
          "output_type": "stream",
          "text": [
            "torch.Size([32, 1, 32, 210])\n",
            "torch.Size([32, 1, 32, 160])\n"
          ],
          "name": "stdout"
        },
        {
          "output_type": "stream",
          "text": [
            " 60%|█████▉    | 56/94 [00:07<00:04,  7.72it/s]"
          ],
          "name": "stderr"
        },
        {
          "output_type": "stream",
          "text": [
            "torch.Size([32, 1, 32, 201])\n",
            "torch.Size([32, 1, 32, 148])\n"
          ],
          "name": "stdout"
        },
        {
          "output_type": "stream",
          "text": [
            " 62%|██████▏   | 58/94 [00:07<00:04,  8.31it/s]"
          ],
          "name": "stderr"
        },
        {
          "output_type": "stream",
          "text": [
            "torch.Size([32, 1, 32, 169])\n",
            "torch.Size([32, 1, 32, 192])\n"
          ],
          "name": "stdout"
        },
        {
          "output_type": "stream",
          "text": [
            " 64%|██████▍   | 60/94 [00:07<00:03,  8.51it/s]"
          ],
          "name": "stderr"
        },
        {
          "output_type": "stream",
          "text": [
            "torch.Size([32, 1, 32, 129])\n",
            "torch.Size([32, 1, 32, 234])\n"
          ],
          "name": "stdout"
        },
        {
          "output_type": "stream",
          "text": [
            " 66%|██████▌   | 62/94 [00:07<00:04,  7.98it/s]"
          ],
          "name": "stderr"
        },
        {
          "output_type": "stream",
          "text": [
            "torch.Size([32, 1, 32, 191])\n",
            "torch.Size([32, 1, 32, 227])\n"
          ],
          "name": "stdout"
        },
        {
          "output_type": "stream",
          "text": [
            " 68%|██████▊   | 64/94 [00:08<00:03,  7.68it/s]"
          ],
          "name": "stderr"
        },
        {
          "output_type": "stream",
          "text": [
            "torch.Size([32, 1, 32, 201])\n",
            "torch.Size([32, 1, 32, 180])\n"
          ],
          "name": "stdout"
        },
        {
          "output_type": "stream",
          "text": [
            " 70%|███████   | 66/94 [00:08<00:03,  8.09it/s]"
          ],
          "name": "stderr"
        },
        {
          "output_type": "stream",
          "text": [
            "torch.Size([32, 1, 32, 156])\n",
            "torch.Size([32, 1, 32, 192])\n"
          ],
          "name": "stdout"
        },
        {
          "output_type": "stream",
          "text": [
            " 72%|███████▏  | 68/94 [00:08<00:03,  7.92it/s]"
          ],
          "name": "stderr"
        },
        {
          "output_type": "stream",
          "text": [
            "torch.Size([32, 1, 32, 198])\n",
            "torch.Size([32, 1, 32, 155])\n"
          ],
          "name": "stdout"
        },
        {
          "output_type": "stream",
          "text": [
            " 74%|███████▍  | 70/94 [00:08<00:03,  7.96it/s]"
          ],
          "name": "stderr"
        },
        {
          "output_type": "stream",
          "text": [
            "torch.Size([32, 1, 32, 216])\n",
            "torch.Size([32, 1, 32, 142])\n"
          ],
          "name": "stdout"
        },
        {
          "output_type": "stream",
          "text": [
            " 77%|███████▋  | 72/94 [00:09<00:02,  8.23it/s]"
          ],
          "name": "stderr"
        },
        {
          "output_type": "stream",
          "text": [
            "torch.Size([32, 1, 32, 205])\n",
            "torch.Size([32, 1, 32, 214])\n"
          ],
          "name": "stdout"
        },
        {
          "output_type": "stream",
          "text": [
            " 79%|███████▊  | 74/94 [00:09<00:02,  8.04it/s]"
          ],
          "name": "stderr"
        },
        {
          "output_type": "stream",
          "text": [
            "torch.Size([32, 1, 32, 177])\n",
            "torch.Size([32, 1, 32, 182])\n"
          ],
          "name": "stdout"
        },
        {
          "output_type": "stream",
          "text": [
            " 81%|████████  | 76/94 [00:09<00:02,  7.63it/s]"
          ],
          "name": "stderr"
        },
        {
          "output_type": "stream",
          "text": [
            "torch.Size([32, 1, 32, 211])\n",
            "torch.Size([32, 1, 32, 175])\n"
          ],
          "name": "stdout"
        },
        {
          "output_type": "stream",
          "text": [
            " 83%|████████▎ | 78/94 [00:09<00:01,  8.30it/s]"
          ],
          "name": "stderr"
        },
        {
          "output_type": "stream",
          "text": [
            "torch.Size([32, 1, 32, 151])\n",
            "torch.Size([32, 1, 32, 163])\n"
          ],
          "name": "stdout"
        },
        {
          "output_type": "stream",
          "text": [
            " 85%|████████▌ | 80/94 [00:10<00:01,  7.43it/s]"
          ],
          "name": "stderr"
        },
        {
          "output_type": "stream",
          "text": [
            "torch.Size([32, 1, 32, 267])\n",
            "torch.Size([32, 1, 32, 196])\n"
          ],
          "name": "stdout"
        },
        {
          "output_type": "stream",
          "text": [
            " 87%|████████▋ | 82/94 [00:10<00:01,  7.63it/s]"
          ],
          "name": "stderr"
        },
        {
          "output_type": "stream",
          "text": [
            "torch.Size([32, 1, 32, 198])\n",
            "torch.Size([32, 1, 32, 161])\n"
          ],
          "name": "stdout"
        },
        {
          "output_type": "stream",
          "text": [
            " 89%|████████▉ | 84/94 [00:10<00:01,  7.86it/s]"
          ],
          "name": "stderr"
        },
        {
          "output_type": "stream",
          "text": [
            "torch.Size([32, 1, 32, 188])\n",
            "torch.Size([32, 1, 32, 175])\n"
          ],
          "name": "stdout"
        },
        {
          "output_type": "stream",
          "text": [
            " 91%|█████████▏| 86/94 [00:10<00:00,  8.20it/s]"
          ],
          "name": "stderr"
        },
        {
          "output_type": "stream",
          "text": [
            "torch.Size([32, 1, 32, 165])\n",
            "torch.Size([32, 1, 32, 204])\n"
          ],
          "name": "stdout"
        },
        {
          "output_type": "stream",
          "text": [
            " 94%|█████████▎| 88/94 [00:11<00:00,  8.00it/s]"
          ],
          "name": "stderr"
        },
        {
          "output_type": "stream",
          "text": [
            "torch.Size([32, 1, 32, 183])\n",
            "torch.Size([32, 1, 32, 145])\n"
          ],
          "name": "stdout"
        },
        {
          "output_type": "stream",
          "text": [
            " 96%|█████████▌| 90/94 [00:11<00:00,  8.55it/s]"
          ],
          "name": "stderr"
        },
        {
          "output_type": "stream",
          "text": [
            "torch.Size([32, 1, 32, 145])\n",
            "torch.Size([32, 1, 32, 188])\n"
          ],
          "name": "stdout"
        },
        {
          "output_type": "stream",
          "text": [
            " 98%|█████████▊| 92/94 [00:11<00:00,  8.43it/s]"
          ],
          "name": "stderr"
        },
        {
          "output_type": "stream",
          "text": [
            "torch.Size([32, 1, 32, 173])\n",
            "torch.Size([32, 1, 32, 181])\n"
          ],
          "name": "stdout"
        },
        {
          "output_type": "stream",
          "text": [
            "100%|██████████| 94/94 [00:11<00:00,  8.00it/s]\n"
          ],
          "name": "stderr"
        },
        {
          "output_type": "stream",
          "text": [
            "torch.Size([24, 1, 32, 148])\n"
          ],
          "name": "stdout"
        },
        {
          "output_type": "display_data",
          "data": {
            "image/png": "[encoded data removed]",
            "text/plain": [
              "<Figure size 576x576 with 20 Axes>"
            ]
          },
          "metadata": {
            "tags": [],
            "needs_background": "light"
          }
        },
        {
          "output_type": "stream",
          "text": [
            "Character Accuracy: 77.46\n",
            "Word Accuracy: 0.39\n"
          ],
          "name": "stdout"
        }
      ]
    },
    {
      "cell_type": "code",
      "metadata": {
        "colab": {
          "base_uri": "https://localhost:8080/"
        },
        "id": "gECZxYsZzSvl",
        "outputId": "eaaee8dc-d2fb-432d-bb60-d13a0ba0324a"
      },
      "source": [
        "!git clone https://github.com/Deepayan137/Adapting-OCR.git"
      ],
      "execution_count": null,
      "outputs": [
        {
          "output_type": "stream",
          "text": [
            "Cloning into 'Adapting-OCR'...\n",
            "remote: Enumerating objects: 138, done.\u001b[K\n",
            "remote: Counting objects: 100% (138/138), done.\u001b[K\n",
            "remote: Compressing objects: 100% (90/90), done.\u001b[K\n",
            "remote: Total 138 (delta 60), reused 113 (delta 43), pack-reused 0\u001b[K\n",
            "Receiving objects: 100% (138/138), 2.49 MiB | 2.36 MiB/s, done.\n",
            "Resolving deltas: 100% (60/60), done.\n"
          ],
          "name": "stdout"
        }
      ]
    },
    {
      "cell_type": "code",
      "metadata": {
        "colab": {
          "base_uri": "https://localhost:8080/"
        },
        "id": "H5K2hh63zU7i",
        "outputId": "4df4ec91-8026-4c96-fa06-3455620e38c3"
      },
      "source": [
        "!python Adapting-OCR/main.py --name exp1 --path /content"
      ],
      "execution_count": null,
      "outputs": [
        {
          "output_type": "stream",
          "text": [
            "Traininig Data Size:24562\n",
            "Val Data Size:6141\n",
            "checkpoint does not exist\n",
            "None\n",
            "Scheduling is False\n",
            "Epoch: [0]/[50] Training:  29% 225/768 [00:23<00:56,  9.57it/s, loss=3.72, train_ca=0, train_wa=0]Traceback (most recent call last):\n",
            "  File \"Adapting-OCR/main.py\", line 105, in <module>\n",
            "    learner.fit(args)\n",
            "  File \"Adapting-OCR/main.py\", line 55, in fit\n",
            "    train_result = trainer.run_epoch()\n",
            "  File \"/content/Adapting-OCR/src/modules/trainer.py\", line 124, in run_epoch\n",
            "    for batch_nb, batch in enumerate(pbar):\n",
            "  File \"/usr/local/lib/python3.6/dist-packages/tqdm/std.py\", line 1104, in __iter__\n",
            "    for obj in iterable:\n",
            "  File \"/usr/local/lib/python3.6/dist-packages/torch/utils/data/dataloader.py\", line 435, in __next__\n",
            "    data = self._next_data()\n",
            "  File \"/usr/local/lib/python3.6/dist-packages/torch/utils/data/dataloader.py\", line 1085, in _next_data\n",
            "    return self._process_data(data)\n",
            "  File \"/usr/local/lib/python3.6/dist-packages/torch/utils/data/dataloader.py\", line 1111, in _process_data\n",
            "    data.reraise()\n",
            "  File \"/usr/local/lib/python3.6/dist-packages/torch/_utils.py\", line 428, in reraise\n",
            "    raise self.exc_type(msg)\n",
            "IsADirectoryError: Caught IsADirectoryError in DataLoader worker process 0.\n",
            "Original Traceback (most recent call last):\n",
            "  File \"/usr/local/lib/python3.6/dist-packages/torch/utils/data/_utils/worker.py\", line 198, in _worker_loop\n",
            "    data = fetcher.fetch(index)\n",
            "  File \"/usr/local/lib/python3.6/dist-packages/torch/utils/data/_utils/fetch.py\", line 44, in fetch\n",
            "    data = [self.dataset[idx] for idx in possibly_batched_index]\n",
            "  File \"/usr/local/lib/python3.6/dist-packages/torch/utils/data/_utils/fetch.py\", line 44, in <listcomp>\n",
            "    data = [self.dataset[idx] for idx in possibly_batched_index]\n",
            "  File \"/usr/local/lib/python3.6/dist-packages/torch/utils/data/dataset.py\", line 272, in __getitem__\n",
            "    return self.dataset[self.indices[idx]]\n",
            "  File \"/content/Adapting-OCR/src/data/synth_dataset.py\", line 37, in __getitem__\n",
            "    img = Image.open(imagepath)\n",
            "  File \"/usr/local/lib/python3.6/dist-packages/PIL/Image.py\", line 2809, in open\n",
            "    fp = builtins.open(filename, \"rb\")\n",
            "IsADirectoryError: [Errno 21] Is a directory: '/content/train/Untitled Folder'\n",
            "\n",
            "Epoch: [0]/[50] Training:  29% 225/768 [00:23<00:57,  9.53it/s, loss=3.72, train_ca=0, train_wa=0]\n"
          ],
          "name": "stdout"
        }
      ]
    },
    {
      "cell_type": "code",
      "metadata": {
        "colab": {
          "base_uri": "https://localhost:8080/"
        },
        "id": "FQIbOSTcz3Ub",
        "outputId": "aabed60a-fa74-4ba3-91ae-78b1d9d7e86c"
      },
      "source": [
        "!pip install pytorch-pretrained-bert"
      ],
      "execution_count": null,
      "outputs": [
        {
          "output_type": "stream",
          "text": [
            "Collecting pytorch-pretrained-bert\n",
            "\u001b[?25l  Downloading https://files.pythonhosted.org/packages/d7/e0/c08d5553b89973d9a240605b9c12404bcf8227590de62bae27acbcfe076b/pytorch_pretrained_bert-0.6.2-py3-none-any.whl (123kB)\n",
            "\r\u001b[K     |██▋                             | 10kB 24.5MB/s eta 0:00:01\r\u001b[K     |█████▎                          | 20kB 18.3MB/s eta 0:00:01\r\u001b[K     |████████                        | 30kB 10.7MB/s eta 0:00:01\r\u001b[K     |██████████▋                     | 40kB 8.7MB/s eta 0:00:01\r\u001b[K     |█████████████▎                  | 51kB 4.1MB/s eta 0:00:01\r\u001b[K     |███████████████▉                | 61kB 4.4MB/s eta 0:00:01\r\u001b[K     |██████████████████▌             | 71kB 4.7MB/s eta 0:00:01\r\u001b[K     |█████████████████████▏          | 81kB 5.0MB/s eta 0:00:01\r\u001b[K     |███████████████████████▉        | 92kB 5.3MB/s eta 0:00:01\r\u001b[K     |██████████████████████████▌     | 102kB 5.6MB/s eta 0:00:01\r\u001b[K     |█████████████████████████████▏  | 112kB 5.6MB/s eta 0:00:01\r\u001b[K     |███████████████████████████████▊| 122kB 5.6MB/s eta 0:00:01\r\u001b[K     |████████████████████████████████| 133kB 5.6MB/s \n",
            "\u001b[?25hRequirement already satisfied: torch>=0.4.1 in /usr/local/lib/python3.6/dist-packages (from pytorch-pretrained-bert) (1.7.0+cu101)\n",
            "Collecting boto3\n",
            "\u001b[?25l  Downloading https://files.pythonhosted.org/packages/7a/da/8d9a790f134b36f4e3c53f0fca330a6917a3091c61cb74d4ab1e15ee8940/boto3-1.16.54-py2.py3-none-any.whl (130kB)\n",
            "\u001b[K     |████████████████████████████████| 133kB 16.3MB/s \n",
            "\u001b[?25hRequirement already satisfied: numpy in /usr/local/lib/python3.6/dist-packages (from pytorch-pretrained-bert) (1.16.6)\n",
            "Requirement already satisfied: requests in /usr/local/lib/python3.6/dist-packages (from pytorch-pretrained-bert) (2.23.0)\n",
            "Requirement already satisfied: tqdm in /usr/local/lib/python3.6/dist-packages (from pytorch-pretrained-bert) (4.41.1)\n",
            "Requirement already satisfied: regex in /usr/local/lib/python3.6/dist-packages (from pytorch-pretrained-bert) (2019.12.20)\n",
            "Requirement already satisfied: future in /usr/local/lib/python3.6/dist-packages (from torch>=0.4.1->pytorch-pretrained-bert) (0.16.0)\n",
            "Requirement already satisfied: typing-extensions in /usr/local/lib/python3.6/dist-packages (from torch>=0.4.1->pytorch-pretrained-bert) (3.7.4.3)\n",
            "Requirement already satisfied: dataclasses in /usr/local/lib/python3.6/dist-packages (from torch>=0.4.1->pytorch-pretrained-bert) (0.8)\n",
            "Collecting botocore<1.20.0,>=1.19.54\n",
            "\u001b[?25l  Downloading https://files.pythonhosted.org/packages/83/b5/c9c91206814b35b18d8e187cea17a084a1ab24a8596764d2549de900ac83/botocore-1.19.54-py2.py3-none-any.whl (7.2MB)\n",
            "\u001b[K     |████████████████████████████████| 7.2MB 18.6MB/s \n",
            "\u001b[?25hCollecting s3transfer<0.4.0,>=0.3.0\n",
            "\u001b[?25l  Downloading https://files.pythonhosted.org/packages/ea/43/4b4a1b26eb03a429a4c37ca7fdf369d938bd60018fc194e94b8379b0c77c/s3transfer-0.3.4-py2.py3-none-any.whl (69kB)\n",
            "\u001b[K     |████████████████████████████████| 71kB 10.8MB/s \n",
            "\u001b[?25hCollecting jmespath<1.0.0,>=0.7.1\n",
            "  Downloading https://files.pythonhosted.org/packages/07/cb/5f001272b6faeb23c1c9e0acc04d48eaaf5c862c17709d20e3469c6e0139/jmespath-0.10.0-py2.py3-none-any.whl\n",
            "Requirement already satisfied: urllib3!=1.25.0,!=1.25.1,<1.26,>=1.21.1 in /usr/local/lib/python3.6/dist-packages (from requests->pytorch-pretrained-bert) (1.24.3)\n",
            "Requirement already satisfied: certifi>=2017.4.17 in /usr/local/lib/python3.6/dist-packages (from requests->pytorch-pretrained-bert) (2020.12.5)\n",
            "Requirement already satisfied: chardet<4,>=3.0.2 in /usr/local/lib/python3.6/dist-packages (from requests->pytorch-pretrained-bert) (3.0.4)\n",
            "Requirement already satisfied: idna<3,>=2.5 in /usr/local/lib/python3.6/dist-packages (from requests->pytorch-pretrained-bert) (2.10)\n",
            "Requirement already satisfied: python-dateutil<3.0.0,>=2.1 in /usr/local/lib/python3.6/dist-packages (from botocore<1.20.0,>=1.19.54->boto3->pytorch-pretrained-bert) (2.8.1)\n",
            "Requirement already satisfied: six>=1.5 in /usr/local/lib/python3.6/dist-packages (from python-dateutil<3.0.0,>=2.1->botocore<1.20.0,>=1.19.54->boto3->pytorch-pretrained-bert) (1.15.0)\n",
            "\u001b[31mERROR: botocore 1.19.54 has requirement urllib3<1.27,>=1.25.4; python_version != \"3.4\", but you'll have urllib3 1.24.3 which is incompatible.\u001b[0m\n",
            "Installing collected packages: jmespath, botocore, s3transfer, boto3, pytorch-pretrained-bert\n",
            "Successfully installed boto3-1.16.54 botocore-1.19.54 jmespath-0.10.0 pytorch-pretrained-bert-0.6.2 s3transfer-0.3.4\n"
          ],
          "name": "stdout"
        }
      ]
    },
    {
      "cell_type": "code",
      "metadata": {
        "id": "0VQYwvcA0FY0"
      },
      "source": [
        ""
      ],
      "execution_count": null,
      "outputs": []
    }
  ]
}